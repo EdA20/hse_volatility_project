{
 "cells": [
  {
   "cell_type": "code",
   "execution_count": 68,
   "id": "f531c634",
   "metadata": {},
   "outputs": [],
   "source": [
    "import pandas as pd\n",
    "import json\n",
    "from pprint import pprint"
   ]
  },
  {
   "cell_type": "code",
   "execution_count": 69,
   "id": "b090c581",
   "metadata": {},
   "outputs": [],
   "source": [
    "with open('result.json', 'r', encoding='utf-8') as f:\n",
    "    text = json.load(f) \n",
    "    #pprint(text)"
   ]
  },
  {
   "cell_type": "code",
   "execution_count": 70,
   "id": "592c0647",
   "metadata": {},
   "outputs": [],
   "source": [
    "df_nested_list = pd.json_normalize(text['messages'], record_path =['text_entities'], meta=['date', 'id'])\n",
    "df_nested_list = df_nested_list[['text', 'date', 'id']]"
   ]
  },
  {
   "cell_type": "code",
   "execution_count": 71,
   "id": "03452833",
   "metadata": {},
   "outputs": [],
   "source": [
    "df_nested_list = df_nested_list.groupby(['id', 'date'], as_index= False ).agg({'text': ' '. join })"
   ]
  },
  {
   "cell_type": "code",
   "execution_count": 72,
   "id": "135f6b41",
   "metadata": {},
   "outputs": [],
   "source": [
    "df_nested_list['text'] = df_nested_list['text'].apply(lambda x: x.replace('\\n\\n', ''))"
   ]
  },
  {
   "cell_type": "code",
   "execution_count": 75,
   "id": "ad4963a6",
   "metadata": {},
   "outputs": [],
   "source": [
    "df_nested_list['text'] = df_nested_list['text'].apply(lambda x: x.replace('\\n', ''))"
   ]
  },
  {
   "cell_type": "code",
   "execution_count": 77,
   "id": "3977d389",
   "metadata": {},
   "outputs": [],
   "source": [
    "df_nested_list.to_csv('cbonds.csv', index=False)"
   ]
  },
  {
   "cell_type": "code",
   "execution_count": 76,
   "id": "0f68c68d",
   "metadata": {},
   "outputs": [
    {
     "data": {
      "text/html": [
       "<div>\n",
       "<style scoped>\n",
       "    .dataframe tbody tr th:only-of-type {\n",
       "        vertical-align: middle;\n",
       "    }\n",
       "\n",
       "    .dataframe tbody tr th {\n",
       "        vertical-align: top;\n",
       "    }\n",
       "\n",
       "    .dataframe thead th {\n",
       "        text-align: right;\n",
       "    }\n",
       "</style>\n",
       "<table border=\"1\" class=\"dataframe\">\n",
       "  <thead>\n",
       "    <tr style=\"text-align: right;\">\n",
       "      <th></th>\n",
       "      <th>id</th>\n",
       "      <th>date</th>\n",
       "      <th>text</th>\n",
       "    </tr>\n",
       "  </thead>\n",
       "  <tbody>\n",
       "    <tr>\n",
       "      <th>0</th>\n",
       "      <td>9</td>\n",
       "      <td>2017-07-28T10:56:14</td>\n",
       "      <td>Cbonds.ru  запустило канал в Telegram. Планиру...</td>\n",
       "    </tr>\n",
       "    <tr>\n",
       "      <th>1</th>\n",
       "      <td>10</td>\n",
       "      <td>2017-08-03T15:28:17</td>\n",
       "      <td>Облигационный бюллетень Cbonds – все данные о ...</td>\n",
       "    </tr>\n",
       "    <tr>\n",
       "      <th>2</th>\n",
       "      <td>11</td>\n",
       "      <td>2017-08-03T15:41:02</td>\n",
       "      <td>Cbonds prepared monthly report: CBONDS GLOBAL ...</td>\n",
       "    </tr>\n",
       "    <tr>\n",
       "      <th>3</th>\n",
       "      <td>12</td>\n",
       "      <td>2017-08-03T18:11:32</td>\n",
       "      <td>Дайджест Cbonds от  3 августа:«Группа Компаний...</td>\n",
       "    </tr>\n",
       "    <tr>\n",
       "      <th>4</th>\n",
       "      <td>13</td>\n",
       "      <td>2017-08-04T12:42:41</td>\n",
       "      <td>Совкомбанк открыл книгу заявок на вторичное ра...</td>\n",
       "    </tr>\n",
       "    <tr>\n",
       "      <th>...</th>\n",
       "      <td>...</td>\n",
       "      <td>...</td>\n",
       "      <td>...</td>\n",
       "    </tr>\n",
       "    <tr>\n",
       "      <th>11997</th>\n",
       "      <td>13124</td>\n",
       "      <td>2022-11-04T12:38:56</td>\n",
       "      <td>​​ #РейтингиСНГ  🗂 Присвоение / Изменение рейт...</td>\n",
       "    </tr>\n",
       "    <tr>\n",
       "      <th>11998</th>\n",
       "      <td>13125</td>\n",
       "      <td>2022-11-04T13:17:23</td>\n",
       "      <td>#CbondsNewsletter 🌎📰  В октябре объем новых вы...</td>\n",
       "    </tr>\n",
       "    <tr>\n",
       "      <th>11999</th>\n",
       "      <td>13126</td>\n",
       "      <td>2022-11-04T14:30:00</td>\n",
       "      <td>​​ 🏢Онлайн-семинар «Ключевые факты, финансовые...</td>\n",
       "    </tr>\n",
       "    <tr>\n",
       "      <th>12000</th>\n",
       "      <td>13128</td>\n",
       "      <td>2022-11-05T11:30:11</td>\n",
       "      <td>#Аналитика   🏆 Research Hub Cbonds: самое попу...</td>\n",
       "    </tr>\n",
       "    <tr>\n",
       "      <th>12001</th>\n",
       "      <td>13129</td>\n",
       "      <td>2022-11-05T16:05:06</td>\n",
       "      <td>#Интересное   🏦🔎Новый этап внедрения цифровых ...</td>\n",
       "    </tr>\n",
       "  </tbody>\n",
       "</table>\n",
       "<p>12002 rows × 3 columns</p>\n",
       "</div>"
      ],
      "text/plain": [
       "          id                 date  \\\n",
       "0          9  2017-07-28T10:56:14   \n",
       "1         10  2017-08-03T15:28:17   \n",
       "2         11  2017-08-03T15:41:02   \n",
       "3         12  2017-08-03T18:11:32   \n",
       "4         13  2017-08-04T12:42:41   \n",
       "...      ...                  ...   \n",
       "11997  13124  2022-11-04T12:38:56   \n",
       "11998  13125  2022-11-04T13:17:23   \n",
       "11999  13126  2022-11-04T14:30:00   \n",
       "12000  13128  2022-11-05T11:30:11   \n",
       "12001  13129  2022-11-05T16:05:06   \n",
       "\n",
       "                                                    text  \n",
       "0      Cbonds.ru  запустило канал в Telegram. Планиру...  \n",
       "1      Облигационный бюллетень Cbonds – все данные о ...  \n",
       "2      Cbonds prepared monthly report: CBONDS GLOBAL ...  \n",
       "3      Дайджест Cbonds от  3 августа:«Группа Компаний...  \n",
       "4      Совкомбанк открыл книгу заявок на вторичное ра...  \n",
       "...                                                  ...  \n",
       "11997  ​​ #РейтингиСНГ  🗂 Присвоение / Изменение рейт...  \n",
       "11998  #CbondsNewsletter 🌎📰  В октябре объем новых вы...  \n",
       "11999  ​​ 🏢Онлайн-семинар «Ключевые факты, финансовые...  \n",
       "12000  #Аналитика   🏆 Research Hub Cbonds: самое попу...  \n",
       "12001  #Интересное   🏦🔎Новый этап внедрения цифровых ...  \n",
       "\n",
       "[12002 rows x 3 columns]"
      ]
     },
     "execution_count": 76,
     "metadata": {},
     "output_type": "execute_result"
    }
   ],
   "source": [
    "df_nested_list"
   ]
  },
  {
   "cell_type": "code",
   "execution_count": null,
   "id": "43b0ec2f",
   "metadata": {},
   "outputs": [],
   "source": []
  }
 ],
 "metadata": {
  "kernelspec": {
   "display_name": "Python 3 (ipykernel)",
   "language": "python",
   "name": "python3"
  },
  "language_info": {
   "codemirror_mode": {
    "name": "ipython",
    "version": 3
   },
   "file_extension": ".py",
   "mimetype": "text/x-python",
   "name": "python",
   "nbconvert_exporter": "python",
   "pygments_lexer": "ipython3",
   "version": "3.9.12"
  }
 },
 "nbformat": 4,
 "nbformat_minor": 5
}
