{
 "cells": [
  {
   "cell_type": "code",
   "execution_count": 1,
   "id": "6b0b31e6",
   "metadata": {},
   "outputs": [],
   "source": [
    " from __future__ import print_function\n",
    "\n",
    "import os.path\n",
    "\n",
    "from google.auth.transport.requests import Request\n",
    "from google.oauth2.credentials import Credentials\n",
    "from google_auth_oauthlib.flow import InstalledAppFlow\n",
    "from googleapiclient.discovery import build\n",
    "from googleapiclient.errors import HttpError\n",
    "from bs4 import BeautifulSoup\n",
    "import base64\n",
    "import re\n",
    "import pandas as pd"
   ]
  },
  {
   "cell_type": "code",
   "execution_count": 2,
   "id": "14142ba5",
   "metadata": {
    "scrolled": true
   },
   "outputs": [],
   "source": [
    "# чтобы это запустилось, нужно сделать что написано здесь https://developers.google.com/gmail/api/quickstart/python\n",
    "# часть кода взята отсюда https://www.geeksforgeeks.org/how-to-read-emails-from-gmail-using-gmail-api-in-python/\n",
    "\n",
    "SCOPES = ['https://www.googleapis.com/auth/gmail.readonly']\n",
    "\n",
    "creds = None\n",
    "if os.path.exists('token.json'):\n",
    "    creds = Credentials.from_authorized_user_file('token.json', SCOPES)\n",
    "if not creds or not creds.valid:\n",
    "    if creds and creds.expired and creds.refresh_token:\n",
    "        creds.refresh(Request())\n",
    "    else:\n",
    "        flow = InstalledAppFlow.from_client_secrets_file(\n",
    "            'credentials.json', SCOPES)\n",
    "        creds = flow.run_local_server(port=0)\n",
    "    with open('token.json', 'w') as token:\n",
    "        token.write(creds.to_json())\n",
    "\n",
    "service = build('gmail', 'v1', credentials=creds)\n",
    "  \n",
    "result = service.users().messages().list(userId='me').execute()\n",
    "\n",
    "messages = result.get('messages')"
   ]
  },
  {
   "cell_type": "code",
   "execution_count": 3,
   "id": "f707bd67",
   "metadata": {
    "scrolled": true
   },
   "outputs": [],
   "source": [
    "for msg in messages:\n",
    "    txt = service.users().messages().get(userId='me', id=msg['id']).execute()\n",
    "    if 'STARRED' in txt['labelIds']:\n",
    "        txt = service.users().messages().get(userId='me', id=msg['id']).execute()\n",
    "        payload = txt['payload']\n",
    "        headers = payload['headers']\n",
    "        \n",
    "        for d in headers:\n",
    "            if d['name'] == 'Subject':\n",
    "                subject = d['value']\n",
    "            if d['name'] == 'From':\n",
    "                sender = d['value']\n",
    "        \n",
    "        parts = payload.get('parts')[0]\n",
    "        if 'АТОН' in subject:\n",
    "            data = parts.get('parts')[0]['body']['data']\n",
    "        else:\n",
    "            data = parts['body']['data']\n",
    "        data = data.replace(\"-\",\"+\").replace(\"_\",\"/\")\n",
    "        decoded_data = base64.b64decode(data)\n",
    "        soup = BeautifulSoup(decoded_data , \"lxml\")\n",
    "        body = soup.body()\n",
    "        \n",
    "        lines = [re.sub('\\s+', ' ', i.get_text(strip=True)) for i in soup.find_all('span')]\n",
    "        lines = [i for i in lines if len(i) > 20]\n",
    "        lines.extend(['конец аналитической записки', ''])\n",
    "        with open('записки.txt', 'a') as f:\n",
    "            for line in lines:\n",
    "                try:\n",
    "                    f.write(line)\n",
    "                    f.write('\\n')\n",
    "                except:\n",
    "                    pass"
   ]
  },
  {
   "cell_type": "code",
   "execution_count": 143,
   "id": "e06b73b2",
   "metadata": {},
   "outputs": [],
   "source": [
    "# для теста\n",
    "lines = [re.sub('\\s+', ' ', i.get_text(strip=True)) for i in soup.find_all('span')]\n",
    "lines = [i for i in lines if len(i) > 20]\n",
    "lines.extend(['конец аналитической записки', ''])\n",
    "with open('news1.txt', 'a') as f:\n",
    "    for line in lines:\n",
    "        try:\n",
    "            f.write(line)\n",
    "            f.write('\\n')\n",
    "        except:\n",
    "            pass"
   ]
  },
  {
   "cell_type": "code",
   "execution_count": null,
   "id": "b2f25077",
   "metadata": {},
   "outputs": [],
   "source": []
  }
 ],
 "metadata": {
  "kernelspec": {
   "display_name": "Python 3 (ipykernel)",
   "language": "python",
   "name": "python3"
  },
  "language_info": {
   "codemirror_mode": {
    "name": "ipython",
    "version": 3
   },
   "file_extension": ".py",
   "mimetype": "text/x-python",
   "name": "python",
   "nbconvert_exporter": "python",
   "pygments_lexer": "ipython3",
   "version": "3.9.12"
  }
 },
 "nbformat": 4,
 "nbformat_minor": 5
}
