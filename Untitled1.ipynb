{
 "cells": [
  {
   "cell_type": "code",
   "execution_count": 1,
   "id": "29895fe8",
   "metadata": {},
   "outputs": [
    {
     "ename": "ModuleNotFoundError",
     "evalue": "No module named 'dlnlputils'",
     "output_type": "error",
     "traceback": [
      "\u001b[1;31m---------------------------------------------------------------------------\u001b[0m",
      "\u001b[1;31mModuleNotFoundError\u001b[0m                       Traceback (most recent call last)",
      "Input \u001b[1;32mIn [1]\u001b[0m, in \u001b[0;36m<cell line: 18>\u001b[1;34m()\u001b[0m\n\u001b[0;32m     15\u001b[0m \u001b[38;5;28;01mfrom\u001b[39;00m \u001b[38;5;21;01mtorch\u001b[39;00m \u001b[38;5;28;01mimport\u001b[39;00m nn\n\u001b[0;32m     16\u001b[0m \u001b[38;5;28;01mfrom\u001b[39;00m \u001b[38;5;21;01mtorch\u001b[39;00m\u001b[38;5;21;01m.\u001b[39;00m\u001b[38;5;21;01mnn\u001b[39;00m \u001b[38;5;28;01mimport\u001b[39;00m functional \u001b[38;5;28;01mas\u001b[39;00m F\n\u001b[1;32m---> 18\u001b[0m \u001b[38;5;28;01mimport\u001b[39;00m \u001b[38;5;21;01mdlnlputils\u001b[39;00m\n\u001b[0;32m     19\u001b[0m \u001b[38;5;28;01mfrom\u001b[39;00m \u001b[38;5;21;01mdlnlputils\u001b[39;00m\u001b[38;5;21;01m.\u001b[39;00m\u001b[38;5;21;01mdata\u001b[39;00m \u001b[38;5;28;01mimport\u001b[39;00m tokenize_text_simple_regex, tokenize_corpus, build_vocabulary, \\\n\u001b[0;32m     20\u001b[0m     vectorize_texts, SparseFeaturesDataset\n\u001b[0;32m     21\u001b[0m \u001b[38;5;28;01mfrom\u001b[39;00m \u001b[38;5;21;01mdlnlputils\u001b[39;00m\u001b[38;5;21;01m.\u001b[39;00m\u001b[38;5;21;01mpipeline\u001b[39;00m \u001b[38;5;28;01mimport\u001b[39;00m train_eval_loop, predict_with_model, init_random_seed\n",
      "\u001b[1;31mModuleNotFoundError\u001b[0m: No module named 'dlnlputils'"
     ]
    }
   ],
   "source": [
    "!git clone https://github.com/Samsung-IT-Academy/stepik-dl-nlp.git && pip install -r stepik-dl-nlp/requirements.txt\n",
    "import sys; sys.path.append('./stepik-dl-nlp')\n",
    "\n",
    "import warnings\n",
    "warnings.filterwarnings('ignore')\n",
    "\n",
    "from sklearn.datasets import fetch_20newsgroups\n",
    "from sklearn.metrics import accuracy_score\n",
    "\n",
    "import numpy as np\n",
    "\n",
    "import matplotlib.pyplot as plt\n",
    "%matplotlib inline\n",
    "\n",
    "import collections\n",
    "\n",
    "import torch\n",
    "from torch import nn\n",
    "from torch.nn import functional as F\n",
    "\n",
    "import dlnlputils\n",
    "from dlnlputils.data import tokenize_text_simple_regex, tokenize_corpus, build_vocabulary, \\\n",
    "    vectorize_texts, SparseFeaturesDataset\n",
    "from dlnlputils.pipeline import train_eval_loop, predict_with_model, init_random_seed\n",
    "\n",
    "init_random_seed()"
   ]
  },
  {
   "cell_type": "code",
   "execution_count": 9,
   "id": "90fd0838",
   "metadata": {},
   "outputs": [
    {
     "name": "stdout",
     "output_type": "stream",
     "text": [
      "Collecting spacy_udpipe\n",
      "  Using cached spacy_udpipe-1.0.0-py3-none-any.whl (11 kB)\n",
      "Requirement already satisfied: spacy<4.0.0,>=3.0.0 in c:\\users\\tlpaniutina\\anaconda3\\lib\\site-packages (from spacy_udpipe) (3.4.3)\n",
      "Collecting ufal.udpipe>=1.2.0\n",
      "  Using cached ufal.udpipe-1.2.0.3.tar.gz (304 kB)\n",
      "Requirement already satisfied: thinc<8.2.0,>=8.1.0 in c:\\users\\tlpaniutina\\anaconda3\\lib\\site-packages (from spacy<4.0.0,>=3.0.0->spacy_udpipe) (8.1.5)\n",
      "Requirement already satisfied: spacy-legacy<3.1.0,>=3.0.10 in c:\\users\\tlpaniutina\\anaconda3\\lib\\site-packages (from spacy<4.0.0,>=3.0.0->spacy_udpipe) (3.0.10)\n",
      "Requirement already satisfied: wasabi<1.1.0,>=0.9.1 in c:\\users\\tlpaniutina\\anaconda3\\lib\\site-packages (from spacy<4.0.0,>=3.0.0->spacy_udpipe) (0.10.1)\n",
      "Requirement already satisfied: preshed<3.1.0,>=3.0.2 in c:\\users\\tlpaniutina\\anaconda3\\lib\\site-packages (from spacy<4.0.0,>=3.0.0->spacy_udpipe) (3.0.8)\n",
      "Requirement already satisfied: cymem<2.1.0,>=2.0.2 in c:\\users\\tlpaniutina\\anaconda3\\lib\\site-packages (from spacy<4.0.0,>=3.0.0->spacy_udpipe) (2.0.7)\n",
      "Requirement already satisfied: tqdm<5.0.0,>=4.38.0 in c:\\users\\tlpaniutina\\anaconda3\\lib\\site-packages (from spacy<4.0.0,>=3.0.0->spacy_udpipe) (4.64.0)\n",
      "Requirement already satisfied: jinja2 in c:\\users\\tlpaniutina\\anaconda3\\lib\\site-packages (from spacy<4.0.0,>=3.0.0->spacy_udpipe) (2.11.3)\n",
      "Requirement already satisfied: srsly<3.0.0,>=2.4.3 in c:\\users\\tlpaniutina\\anaconda3\\lib\\site-packages (from spacy<4.0.0,>=3.0.0->spacy_udpipe) (2.4.5)\n",
      "Requirement already satisfied: spacy-loggers<2.0.0,>=1.0.0 in c:\\users\\tlpaniutina\\anaconda3\\lib\\site-packages (from spacy<4.0.0,>=3.0.0->spacy_udpipe) (1.0.3)\n",
      "Requirement already satisfied: numpy>=1.15.0 in c:\\users\\tlpaniutina\\anaconda3\\lib\\site-packages (from spacy<4.0.0,>=3.0.0->spacy_udpipe) (1.21.5)\n",
      "Requirement already satisfied: requests<3.0.0,>=2.13.0 in c:\\users\\tlpaniutina\\anaconda3\\lib\\site-packages (from spacy<4.0.0,>=3.0.0->spacy_udpipe) (2.27.1)\n",
      "Requirement already satisfied: setuptools in c:\\users\\tlpaniutina\\anaconda3\\lib\\site-packages (from spacy<4.0.0,>=3.0.0->spacy_udpipe) (61.2.0)\n",
      "Requirement already satisfied: langcodes<4.0.0,>=3.2.0 in c:\\users\\tlpaniutina\\anaconda3\\lib\\site-packages (from spacy<4.0.0,>=3.0.0->spacy_udpipe) (3.3.0)\n",
      "Requirement already satisfied: catalogue<2.1.0,>=2.0.6 in c:\\users\\tlpaniutina\\anaconda3\\lib\\site-packages (from spacy<4.0.0,>=3.0.0->spacy_udpipe) (2.0.8)\n",
      "Requirement already satisfied: pydantic!=1.8,!=1.8.1,<1.11.0,>=1.7.4 in c:\\users\\tlpaniutina\\anaconda3\\lib\\site-packages (from spacy<4.0.0,>=3.0.0->spacy_udpipe) (1.8.2)\n",
      "Requirement already satisfied: pathy>=0.3.5 in c:\\users\\tlpaniutina\\anaconda3\\lib\\site-packages (from spacy<4.0.0,>=3.0.0->spacy_udpipe) (0.10.0)\n",
      "Requirement already satisfied: packaging>=20.0 in c:\\users\\tlpaniutina\\anaconda3\\lib\\site-packages (from spacy<4.0.0,>=3.0.0->spacy_udpipe) (21.3)\n",
      "Requirement already satisfied: typer<0.8.0,>=0.3.0 in c:\\users\\tlpaniutina\\anaconda3\\lib\\site-packages (from spacy<4.0.0,>=3.0.0->spacy_udpipe) (0.4.2)\n",
      "Requirement already satisfied: murmurhash<1.1.0,>=0.28.0 in c:\\users\\tlpaniutina\\anaconda3\\lib\\site-packages (from spacy<4.0.0,>=3.0.0->spacy_udpipe) (1.0.9)\n",
      "Requirement already satisfied: pyparsing!=3.0.5,>=2.0.2 in c:\\users\\tlpaniutina\\anaconda3\\lib\\site-packages (from packaging>=20.0->spacy<4.0.0,>=3.0.0->spacy_udpipe) (3.0.4)\n",
      "Requirement already satisfied: smart-open<6.0.0,>=5.2.1 in c:\\users\\tlpaniutina\\anaconda3\\lib\\site-packages (from pathy>=0.3.5->spacy<4.0.0,>=3.0.0->spacy_udpipe) (5.2.1)\n",
      "Requirement already satisfied: typing-extensions>=3.7.4.3 in c:\\users\\tlpaniutina\\anaconda3\\lib\\site-packages (from pydantic!=1.8,!=1.8.1,<1.11.0,>=1.7.4->spacy<4.0.0,>=3.0.0->spacy_udpipe) (4.1.1)\n",
      "Requirement already satisfied: idna<4,>=2.5 in c:\\users\\tlpaniutina\\anaconda3\\lib\\site-packages (from requests<3.0.0,>=2.13.0->spacy<4.0.0,>=3.0.0->spacy_udpipe) (3.3)\n",
      "Requirement already satisfied: urllib3<1.27,>=1.21.1 in c:\\users\\tlpaniutina\\anaconda3\\lib\\site-packages (from requests<3.0.0,>=2.13.0->spacy<4.0.0,>=3.0.0->spacy_udpipe) (1.26.9)\n",
      "Requirement already satisfied: charset-normalizer~=2.0.0 in c:\\users\\tlpaniutina\\anaconda3\\lib\\site-packages (from requests<3.0.0,>=2.13.0->spacy<4.0.0,>=3.0.0->spacy_udpipe) (2.0.4)\n",
      "Requirement already satisfied: certifi>=2017.4.17 in c:\\users\\tlpaniutina\\anaconda3\\lib\\site-packages (from requests<3.0.0,>=2.13.0->spacy<4.0.0,>=3.0.0->spacy_udpipe) (2021.10.8)\n",
      "Requirement already satisfied: blis<0.8.0,>=0.7.8 in c:\\users\\tlpaniutina\\anaconda3\\lib\\site-packages (from thinc<8.2.0,>=8.1.0->spacy<4.0.0,>=3.0.0->spacy_udpipe) (0.7.9)\n",
      "Requirement already satisfied: confection<1.0.0,>=0.0.1 in c:\\users\\tlpaniutina\\anaconda3\\lib\\site-packages (from thinc<8.2.0,>=8.1.0->spacy<4.0.0,>=3.0.0->spacy_udpipe) (0.0.3)\n",
      "Requirement already satisfied: colorama in c:\\users\\tlpaniutina\\anaconda3\\lib\\site-packages (from tqdm<5.0.0,>=4.38.0->spacy<4.0.0,>=3.0.0->spacy_udpipe) (0.4.4)\n",
      "Requirement already satisfied: click<9.0.0,>=7.1.1 in c:\\users\\tlpaniutina\\anaconda3\\lib\\site-packages (from typer<0.8.0,>=0.3.0->spacy<4.0.0,>=3.0.0->spacy_udpipe) (7.1.2)\n",
      "Requirement already satisfied: MarkupSafe>=0.23 in c:\\users\\tlpaniutina\\anaconda3\\lib\\site-packages (from jinja2->spacy<4.0.0,>=3.0.0->spacy_udpipe) (2.0.1)\n",
      "Building wheels for collected packages: ufal.udpipe\n",
      "  Building wheel for ufal.udpipe (setup.py): started\n",
      "  Building wheel for ufal.udpipe (setup.py): finished with status 'error'\n",
      "  Running setup.py clean for ufal.udpipe\n",
      "Failed to build ufal.udpipe\n",
      "Installing collected packages: ufal.udpipe, spacy-udpipe\n",
      "    Running setup.py install for ufal.udpipe: started\n",
      "    Running setup.py install for ufal.udpipe: finished with status 'error'\n"
     ]
    },
    {
     "name": "stderr",
     "output_type": "stream",
     "text": [
      "  ERROR: Command errored out with exit status 1:\n",
      "   command: 'C:\\Users\\tlpaniutina\\Anaconda3\\python.exe' -u -c 'import io, os, sys, setuptools, tokenize; sys.argv[0] = '\"'\"'C:\\\\Users\\\\tlpaniutina\\\\AppData\\\\Local\\\\Temp\\\\pip-install-iaaog1fy\\\\ufal-udpipe_93ac570304f244c4a2a04803b05b1961\\\\setup.py'\"'\"'; __file__='\"'\"'C:\\\\Users\\\\tlpaniutina\\\\AppData\\\\Local\\\\Temp\\\\pip-install-iaaog1fy\\\\ufal-udpipe_93ac570304f244c4a2a04803b05b1961\\\\setup.py'\"'\"';f = getattr(tokenize, '\"'\"'open'\"'\"', open)(__file__) if os.path.exists(__file__) else io.StringIO('\"'\"'from setuptools import setup; setup()'\"'\"');code = f.read().replace('\"'\"'\\r\\n'\"'\"', '\"'\"'\\n'\"'\"');f.close();exec(compile(code, __file__, '\"'\"'exec'\"'\"'))' bdist_wheel -d 'C:\\Users\\tlpaniutina\\AppData\\Local\\Temp\\pip-wheel-c1frphwr'\n",
      "       cwd: C:\\Users\\tlpaniutina\\AppData\\Local\\Temp\\pip-install-iaaog1fy\\ufal-udpipe_93ac570304f244c4a2a04803b05b1961\\\n",
      "  Complete output (11 lines):\n",
      "  running bdist_wheel\n",
      "  running build\n",
      "  running build_py\n",
      "  creating build\n",
      "  creating build\\lib.win-amd64-3.9\n",
      "  creating build\\lib.win-amd64-3.9\\ufal\n",
      "  copying ufal\\__init__.py -> build\\lib.win-amd64-3.9\\ufal\n",
      "  copying ufal\\udpipe.py -> build\\lib.win-amd64-3.9\\ufal\n",
      "  running build_ext\n",
      "  building 'ufal._udpipe' extension\n",
      "  error: Microsoft Visual C++ 14.0 or greater is required. Get it with \"Microsoft C++ Build Tools\": https://visualstudio.microsoft.com/visual-cpp-build-tools/\n",
      "  ----------------------------------------\n",
      "  ERROR: Failed building wheel for ufal.udpipe\n",
      "    ERROR: Command errored out with exit status 1:\n",
      "     command: 'C:\\Users\\tlpaniutina\\Anaconda3\\python.exe' -u -c 'import io, os, sys, setuptools, tokenize; sys.argv[0] = '\"'\"'C:\\\\Users\\\\tlpaniutina\\\\AppData\\\\Local\\\\Temp\\\\pip-install-iaaog1fy\\\\ufal-udpipe_93ac570304f244c4a2a04803b05b1961\\\\setup.py'\"'\"'; __file__='\"'\"'C:\\\\Users\\\\tlpaniutina\\\\AppData\\\\Local\\\\Temp\\\\pip-install-iaaog1fy\\\\ufal-udpipe_93ac570304f244c4a2a04803b05b1961\\\\setup.py'\"'\"';f = getattr(tokenize, '\"'\"'open'\"'\"', open)(__file__) if os.path.exists(__file__) else io.StringIO('\"'\"'from setuptools import setup; setup()'\"'\"');code = f.read().replace('\"'\"'\\r\\n'\"'\"', '\"'\"'\\n'\"'\"');f.close();exec(compile(code, __file__, '\"'\"'exec'\"'\"'))' install --record 'C:\\Users\\tlpaniutina\\AppData\\Local\\Temp\\pip-record-ttglqp7m\\install-record.txt' --single-version-externally-managed --compile --install-headers 'C:\\Users\\tlpaniutina\\Anaconda3\\Include\\ufal.udpipe'\n",
      "         cwd: C:\\Users\\tlpaniutina\\AppData\\Local\\Temp\\pip-install-iaaog1fy\\ufal-udpipe_93ac570304f244c4a2a04803b05b1961\\\n",
      "    Complete output (13 lines):\n",
      "    running install\n",
      "    C:\\Users\\tlpaniutina\\Anaconda3\\lib\\site-packages\\setuptools\\command\\install.py:34: SetuptoolsDeprecationWarning: setup.py install is deprecated. Use build and pip and other standards-based tools.\n",
      "      warnings.warn(\n",
      "    running build\n",
      "    running build_py\n",
      "    creating build\n",
      "    creating build\\lib.win-amd64-3.9\n",
      "    creating build\\lib.win-amd64-3.9\\ufal\n",
      "    copying ufal\\__init__.py -> build\\lib.win-amd64-3.9\\ufal\n",
      "    copying ufal\\udpipe.py -> build\\lib.win-amd64-3.9\\ufal\n",
      "    running build_ext\n",
      "    building 'ufal._udpipe' extension\n",
      "    error: Microsoft Visual C++ 14.0 or greater is required. Get it with \"Microsoft C++ Build Tools\": https://visualstudio.microsoft.com/visual-cpp-build-tools/\n",
      "    ----------------------------------------\n",
      "ERROR: Command errored out with exit status 1: 'C:\\Users\\tlpaniutina\\Anaconda3\\python.exe' -u -c 'import io, os, sys, setuptools, tokenize; sys.argv[0] = '\"'\"'C:\\\\Users\\\\tlpaniutina\\\\AppData\\\\Local\\\\Temp\\\\pip-install-iaaog1fy\\\\ufal-udpipe_93ac570304f244c4a2a04803b05b1961\\\\setup.py'\"'\"'; __file__='\"'\"'C:\\\\Users\\\\tlpaniutina\\\\AppData\\\\Local\\\\Temp\\\\pip-install-iaaog1fy\\\\ufal-udpipe_93ac570304f244c4a2a04803b05b1961\\\\setup.py'\"'\"';f = getattr(tokenize, '\"'\"'open'\"'\"', open)(__file__) if os.path.exists(__file__) else io.StringIO('\"'\"'from setuptools import setup; setup()'\"'\"');code = f.read().replace('\"'\"'\\r\\n'\"'\"', '\"'\"'\\n'\"'\"');f.close();exec(compile(code, __file__, '\"'\"'exec'\"'\"'))' install --record 'C:\\Users\\tlpaniutina\\AppData\\Local\\Temp\\pip-record-ttglqp7m\\install-record.txt' --single-version-externally-managed --compile --install-headers 'C:\\Users\\tlpaniutina\\Anaconda3\\Include\\ufal.udpipe' Check the logs for full command output.\n"
     ]
    }
   ],
   "source": [
    "!pip install spacy_udpipe"
   ]
  },
  {
   "cell_type": "code",
   "execution_count": 2,
   "id": "129bab82",
   "metadata": {},
   "outputs": [],
   "source": [
    "import numpy as np\n",
    "import scipy.sparse\n",
    "import torch\n",
    "from torch.utils.data import Dataset"
   ]
  },
  {
   "cell_type": "code",
   "execution_count": null,
   "id": "318333aa",
   "metadata": {},
   "outputs": [],
   "source": [
    "#подготовка признаков"
   ]
  },
  {
   "cell_type": "code",
   "execution_count": 5,
   "id": "023efcc5",
   "metadata": {},
   "outputs": [],
   "source": [
    "import collections\n",
    "import re\n",
    "\n",
    "import numpy as np\n",
    "\n",
    "TOKEN_RE = re.compile(r'[\\w\\d]+')\n",
    "\n",
    "\n",
    "def tokenize_text_simple_regex(txt, min_token_size=4):\n",
    "    txt = txt.lower()\n",
    "    all_tokens = TOKEN_RE.findall(txt)\n",
    "    return [token for token in all_tokens if len(token) >= min_token_size]\n",
    "\n",
    "\n",
    "def character_tokenize(txt):\n",
    "    return list(txt)\n",
    "\n",
    "\n",
    "def tokenize_corpus(texts, tokenizer=tokenize_text_simple_regex, **tokenizer_kwargs):\n",
    "    return [tokenizer(text, **tokenizer_kwargs) for text in texts]\n",
    "\n",
    "\n",
    "def add_fake_token(word2id, token=''):\n",
    "    word2id_new = {token: i + 1 for token, i in word2id.items()}\n",
    "    word2id_new[token] = 0\n",
    "    return word2id_new\n",
    "\n",
    "\n",
    "def texts_to_token_ids(tokenized_texts, word2id):\n",
    "    return [[word2id[token] for token in text if token in word2id]\n",
    "            for text in tokenized_texts]\n",
    "\n",
    "\n",
    "def build_vocabulary(tokenized_texts, max_size=1000000, max_doc_freq=0.8, min_count=5, pad_word=None):\n",
    "    word_counts = collections.defaultdict(int)\n",
    "    doc_n = 0\n",
    "\n",
    "    # посчитать количество документов, в которых употребляется каждое слово\n",
    "    # а также общее количество документов\n",
    "    for txt in tokenized_texts:\n",
    "        doc_n += 1\n",
    "        unique_text_tokens = set(txt)\n",
    "        for token in unique_text_tokens:\n",
    "            word_counts[token] += 1\n",
    "\n",
    "    # убрать слишком редкие и слишком частые слова\n",
    "    word_counts = {word: cnt for word, cnt in word_counts.items()\n",
    "                   if cnt >= min_count and cnt / doc_n <= max_doc_freq}\n",
    "\n",
    "    # отсортировать слова по убыванию частоты\n",
    "    sorted_word_counts = sorted(word_counts.items(),\n",
    "                                reverse=True,\n",
    "                                key=lambda pair: pair[1])\n",
    "\n",
    "    # добавим несуществующее слово с индексом 0 для удобства пакетной обработки\n",
    "    if pad_word is not None:\n",
    "        sorted_word_counts = [(pad_word, 0)] + sorted_word_counts\n",
    "\n",
    "    # если у нас по прежнему слишком много слов, оставить только max_size самых частотных\n",
    "    if len(word_counts) > max_size:\n",
    "        sorted_word_counts = sorted_word_counts[:max_size]\n",
    "\n",
    "    # нумеруем слова\n",
    "    word2id = {word: i for i, (word, _) in enumerate(sorted_word_counts)}\n",
    "\n",
    "    # нормируем частоты слов\n",
    "    word2freq = np.array([cnt / doc_n for _, cnt in sorted_word_counts], dtype='float32')\n",
    "\n",
    "    return word2id, word2freq\n",
    "\n",
    "\n",
    "PAD_TOKEN = '__PAD__'\n",
    "NUMERIC_TOKEN = '__NUMBER__'\n",
    "NUMERIC_RE = re.compile(r'^([0-9.,e+\\-]+|[mcxvi]+)$', re.I)\n",
    "\n",
    "\n",
    "def replace_number_nokens(tokenized_texts):\n",
    "    return [[token if not NUMERIC_RE.match(token) else NUMERIC_TOKEN for token in text]\n",
    "            for text in tokenized_texts]"
   ]
  },
  {
   "cell_type": "code",
   "execution_count": 6,
   "id": "c2fae2d3",
   "metadata": {},
   "outputs": [],
   "source": [
    "import numpy as np\n",
    "import scipy.sparse\n",
    "import torch\n",
    "from torch.utils.data import Dataset\n",
    "\n",
    "\n",
    "def vectorize_texts(tokenized_texts, word2id, word2freq, mode='tfidf', scale=True):\n",
    "    assert mode in {'tfidf', 'idf', 'tf', 'bin'}\n",
    "\n",
    "    # считаем количество употреблений каждого слова в каждом документе\n",
    "    result = scipy.sparse.dok_matrix((len(tokenized_texts), len(word2id)), dtype='float32')\n",
    "    for text_i, text in enumerate(tokenized_texts):\n",
    "        for token in text:\n",
    "            if token in word2id:\n",
    "                result[text_i, word2id[token]] += 1\n",
    "\n",
    "    # получаем бинарные вектора \"встречается или нет\"\n",
    "    if mode == 'bin':\n",
    "        result = (result > 0).astype('float32')\n",
    "\n",
    "    # получаем вектора относительных частот слова в документе\n",
    "    elif mode == 'tf':\n",
    "        result = result.tocsr()\n",
    "        result = result.multiply(1 / result.sum(1))\n",
    "\n",
    "    # полностью убираем информацию о количестве употреблений слова в данном документе,\n",
    "    # но оставляем информацию о частотности слова в корпусе в целом\n",
    "    elif mode == 'idf':\n",
    "        result = (result > 0).astype('float32').multiply(1 / word2freq)\n",
    "\n",
    "    # учитываем всю информацию, которая у нас есть:\n",
    "    # частоту слова в документе и частоту слова в корпусе\n",
    "    elif mode == 'tfidf':\n",
    "        result = result.tocsr()\n",
    "        result = result.multiply(1 / result.sum(1))  # разделить каждую строку на её длину\n",
    "        result = result.multiply(1 / word2freq)  # разделить каждый столбец на вес слова\n",
    "\n",
    "    if scale:\n",
    "        result = result.tocsc()\n",
    "        result -= result.min()\n",
    "        result /= (result.max() + 1e-6)\n",
    "\n",
    "    return result.tocsr()\n",
    "\n",
    "\n",
    "class SparseFeaturesDataset(Dataset):\n",
    "    def __init__(self, features, targets):\n",
    "        self.features = features\n",
    "        self.targets = targets\n",
    "\n",
    "    def __len__(self):\n",
    "        return self.features.shape[0]\n",
    "\n",
    "    def __getitem__(self, idx):\n",
    "        cur_features = torch.from_numpy(self.features[idx].toarray()[0]).float()\n",
    "        cur_label = torch.from_numpy(np.asarray(self.targets[idx])).long()\n",
    "        return cur_features, cur_label"
   ]
  },
  {
   "cell_type": "code",
   "execution_count": 10,
   "id": "ca96d5ed",
   "metadata": {},
   "outputs": [],
   "source": [
    "import pandas as pd\n",
    "df = pd.read_csv(\"bitkogan.csv\")"
   ]
  },
  {
   "cell_type": "code",
   "execution_count": 15,
   "id": "467d1f53",
   "metadata": {},
   "outputs": [
    {
     "data": {
      "text/html": [
       "<div>\n",
       "<style scoped>\n",
       "    .dataframe tbody tr th:only-of-type {\n",
       "        vertical-align: middle;\n",
       "    }\n",
       "\n",
       "    .dataframe tbody tr th {\n",
       "        vertical-align: top;\n",
       "    }\n",
       "\n",
       "    .dataframe thead th {\n",
       "        text-align: right;\n",
       "    }\n",
       "</style>\n",
       "<table border=\"1\" class=\"dataframe\">\n",
       "  <thead>\n",
       "    <tr style=\"text-align: right;\">\n",
       "      <th></th>\n",
       "      <th>id</th>\n",
       "      <th>date</th>\n",
       "      <th>text</th>\n",
       "    </tr>\n",
       "  </thead>\n",
       "  <tbody>\n",
       "    <tr>\n",
       "      <th>6630</th>\n",
       "      <td>10165</td>\n",
       "      <td>2021-01-01T11:53:43</td>\n",
       "      <td>Вот чего мне будет очень не хватать в этом год...</td>\n",
       "    </tr>\n",
       "    <tr>\n",
       "      <th>6631</th>\n",
       "      <td>10166</td>\n",
       "      <td>2021-01-01T16:23:56</td>\n",
       "      <td>Друзья! Нас с вами ждет очень интересный год. ...</td>\n",
       "    </tr>\n",
       "    <tr>\n",
       "      <th>6632</th>\n",
       "      <td>10167</td>\n",
       "      <td>2021-01-02T14:06:20</td>\n",
       "      <td>Весной прошедшего года, в самый разгар первой ...</td>\n",
       "    </tr>\n",
       "    <tr>\n",
       "      <th>6633</th>\n",
       "      <td>10168</td>\n",
       "      <td>2021-01-02T14:20:08</td>\n",
       "      <td>Словарь биржевого сленга. Часть 46.   Стейблко...</td>\n",
       "    </tr>\n",
       "    <tr>\n",
       "      <th>6634</th>\n",
       "      <td>10169</td>\n",
       "      <td>2021-01-02T16:08:24</td>\n",
       "      <td>Bitcoin. Полёт продолжается. @bitkogan</td>\n",
       "    </tr>\n",
       "    <tr>\n",
       "      <th>...</th>\n",
       "      <td>...</td>\n",
       "      <td>...</td>\n",
       "      <td>...</td>\n",
       "    </tr>\n",
       "    <tr>\n",
       "      <th>10234</th>\n",
       "      <td>15882</td>\n",
       "      <td>2021-12-30T13:36:27</td>\n",
       "      <td>Рубль к доллару опустился до минимальных значе...</td>\n",
       "    </tr>\n",
       "    <tr>\n",
       "      <th>10235</th>\n",
       "      <td>15883</td>\n",
       "      <td>2021-12-30T14:57:52</td>\n",
       "      <td>Отличная статья, посвященная IPO на американск...</td>\n",
       "    </tr>\n",
       "    <tr>\n",
       "      <th>10236</th>\n",
       "      <td>15884</td>\n",
       "      <td>2021-12-30T15:47:24</td>\n",
       "      <td>В 2021 году, по  предварительным данным Росста...</td>\n",
       "    </tr>\n",
       "    <tr>\n",
       "      <th>10237</th>\n",
       "      <td>15885</td>\n",
       "      <td>2021-12-30T17:00:54</td>\n",
       "      <td>«Экологический» сектор остался без подарка под...</td>\n",
       "    </tr>\n",
       "    <tr>\n",
       "      <th>10238</th>\n",
       "      <td>15887</td>\n",
       "      <td>2021-12-30T19:27:28</td>\n",
       "      <td>«Неделя. Отражение» Геополитика. Пандемия. Неф...</td>\n",
       "    </tr>\n",
       "  </tbody>\n",
       "</table>\n",
       "<p>3609 rows × 3 columns</p>\n",
       "</div>"
      ],
      "text/plain": [
       "          id                 date  \\\n",
       "6630   10165  2021-01-01T11:53:43   \n",
       "6631   10166  2021-01-01T16:23:56   \n",
       "6632   10167  2021-01-02T14:06:20   \n",
       "6633   10168  2021-01-02T14:20:08   \n",
       "6634   10169  2021-01-02T16:08:24   \n",
       "...      ...                  ...   \n",
       "10234  15882  2021-12-30T13:36:27   \n",
       "10235  15883  2021-12-30T14:57:52   \n",
       "10236  15884  2021-12-30T15:47:24   \n",
       "10237  15885  2021-12-30T17:00:54   \n",
       "10238  15887  2021-12-30T19:27:28   \n",
       "\n",
       "                                                    text  \n",
       "6630   Вот чего мне будет очень не хватать в этом год...  \n",
       "6631   Друзья! Нас с вами ждет очень интересный год. ...  \n",
       "6632   Весной прошедшего года, в самый разгар первой ...  \n",
       "6633   Словарь биржевого сленга. Часть 46.   Стейблко...  \n",
       "6634             Bitcoin. Полёт продолжается. @bitkogan   \n",
       "...                                                  ...  \n",
       "10234  Рубль к доллару опустился до минимальных значе...  \n",
       "10235  Отличная статья, посвященная IPO на американск...  \n",
       "10236  В 2021 году, по  предварительным данным Росста...  \n",
       "10237  «Экологический» сектор остался без подарка под...  \n",
       "10238  «Неделя. Отражение» Геополитика. Пандемия. Неф...  \n",
       "\n",
       "[3609 rows x 3 columns]"
      ]
     },
     "execution_count": 15,
     "metadata": {},
     "output_type": "execute_result"
    }
   ],
   "source": [
    "df_train = df[(df['date'] >= '2021-01-01') & (df['date'] <= '2021-12-31')]\n",
    "df_train"
   ]
  },
  {
   "cell_type": "code",
   "execution_count": 16,
   "id": "6a5050cc",
   "metadata": {},
   "outputs": [],
   "source": [
    "train_tokenized = tokenize_corpus(df_train['text'])"
   ]
  },
  {
   "cell_type": "code",
   "execution_count": 18,
   "id": "515bcdc8",
   "metadata": {},
   "outputs": [
    {
     "name": "stdout",
     "output_type": "stream",
     "text": [
      "чего будет очень хватать этом году гениальных мыслей михаила жванецкого говорится комментариев сила воли принципиальность честность есть проявляем время пришло рано пока такие орудия воробьям бьют согласен пока поддержу муру этой чепухи истрачусь недостойно моего характера говорю себе потерпи обязательно скажу думаю сейчас ничего двадцать говорил потерплю прогремит силу воли периферии тренирую горах кавказа алатау связке молодыми людьми только жалкую часть назвал чудесных черт характера взаимопомощь выручка есть большая беда нужна негде чикаемся ночевать себе пускаем драку лезем масштаб другое дело этим разведку пошел этим проверить куда идти равзедка нужна обстрел нужен сидеть ночью болоте мыла ракет люди проверяются хорошие хорошие плохие плохие время спокойное пытки выдержишь уколю прищемлю скажешь имеет значения говорить вообще знаешь даже если захочешь ничего интересного скажешь этом соль соль чтобы молчать никогда тебе говорю пытки выдержу подавись чтоб тебе сказал первых нечего действительно вторых скажу молчание молчанию рознь беречь надо принципиальность смелость гражданское мужество расходовать муру производство каждое собрание посидел проголосовал пошел недостатков столько знаешь один вырвал пошел дальше сзади заколосились гуще каждый свой заряд тратить душевную широту раскочегарился народ каждый умирает честным смелым сохранив неприкосновенности виноват время пришло доброта людей есть раненным мостовой жигулями степи курганом тебя перевяжу своим себе здесь свои чужие куда тащить нечетко размыто если мине подорвались этом можно только мечтать когда заросшие сейчас подстрижены ноль ходят след след люди различаются один одного настоящему поется песне только прикажи струшу товарищ время товарищ время будет приказ струсим приказа бродим сами себе пока bitkogan\n"
     ]
    }
   ],
   "source": [
    "print(' '.join(train_tokenized[0]))"
   ]
  },
  {
   "cell_type": "code",
   "execution_count": 19,
   "id": "d21450b9",
   "metadata": {},
   "outputs": [
    {
     "name": "stdout",
     "output_type": "stream",
     "text": [
      "Количество уникальных токенов 12941\n",
      "[('может', 0), ('будет', 1), ('более', 2), ('если', 3), ('очень', 4), ('сегодня', 5), ('этом', 6), ('есть', 7), ('пока', 8), ('только', 9)]\n"
     ]
    }
   ],
   "source": [
    "# строим словарь - vocabulary с помощью функции build_vocabulary\n",
    "# принимает на вход список списков токенезированные\n",
    "# word_doc_freq - содержит относительные частоты всех слов в датасете, он понадобиться \n",
    "# на этапе формирования матрицы признаков\n",
    "\n",
    "MAX_DF = 0.8 #во скольких документах встречаеться слово\n",
    "MIN_COUNT = 5 # сколько раз слово встречаеться в тексте\n",
    "\n",
    "\n",
    "vocabulary, word_doc_freq = build_vocabulary(train_tokenized, max_doc_freq=MAX_DF, min_count=MIN_COUNT)\n",
    "UNIQUE_WORDS_N = len(vocabulary)\n",
    "print('Количество уникальных токенов', UNIQUE_WORDS_N)\n",
    "print(list(vocabulary.items())[:10])"
   ]
  },
  {
   "cell_type": "code",
   "execution_count": 20,
   "id": "49502d4a",
   "metadata": {},
   "outputs": [
    {
     "data": {
      "image/png": "[encoded data removed]",
      "text/plain": [
       "<Figure size 432x288 with 1 Axes>"
      ]
     },
     "metadata": {
      "needs_background": "light"
     },
     "output_type": "display_data"
    }
   ],
   "source": [
    "plt.hist(word_doc_freq, bins=20)\n",
    "plt.title('Распределение относительных частот слов')\n",
    "plt.yscale('log');"
   ]
  },
  {
   "cell_type": "code",
   "execution_count": 21,
   "id": "8adcfc64",
   "metadata": {},
   "outputs": [
    {
     "name": "stdout",
     "output_type": "stream",
     "text": [
      "Размерность матрицы признаков обучающей выборки (3609, 12941)\n",
      "\n",
      "Количество ненулевых элементов в обучающей выборке 364077\n",
      "Процент заполненности матрицы признаков 0.78%\n",
      "\n"
     ]
    }
   ],
   "source": [
    "VECTORIZATION_MODE = 'tfidf'\n",
    "# построение матрицы признаков по методу мешка слов\n",
    "# функция vectorize_texts принимает на вход\n",
    "#1. токенизированные список списков\n",
    "#2. словарь\n",
    "#3. вектор частоты токенизированны\n",
    "#4. алгоритм взвешивания токенов по частоте mode - есть 4 алгорима - bin,tf,idf,tfidf\n",
    "#5. флаг чтобы перемаштабировать флаг после взвешивания\n",
    "\n",
    "train_vectors = vectorize_texts(train_tokenized, vocabulary, word_doc_freq, mode=VECTORIZATION_MODE)\n",
    "\n",
    "print('Размерность матрицы признаков обучающей выборки', train_vectors.shape)\n",
    "print()\n",
    "print('Количество ненулевых элементов в обучающей выборке', train_vectors.nnz)\n",
    "print('Процент заполненности матрицы признаков {:.2f}%'.format(train_vectors.nnz * 100 / (train_vectors.shape[0] * train_vectors.shape[1])))\n",
    "print()\n"
   ]
  },
  {
   "cell_type": "code",
   "execution_count": 22,
   "id": "37703aa0",
   "metadata": {},
   "outputs": [
    {
     "data": {
      "image/png": "[encoded data removed]",
      "text/plain": [
       "<Figure size 432x288 with 1 Axes>"
      ]
     },
     "metadata": {
      "needs_background": "light"
     },
     "output_type": "display_data"
    }
   ],
   "source": [
    "plt.hist(train_vectors.data, bins=20)\n",
    "plt.title('Распределение весов признаков')\n",
    "plt.yscale('log');"
   ]
  },
  {
   "cell_type": "code",
   "execution_count": 23,
   "id": "22c52193",
   "metadata": {},
   "outputs": [],
   "source": [
    "#word2vec"
   ]
  },
  {
   "cell_type": "code",
   "execution_count": 24,
   "id": "d0905a5b",
   "metadata": {},
   "outputs": [],
   "source": [
    "from gensim.models import Word2Vec"
   ]
  },
  {
   "cell_type": "code",
   "execution_count": 25,
   "id": "b142cc83",
   "metadata": {},
   "outputs": [
    {
     "data": {
      "text/plain": [
       "<3609x12941 sparse matrix of type '<class 'numpy.float32'>'\n",
       "\twith 364077 stored elements in Compressed Sparse Row format>"
      ]
     },
     "execution_count": 25,
     "metadata": {},
     "output_type": "execute_result"
    }
   ],
   "source": [
    "train_vectors"
   ]
  },
  {
   "cell_type": "code",
   "execution_count": 31,
   "id": "bb7c622e",
   "metadata": {},
   "outputs": [
    {
     "name": "stdout",
     "output_type": "stream",
     "text": [
      "semeval-2016-2017-task3-subtaskBC\n",
      "semeval-2016-2017-task3-subtaskA-unannotated\n",
      "patent-2017\n",
      "quora-duplicate-questions\n",
      "wiki-english-20171001\n",
      "text8\n",
      "fake-news\n",
      "20-newsgroups\n",
      "__testing_matrix-synopsis\n",
      "__testing_multipart-matrix-synopsis\n",
      "fasttext-wiki-news-subwords-300\n",
      "conceptnet-numberbatch-17-06-300\n",
      "word2vec-ruscorpora-300\n",
      "word2vec-google-news-300\n",
      "glove-wiki-gigaword-50\n",
      "glove-wiki-gigaword-100\n",
      "glove-wiki-gigaword-200\n",
      "glove-wiki-gigaword-300\n",
      "glove-twitter-25\n",
      "glove-twitter-50\n",
      "glove-twitter-100\n",
      "glove-twitter-200\n",
      "__testing_word2vec-matrix-synopsis\n"
     ]
    }
   ],
   "source": [
    "import gensim.downloader as api\n",
    "for k, v in api.info().items():\n",
    "    for k1, v1 in v.items():\n",
    "        print(k1)"
   ]
  },
  {
   "cell_type": "code",
   "execution_count": 45,
   "id": "f75a3b09",
   "metadata": {},
   "outputs": [
    {
     "name": "stdout",
     "output_type": "stream",
     "text": [
      "[==================================================] 100.0% 758.5/758.5MB downloaded\n"
     ]
    }
   ],
   "source": [
    "model_t1 = api.load('glove-twitter-200')"
   ]
  },
  {
   "cell_type": "code",
   "execution_count": 37,
   "id": "499b448c",
   "metadata": {},
   "outputs": [],
   "source": [
    "model_t = api.load('glove-twitter-100')"
   ]
  },
  {
   "cell_type": "code",
   "execution_count": 38,
   "id": "e0d602e8",
   "metadata": {},
   "outputs": [],
   "source": [
    "from gensim import utils\n",
    "\n",
    "def get_vectors_gt100(row):\n",
    "    '''\n",
    "      word_doc_freq # частоты слов\n",
    "      train_tokenized #сами слова\n",
    "    '''\n",
    "    vecs = [np.zeros(100)]\n",
    "    for word in row:\n",
    "        #print(row)\n",
    "        try: \n",
    "            # если слово есть в нашем очищенном словаре\n",
    "            # умножаем вектор на вес tfidf\n",
    "            v = model_t[word] * word_doc_freq[vocabulary[word]] \n",
    "        except:\n",
    "            v = np.zeros(100)\n",
    "        vecs.append(v)\n",
    "    return np.sum(np.array(vecs),axis=0)"
   ]
  },
  {
   "cell_type": "code",
   "execution_count": 39,
   "id": "681eaebb",
   "metadata": {},
   "outputs": [],
   "source": [
    "train_vectors_gt100= np.array([get_vectors_gt100(i) for i in train_tokenized])"
   ]
  },
  {
   "cell_type": "code",
   "execution_count": 40,
   "id": "cc476d77",
   "metadata": {},
   "outputs": [
    {
     "data": {
      "text/plain": [
       "array([[  4.18663601,  -4.55343241,  -2.56489513, ..., -17.0585886 ,\n",
       "          8.63429584,  -3.42449438],\n",
       "       [  9.2546297 ,  -5.69753262,  -8.31871901, ..., -25.48462595,\n",
       "         10.60081245,  -5.60103303],\n",
       "       [  1.92171281,  -1.58729434,  -1.80521591, ...,  -6.43754404,\n",
       "          2.95021686,  -0.34441729],\n",
       "       ...,\n",
       "       [  5.90161683,  -5.85353135,  -5.04358034, ..., -15.79194365,\n",
       "          4.96816657,  -1.32090008],\n",
       "       [  2.82144774,  -2.05731966,  -2.49889476, ...,  -7.23762299,\n",
       "          2.20533136,  -0.68630368],\n",
       "       [  1.04482256,  -0.12460863,  -1.14391874, ...,  -1.57729525,\n",
       "          0.61112143,  -0.41125404]])"
      ]
     },
     "execution_count": 40,
     "metadata": {},
     "output_type": "execute_result"
    }
   ],
   "source": [
    "train_vectors_gt100"
   ]
  },
  {
   "cell_type": "code",
   "execution_count": 52,
   "id": "f199ed80",
   "metadata": {},
   "outputs": [
    {
     "data": {
      "text/plain": [
       "[('российский', 0.597403883934021)]"
      ]
     },
     "execution_count": 52,
     "metadata": {},
     "output_type": "execute_result"
    }
   ],
   "source": [
    "model_t1.most_similar(positive=['инвестор', 'рынок'], topn=1)"
   ]
  },
  {
   "cell_type": "code",
   "execution_count": 51,
   "id": "89f491d3",
   "metadata": {},
   "outputs": [
    {
     "data": {
      "text/plain": [
       "[('аналитик', 0.7176759243011475)]"
      ]
     },
     "execution_count": 51,
     "metadata": {},
     "output_type": "execute_result"
    }
   ],
   "source": [
    "model_t.most_similar(positive=['инвестор', 'рынок'], topn=1)"
   ]
  },
  {
   "cell_type": "code",
   "execution_count": null,
   "id": "24824314",
   "metadata": {},
   "outputs": [],
   "source": []
  }
 ],
 "metadata": {
  "kernelspec": {
   "display_name": "Python 3 (ipykernel)",
   "language": "python",
   "name": "python3"
  },
  "language_info": {
   "codemirror_mode": {
    "name": "ipython",
    "version": 3
   },
   "file_extension": ".py",
   "mimetype": "text/x-python",
   "name": "python",
   "nbconvert_exporter": "python",
   "pygments_lexer": "ipython3",
   "version": "3.9.12"
  }
 },
 "nbformat": 4,
 "nbformat_minor": 5
}
