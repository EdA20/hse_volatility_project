{
 "cells": [
  {
   "cell_type": "code",
   "execution_count": 1,
   "id": "4743ed93",
   "metadata": {},
   "outputs": [
    {
     "name": "stdout",
     "output_type": "stream",
     "text": [
      "Python 3.6.4\r\n"
     ]
    }
   ],
   "source": [
    "!pyenv global 3.6\n",
    "!eval \"$(pyenv init --path)\"\n",
    "!python3 --version"
   ]
  },
  {
   "cell_type": "code",
   "execution_count": 2,
   "id": "caa47315",
   "metadata": {},
   "outputs": [],
   "source": [
    "PYENV_VERSION=3.6\n",
    "!python3 -m venv venv36"
   ]
  },
  {
   "cell_type": "code",
   "execution_count": 3,
   "id": "5789923f",
   "metadata": {},
   "outputs": [
    {
     "name": "stdout",
     "output_type": "stream",
     "text": [
      "Python 3.6.4\r\n"
     ]
    }
   ],
   "source": [
    "!python3 --version"
   ]
  },
  {
   "cell_type": "code",
   "execution_count": 1,
   "id": "29895fe8",
   "metadata": {},
   "outputs": [],
   "source": [
    "# !git clone https://github.com/Samsung-IT-Academy/stepik-dl-nlp.git && pip install -r stepik-dl-nlp/requirements.txt\n",
    "import sys; sys.path.append('./stepik-dl-nlp')\n",
    "\n",
    "import warnings\n",
    "warnings.filterwarnings('ignore')\n",
    "\n",
    "from sklearn.datasets import fetch_20newsgroups\n",
    "from sklearn.metrics import accuracy_score\n",
    "\n",
    "import numpy as np\n",
    "\n",
    "import matplotlib.pyplot as plt\n",
    "%matplotlib inline\n",
    "\n",
    "import collections\n",
    "\n",
    "import torch\n",
    "from torch import nn\n",
    "from torch.nn import functional as F\n",
    "\n",
    "import sys\n",
    "import os\n",
    "from tqdm import tqdm  \n",
    "import pandas as pd\n",
    "from sklearn.model_selection import train_test_split\n",
    "from gensim import utils\n",
    "from sklearn.metrics import accuracy_score\n",
    "from sklearn.linear_model import LogisticRegression\n",
    "from gensim.models import Word2Vec\n",
    "import gensim.downloader as api\n",
    "\n",
    "# import dlnlputils\n",
    "# from dlnlputils.data import tokenize_text_simple_regex, tokenize_corpus, build_vocabulary, \\\n",
    "#     vectorize_texts, SparseFeaturesDataset\n",
    "# from dlnlputils.pipeline import train_eval_loop, predict_with_model, init_random_seed\n",
    "\n",
    "# init_random_seed()"
   ]
  },
  {
   "cell_type": "code",
   "execution_count": 2,
   "id": "129bab82",
   "metadata": {},
   "outputs": [],
   "source": [
    "import numpy as np\n",
    "import scipy.sparse\n",
    "import torch\n",
    "from torch.utils.data import Dataset"
   ]
  },
  {
   "cell_type": "code",
   "execution_count": 6,
   "id": "318333aa",
   "metadata": {},
   "outputs": [],
   "source": [
    "#подготовка признаков"
   ]
  },
  {
   "cell_type": "code",
   "execution_count": 3,
   "id": "023efcc5",
   "metadata": {},
   "outputs": [],
   "source": [
    "import collections\n",
    "import re\n",
    "\n",
    "import numpy as np\n",
    "\n",
    "TOKEN_RE = re.compile(r'[\\w\\d]+')\n",
    "\n",
    "\n",
    "def tokenize_text_simple_regex(txt, min_token_size=4):\n",
    "    txt = txt.lower()\n",
    "    all_tokens = TOKEN_RE.findall(txt)\n",
    "    return [token for token in all_tokens if len(token) >= min_token_size]\n",
    "\n",
    "\n",
    "def character_tokenize(txt):\n",
    "    return list(txt)\n",
    "\n",
    "\n",
    "def tokenize_corpus(texts, tokenizer=tokenize_text_simple_regex, **tokenizer_kwargs):\n",
    "    return [tokenizer(text, **tokenizer_kwargs) for text in texts]\n",
    "\n",
    "\n",
    "def add_fake_token(word2id, token=''):\n",
    "    word2id_new = {token: i + 1 for token, i in word2id.items()}\n",
    "    word2id_new[token] = 0\n",
    "    return word2id_new\n",
    "\n",
    "\n",
    "def texts_to_token_ids(tokenized_texts, word2id):\n",
    "    return [[word2id[token] for token in text if token in word2id]\n",
    "            for text in tokenized_texts]\n",
    "\n",
    "\n",
    "def build_vocabulary(tokenized_texts, max_size=1000000, max_doc_freq=0.8, min_count=5, pad_word=None):\n",
    "    word_counts = collections.defaultdict(int)\n",
    "    doc_n = 0\n",
    "\n",
    "    # посчитать количество документов, в которых употребляется каждое слово\n",
    "    # а также общее количество документов\n",
    "    for txt in tokenized_texts:\n",
    "        doc_n += 1\n",
    "        unique_text_tokens = set(txt)\n",
    "        for token in unique_text_tokens:\n",
    "            word_counts[token] += 1\n",
    "\n",
    "    # убрать слишком редкие и слишком частые слова\n",
    "    word_counts = {word: cnt for word, cnt in word_counts.items()\n",
    "                   if cnt >= min_count and cnt / doc_n <= max_doc_freq}\n",
    "\n",
    "    # отсортировать слова по убыванию частоты\n",
    "    sorted_word_counts = sorted(word_counts.items(),\n",
    "                                reverse=True,\n",
    "                                key=lambda pair: pair[1])\n",
    "\n",
    "    # добавим несуществующее слово с индексом 0 для удобства пакетной обработки\n",
    "    if pad_word is not None:\n",
    "        sorted_word_counts = [(pad_word, 0)] + sorted_word_counts\n",
    "\n",
    "    # если у нас по прежнему слишком много слов, оставить только max_size самых частотных\n",
    "    if len(word_counts) > max_size:\n",
    "        sorted_word_counts = sorted_word_counts[:max_size]\n",
    "\n",
    "    # нумеруем слова\n",
    "    word2id = {word: i for i, (word, _) in enumerate(sorted_word_counts)}\n",
    "\n",
    "    # нормируем частоты слов\n",
    "    word2freq = np.array([cnt / doc_n for _, cnt in sorted_word_counts], dtype='float32')\n",
    "\n",
    "    return word2id, word2freq\n",
    "\n",
    "\n",
    "PAD_TOKEN = '__PAD__'\n",
    "NUMERIC_TOKEN = '__NUMBER__'\n",
    "NUMERIC_RE = re.compile(r'^([0-9.,e+\\-]+|[mcxvi]+)$', re.I)\n",
    "\n",
    "\n",
    "def replace_number_nokens(tokenized_texts):\n",
    "    return [[token if not NUMERIC_RE.match(token) else NUMERIC_TOKEN for token in text]\n",
    "            for text in tokenized_texts]"
   ]
  },
  {
   "cell_type": "code",
   "execution_count": 4,
   "id": "c2fae2d3",
   "metadata": {},
   "outputs": [],
   "source": [
    "import numpy as np\n",
    "import scipy.sparse\n",
    "import torch\n",
    "from torch.utils.data import Dataset\n",
    "\n",
    "\n",
    "def vectorize_texts(tokenized_texts, word2id, word2freq, mode='tfidf', scale=True):\n",
    "    assert mode in {'tfidf', 'idf', 'tf', 'bin'}\n",
    "\n",
    "    # считаем количество употреблений каждого слова в каждом документе\n",
    "    result = scipy.sparse.dok_matrix((len(tokenized_texts), len(word2id)), dtype='float32')\n",
    "    for text_i, text in enumerate(tokenized_texts):\n",
    "        for token in text:\n",
    "            if token in word2id:\n",
    "                result[text_i, word2id[token]] += 1\n",
    "\n",
    "    # получаем бинарные вектора \"встречается или нет\"\n",
    "    if mode == 'bin':\n",
    "        result = (result > 0).astype('float32')\n",
    "\n",
    "    # получаем вектора относительных частот слова в документе\n",
    "    elif mode == 'tf':\n",
    "        result = result.tocsr()\n",
    "        result = result.multiply(1 / result.sum(1))\n",
    "\n",
    "    # полностью убираем информацию о количестве употреблений слова в данном документе,\n",
    "    # но оставляем информацию о частотности слова в корпусе в целом\n",
    "    elif mode == 'idf':\n",
    "        result = (result > 0).astype('float32').multiply(1 / word2freq)\n",
    "\n",
    "    # учитываем всю информацию, которая у нас есть:\n",
    "    # частоту слова в документе и частоту слова в корпусе\n",
    "    elif mode == 'tfidf':\n",
    "        result = result.tocsr()\n",
    "        result = result.multiply(1 / result.sum(1))  # разделить каждую строку на её длину\n",
    "        result = result.multiply(1 / word2freq)  # разделить каждый столбец на вес слова\n",
    "\n",
    "    if scale:\n",
    "        result = result.tocsc()\n",
    "        result -= result.min()\n",
    "        result /= (result.max() + 1e-6)\n",
    "\n",
    "    return result.tocsr()\n",
    "\n",
    "\n",
    "class SparseFeaturesDataset(Dataset):\n",
    "    def __init__(self, features, targets):\n",
    "        self.features = features\n",
    "        self.targets = targets\n",
    "\n",
    "    def __len__(self):\n",
    "        return self.features.shape[0]\n",
    "\n",
    "    def __getitem__(self, idx):\n",
    "        cur_features = torch.from_numpy(self.features[idx].toarray()[0]).float()\n",
    "        cur_label = torch.from_numpy(np.asarray(self.targets[idx])).long()\n",
    "        return cur_features, cur_label"
   ]
  },
  {
   "cell_type": "code",
   "execution_count": 10,
   "id": "ca96d5ed",
   "metadata": {},
   "outputs": [],
   "source": [
    "import pandas as pd\n",
    "df = pd.read_csv(\"bitkogan.csv\")"
   ]
  },
  {
   "cell_type": "code",
   "execution_count": 209,
   "id": "e8f3a98d",
   "metadata": {},
   "outputs": [
    {
     "name": "stderr",
     "output_type": "stream",
     "text": [
      "100%|████████████████████████████████████████████████████████████████████████████████████| 1/1 [00:00<00:00, 16.81it/s]\n"
     ]
    }
   ],
   "source": [
    "input_path = 'C:\\\\Users\\\\eduard\\\\jup\\\\project\\\\данные'\n",
    "\n",
    "df = pd.DataFrame([])\n",
    "for root, dirs, files in os.walk(input_path):\n",
    "    for file in tqdm(files[:1]):\n",
    "        df1 = pd.read_csv(f'данные\\{file}')\n",
    "        df = pd.concat([df, df1], axis=0, ignore_index=True)\n",
    "\n",
    "df = df.sort_values('date', ignore_index=True)"
   ]
  },
  {
   "cell_type": "code",
   "execution_count": 211,
   "id": "c824404e",
   "metadata": {},
   "outputs": [
    {
     "data": {
      "text/html": [
       "<div>\n",
       "<style scoped>\n",
       "    .dataframe tbody tr th:only-of-type {\n",
       "        vertical-align: middle;\n",
       "    }\n",
       "\n",
       "    .dataframe tbody tr th {\n",
       "        vertical-align: top;\n",
       "    }\n",
       "\n",
       "    .dataframe thead th {\n",
       "        text-align: right;\n",
       "    }\n",
       "</style>\n",
       "<table border=\"1\" class=\"dataframe\">\n",
       "  <thead>\n",
       "    <tr style=\"text-align: right;\">\n",
       "      <th></th>\n",
       "      <th>date_start</th>\n",
       "      <th>pnl</th>\n",
       "      <th>pnl_sign</th>\n",
       "    </tr>\n",
       "  </thead>\n",
       "  <tbody>\n",
       "    <tr>\n",
       "      <th>0</th>\n",
       "      <td>2022-03-02</td>\n",
       "      <td>-8967.190672</td>\n",
       "      <td>0</td>\n",
       "    </tr>\n",
       "    <tr>\n",
       "      <th>1</th>\n",
       "      <td>2022-03-03</td>\n",
       "      <td>-12548.743088</td>\n",
       "      <td>0</td>\n",
       "    </tr>\n",
       "    <tr>\n",
       "      <th>2</th>\n",
       "      <td>2022-03-04</td>\n",
       "      <td>-15486.634276</td>\n",
       "      <td>0</td>\n",
       "    </tr>\n",
       "    <tr>\n",
       "      <th>3</th>\n",
       "      <td>2022-03-09</td>\n",
       "      <td>12709.989084</td>\n",
       "      <td>1</td>\n",
       "    </tr>\n",
       "    <tr>\n",
       "      <th>4</th>\n",
       "      <td>2022-03-10</td>\n",
       "      <td>4612.031243</td>\n",
       "      <td>1</td>\n",
       "    </tr>\n",
       "    <tr>\n",
       "      <th>...</th>\n",
       "      <td>...</td>\n",
       "      <td>...</td>\n",
       "      <td>...</td>\n",
       "    </tr>\n",
       "    <tr>\n",
       "      <th>91</th>\n",
       "      <td>2022-10-18</td>\n",
       "      <td>1318.776018</td>\n",
       "      <td>1</td>\n",
       "    </tr>\n",
       "    <tr>\n",
       "      <th>92</th>\n",
       "      <td>2022-10-19</td>\n",
       "      <td>-1381.633241</td>\n",
       "      <td>0</td>\n",
       "    </tr>\n",
       "    <tr>\n",
       "      <th>93</th>\n",
       "      <td>2022-10-20</td>\n",
       "      <td>-898.408314</td>\n",
       "      <td>0</td>\n",
       "    </tr>\n",
       "    <tr>\n",
       "      <th>94</th>\n",
       "      <td>2022-10-21</td>\n",
       "      <td>675.094148</td>\n",
       "      <td>1</td>\n",
       "    </tr>\n",
       "    <tr>\n",
       "      <th>95</th>\n",
       "      <td>2022-10-24</td>\n",
       "      <td>2042.855015</td>\n",
       "      <td>1</td>\n",
       "    </tr>\n",
       "  </tbody>\n",
       "</table>\n",
       "<p>96 rows × 3 columns</p>\n",
       "</div>"
      ],
      "text/plain": [
       "    date_start           pnl  pnl_sign\n",
       "0   2022-03-02  -8967.190672         0\n",
       "1   2022-03-03 -12548.743088         0\n",
       "2   2022-03-04 -15486.634276         0\n",
       "3   2022-03-09  12709.989084         1\n",
       "4   2022-03-10   4612.031243         1\n",
       "..         ...           ...       ...\n",
       "91  2022-10-18   1318.776018         1\n",
       "92  2022-10-19  -1381.633241         0\n",
       "93  2022-10-20   -898.408314         0\n",
       "94  2022-10-21    675.094148         1\n",
       "95  2022-10-24   2042.855015         1\n",
       "\n",
       "[96 rows x 3 columns]"
      ]
     },
     "execution_count": 211,
     "metadata": {},
     "output_type": "execute_result"
    }
   ],
   "source": [
    "pnl = pd.read_csv('данные/zBacktest_EURUSD_5_days.txt')\n",
    "pnl['date_start'] = pd.to_datetime(pnl['date_start']).dt.strftime('%Y-%m-%d')\n",
    "pnl['pnl_sign'] = pnl['pnl'].apply(lambda x: 1 if x >= 0 else 0)\n",
    "pnl"
   ]
  },
  {
   "cell_type": "code",
   "execution_count": 70,
   "id": "15a3bcd8",
   "metadata": {},
   "outputs": [
    {
     "data": {
      "text/plain": [
       "0.4791666666666667"
      ]
     },
     "execution_count": 70,
     "metadata": {},
     "output_type": "execute_result"
    }
   ],
   "source": [
    "pnl['pnl_sign'].sum() / pnl.shape[0]"
   ]
  },
  {
   "cell_type": "code",
   "execution_count": 212,
   "id": "ab142de9",
   "metadata": {},
   "outputs": [
    {
     "data": {
      "text/html": [
       "<div>\n",
       "<style scoped>\n",
       "    .dataframe tbody tr th:only-of-type {\n",
       "        vertical-align: middle;\n",
       "    }\n",
       "\n",
       "    .dataframe tbody tr th {\n",
       "        vertical-align: top;\n",
       "    }\n",
       "\n",
       "    .dataframe thead th {\n",
       "        text-align: right;\n",
       "    }\n",
       "</style>\n",
       "<table border=\"1\" class=\"dataframe\">\n",
       "  <thead>\n",
       "    <tr style=\"text-align: right;\">\n",
       "      <th></th>\n",
       "      <th>date_start</th>\n",
       "      <th>pnl</th>\n",
       "      <th>pnl_sign</th>\n",
       "      <th>cumm_text</th>\n",
       "    </tr>\n",
       "  </thead>\n",
       "  <tbody>\n",
       "    <tr>\n",
       "      <th>0</th>\n",
       "      <td>2022-03-02</td>\n",
       "      <td>-8967.190672</td>\n",
       "      <td>0</td>\n",
       "      <td>None</td>\n",
       "    </tr>\n",
       "    <tr>\n",
       "      <th>1</th>\n",
       "      <td>2022-03-03</td>\n",
       "      <td>-12548.743088</td>\n",
       "      <td>0</td>\n",
       "      <td>None</td>\n",
       "    </tr>\n",
       "    <tr>\n",
       "      <th>2</th>\n",
       "      <td>2022-03-04</td>\n",
       "      <td>-15486.634276</td>\n",
       "      <td>0</td>\n",
       "      <td>None</td>\n",
       "    </tr>\n",
       "    <tr>\n",
       "      <th>3</th>\n",
       "      <td>2022-03-09</td>\n",
       "      <td>12709.989084</td>\n",
       "      <td>1</td>\n",
       "      <td>None</td>\n",
       "    </tr>\n",
       "    <tr>\n",
       "      <th>4</th>\n",
       "      <td>2022-03-10</td>\n",
       "      <td>4612.031243</td>\n",
       "      <td>1</td>\n",
       "      <td>None</td>\n",
       "    </tr>\n",
       "    <tr>\n",
       "      <th>...</th>\n",
       "      <td>...</td>\n",
       "      <td>...</td>\n",
       "      <td>...</td>\n",
       "      <td>...</td>\n",
       "    </tr>\n",
       "    <tr>\n",
       "      <th>91</th>\n",
       "      <td>2022-10-18</td>\n",
       "      <td>1318.776018</td>\n",
       "      <td>1</td>\n",
       "      <td>None</td>\n",
       "    </tr>\n",
       "    <tr>\n",
       "      <th>92</th>\n",
       "      <td>2022-10-19</td>\n",
       "      <td>-1381.633241</td>\n",
       "      <td>0</td>\n",
       "      <td>None</td>\n",
       "    </tr>\n",
       "    <tr>\n",
       "      <th>93</th>\n",
       "      <td>2022-10-20</td>\n",
       "      <td>-898.408314</td>\n",
       "      <td>0</td>\n",
       "      <td>None</td>\n",
       "    </tr>\n",
       "    <tr>\n",
       "      <th>94</th>\n",
       "      <td>2022-10-21</td>\n",
       "      <td>675.094148</td>\n",
       "      <td>1</td>\n",
       "      <td>None</td>\n",
       "    </tr>\n",
       "    <tr>\n",
       "      <th>95</th>\n",
       "      <td>2022-10-24</td>\n",
       "      <td>2042.855015</td>\n",
       "      <td>1</td>\n",
       "      <td>None</td>\n",
       "    </tr>\n",
       "  </tbody>\n",
       "</table>\n",
       "<p>96 rows × 4 columns</p>\n",
       "</div>"
      ],
      "text/plain": [
       "    date_start           pnl  pnl_sign cumm_text\n",
       "0   2022-03-02  -8967.190672         0      None\n",
       "1   2022-03-03 -12548.743088         0      None\n",
       "2   2022-03-04 -15486.634276         0      None\n",
       "3   2022-03-09  12709.989084         1      None\n",
       "4   2022-03-10   4612.031243         1      None\n",
       "..         ...           ...       ...       ...\n",
       "91  2022-10-18   1318.776018         1      None\n",
       "92  2022-10-19  -1381.633241         0      None\n",
       "93  2022-10-20   -898.408314         0      None\n",
       "94  2022-10-21    675.094148         1      None\n",
       "95  2022-10-24   2042.855015         1      None\n",
       "\n",
       "[96 rows x 4 columns]"
      ]
     },
     "execution_count": 212,
     "metadata": {},
     "output_type": "execute_result"
    }
   ],
   "source": [
    "pnl['cumm_text'] = None\n",
    "pnl"
   ]
  },
  {
   "cell_type": "code",
   "execution_count": 213,
   "id": "2969bf1c",
   "metadata": {},
   "outputs": [],
   "source": [
    "df['date'] = pd.to_datetime(df['date']).dt.strftime('%Y-%m-%d')"
   ]
  },
  {
   "cell_type": "code",
   "execution_count": 216,
   "id": "467d1f53",
   "metadata": {},
   "outputs": [
    {
     "data": {
      "text/html": [
       "<div>\n",
       "<style scoped>\n",
       "    .dataframe tbody tr th:only-of-type {\n",
       "        vertical-align: middle;\n",
       "    }\n",
       "\n",
       "    .dataframe tbody tr th {\n",
       "        vertical-align: top;\n",
       "    }\n",
       "\n",
       "    .dataframe thead th {\n",
       "        text-align: right;\n",
       "    }\n",
       "</style>\n",
       "<table border=\"1\" class=\"dataframe\">\n",
       "  <thead>\n",
       "    <tr style=\"text-align: right;\">\n",
       "      <th></th>\n",
       "      <th>id</th>\n",
       "      <th>date</th>\n",
       "      <th>text</th>\n",
       "      <th>date_start</th>\n",
       "      <th>pnl</th>\n",
       "      <th>Date</th>\n",
       "      <th>data</th>\n",
       "    </tr>\n",
       "  </thead>\n",
       "  <tbody>\n",
       "    <tr>\n",
       "      <th>71231</th>\n",
       "      <td>33230.0</td>\n",
       "      <td>2022-03-02</td>\n",
       "      <td>#AAPL \\n⚡ Apple подтвердила приостановку прода...</td>\n",
       "      <td>NaN</td>\n",
       "      <td>NaN</td>\n",
       "      <td>NaN</td>\n",
       "      <td>NaN</td>\n",
       "    </tr>\n",
       "    <tr>\n",
       "      <th>71232</th>\n",
       "      <td>33231.0</td>\n",
       "      <td>2022-03-02</td>\n",
       "      <td>#Макро \\n📊 Рынок смартфонов в РФ по производит...</td>\n",
       "      <td>NaN</td>\n",
       "      <td>NaN</td>\n",
       "      <td>NaN</td>\n",
       "      <td>NaN</td>\n",
       "    </tr>\n",
       "    <tr>\n",
       "      <th>71233</th>\n",
       "      <td>33232.0</td>\n",
       "      <td>2022-03-02</td>\n",
       "      <td>$=105,51р. RTS 0,00% BRENT +7,97%📌  LIVE Карта...</td>\n",
       "      <td>NaN</td>\n",
       "      <td>NaN</td>\n",
       "      <td>NaN</td>\n",
       "      <td>NaN</td>\n",
       "    </tr>\n",
       "    <tr>\n",
       "      <th>71234</th>\n",
       "      <td>33233.0</td>\n",
       "      <td>2022-03-02</td>\n",
       "      <td>#Бонды \\n🏦 Бельгийский депозитарий Euroclear, ...</td>\n",
       "      <td>NaN</td>\n",
       "      <td>NaN</td>\n",
       "      <td>NaN</td>\n",
       "      <td>NaN</td>\n",
       "    </tr>\n",
       "    <tr>\n",
       "      <th>71235</th>\n",
       "      <td>33234.0</td>\n",
       "      <td>2022-03-02</td>\n",
       "      <td>#SBER \\n🏦  Сбербанк повысил ставки по вкладам,...</td>\n",
       "      <td>NaN</td>\n",
       "      <td>NaN</td>\n",
       "      <td>NaN</td>\n",
       "      <td>NaN</td>\n",
       "    </tr>\n",
       "    <tr>\n",
       "      <th>...</th>\n",
       "      <td>...</td>\n",
       "      <td>...</td>\n",
       "      <td>...</td>\n",
       "      <td>...</td>\n",
       "      <td>...</td>\n",
       "      <td>...</td>\n",
       "      <td>...</td>\n",
       "    </tr>\n",
       "    <tr>\n",
       "      <th>88251</th>\n",
       "      <td>911.0</td>\n",
       "      <td>2022-11-01</td>\n",
       "      <td>🇬🇧Основная проблема Великобритании сейчас поли...</td>\n",
       "      <td>NaN</td>\n",
       "      <td>NaN</td>\n",
       "      <td>NaN</td>\n",
       "      <td>NaN</td>\n",
       "    </tr>\n",
       "    <tr>\n",
       "      <th>88252</th>\n",
       "      <td>42927.0</td>\n",
       "      <td>2022-11-01</td>\n",
       "      <td>🗓 Что было сегодня\\n🖨 Энел Россия:  МСФО  9мес...</td>\n",
       "      <td>NaN</td>\n",
       "      <td>NaN</td>\n",
       "      <td>NaN</td>\n",
       "      <td>NaN</td>\n",
       "    </tr>\n",
       "    <tr>\n",
       "      <th>88253</th>\n",
       "      <td>42928.0</td>\n",
       "      <td>2022-11-01</td>\n",
       "      <td>$=61,52р. RTS 0,00% BRENT +1,20%📌  LIVE Карта ...</td>\n",
       "      <td>NaN</td>\n",
       "      <td>NaN</td>\n",
       "      <td>NaN</td>\n",
       "      <td>NaN</td>\n",
       "    </tr>\n",
       "    <tr>\n",
       "      <th>88254</th>\n",
       "      <td>12399.0</td>\n",
       "      <td>2022-11-01</td>\n",
       "      <td>Как прошел день🇷🇺 Российский рынок акций  (+0,...</td>\n",
       "      <td>NaN</td>\n",
       "      <td>NaN</td>\n",
       "      <td>NaN</td>\n",
       "      <td>NaN</td>\n",
       "    </tr>\n",
       "    <tr>\n",
       "      <th>88255</th>\n",
       "      <td>15719.0</td>\n",
       "      <td>2022-11-01</td>\n",
       "      <td>РЫНОК ПРАЙСИТ +75 бп НА ЗАВТРАШНЕМ ЗАСЕДАНИИ F...</td>\n",
       "      <td>NaN</td>\n",
       "      <td>NaN</td>\n",
       "      <td>NaN</td>\n",
       "      <td>NaN</td>\n",
       "    </tr>\n",
       "  </tbody>\n",
       "</table>\n",
       "<p>17025 rows × 7 columns</p>\n",
       "</div>"
      ],
      "text/plain": [
       "            id        date                                               text  \\\n",
       "71231  33230.0  2022-03-02  #AAPL \\n⚡ Apple подтвердила приостановку прода...   \n",
       "71232  33231.0  2022-03-02  #Макро \\n📊 Рынок смартфонов в РФ по производит...   \n",
       "71233  33232.0  2022-03-02  $=105,51р. RTS 0,00% BRENT +7,97%📌  LIVE Карта...   \n",
       "71234  33233.0  2022-03-02  #Бонды \\n🏦 Бельгийский депозитарий Euroclear, ...   \n",
       "71235  33234.0  2022-03-02  #SBER \\n🏦  Сбербанк повысил ставки по вкладам,...   \n",
       "...        ...         ...                                                ...   \n",
       "88251    911.0  2022-11-01  🇬🇧Основная проблема Великобритании сейчас поли...   \n",
       "88252  42927.0  2022-11-01  🗓 Что было сегодня\\n🖨 Энел Россия:  МСФО  9мес...   \n",
       "88253  42928.0  2022-11-01  $=61,52р. RTS 0,00% BRENT +1,20%📌  LIVE Карта ...   \n",
       "88254  12399.0  2022-11-01  Как прошел день🇷🇺 Российский рынок акций  (+0,...   \n",
       "88255  15719.0  2022-11-01  РЫНОК ПРАЙСИТ +75 бп НА ЗАВТРАШНЕМ ЗАСЕДАНИИ F...   \n",
       "\n",
       "      date_start  pnl Date data  \n",
       "71231        NaN  NaN  NaN  NaN  \n",
       "71232        NaN  NaN  NaN  NaN  \n",
       "71233        NaN  NaN  NaN  NaN  \n",
       "71234        NaN  NaN  NaN  NaN  \n",
       "71235        NaN  NaN  NaN  NaN  \n",
       "...          ...  ...  ...  ...  \n",
       "88251        NaN  NaN  NaN  NaN  \n",
       "88252        NaN  NaN  NaN  NaN  \n",
       "88253        NaN  NaN  NaN  NaN  \n",
       "88254        NaN  NaN  NaN  NaN  \n",
       "88255        NaN  NaN  NaN  NaN  \n",
       "\n",
       "[17025 rows x 7 columns]"
      ]
     },
     "execution_count": 216,
     "metadata": {},
     "output_type": "execute_result"
    }
   ],
   "source": [
    "df_with_pnl = df[(df['date'] >= '2022-03-02') & (df['date'] <= '2022-11-01')]\n",
    "df_with_pnl"
   ]
  },
  {
   "cell_type": "code",
   "execution_count": 185,
   "id": "ab208030",
   "metadata": {},
   "outputs": [
    {
     "name": "stderr",
     "output_type": "stream",
     "text": [
      "16401it [00:05, 2844.21it/s]\n"
     ]
    }
   ],
   "source": [
    "i = 0\n",
    "texts = ''\n",
    "for _,row in tqdm(df_with_pnl.iterrows()):\n",
    "    if i >= pnl.shape[0]:\n",
    "        break\n",
    "\n",
    "    if row['date'] <= pnl['date_start'][i]:\n",
    "        texts += ' ' + row['text']\n",
    "    else:\n",
    "        pnl.at[i,'cumm_text'] = texts\n",
    "        texts = ''\n",
    "        i += 1\n",
    "        continue"
   ]
  },
  {
   "cell_type": "code",
   "execution_count": 188,
   "id": "066a1be2",
   "metadata": {},
   "outputs": [],
   "source": [
    "from sklearn.model_selection import train_test_split\n",
    "train, val = train_test_split(pnl)"
   ]
  },
  {
   "cell_type": "code",
   "execution_count": 189,
   "id": "6a5050cc",
   "metadata": {},
   "outputs": [],
   "source": [
    "train_tokenized = tokenize_corpus(train['cumm_text'])\n",
    "val_tokenized = tokenize_corpus(val['cumm_text'])"
   ]
  },
  {
   "cell_type": "code",
   "execution_count": 190,
   "id": "515bcdc8",
   "metadata": {},
   "outputs": [
    {
     "name": "stdout",
     "output_type": "stream",
     "text": [
      "фокус недели сегодня решение процентной ставке пресс конференция председателя банка россии саммит второй день военный комитет нато соберется сентября таллинне впервые участием швеции финляндии россети rsti воса присоединении компании rsti китай объем промышленного производства августе макро великобритания объем розничных продаж августе макро августе макро сентября price мсфо 6мес2022 fixp globaltrans мсфо 6мес2022 gltr сентября полюс мсфо 6мес2022 plzl запасы сырой нефти сентября polymetal мсфо 6мес2022 poly друзья всем привет сегодня самый день день четырех ведьм волнуйтесь никто собирается летать метлах хотя последнее время меня весьма стойкое ощущение этот день тянется достаточно долго собственно вами него вылезаем говорится ведьмы враждебные веют нами рынках подумали минутка лирики заканчивается хотя зрелище полетов метлах реальности очевидно выглядело скучно многое отдал чтобы посмотреть действо даже есть мысли кого известных персонажей хотелось узреть этом празднике жизни писали таком ранее реальности событие банально привязано истечению срока действия экспирации производных финансовых инструментов фьючерсов фондовые индексы опционов фондовые индексы фьючерсов акции опционов акции вообще штатах экспирация производных контрактов происходит ежемесячно каждую третью пятницу месяца однако особняком стоят когда этот день происходит одновременная экспирация трех четырех классов деривативов одновременно фьючерсов фондовые индексы опционов фондовые индексы фьючерсов акции даты называют народе колдовскими ведьмиными днями заведено происходят раза квартал приходятся каждую третью пятницу марта июня сентября декабря обычно даты экспирации этих контрактов пересекаются совпадают конкретные даты ранее такие назывались тройными колдовскими днями ноября 2002 превратились четверные причине тогда списку производных инструментов добавились фьючерсы акции такие обычно возрастает волатильность рынки вполне могут полетать факт однозначно северном направлении могут прогуляться туда куда погонят крупные игроки выписали большее количество опционных контрактов чаще всего день полной непредсказуемости совершенно неожиданных движений причина банальна желание крупных игроков душевно подзаработать прошлый всякий случай готовим метлы прячем деток учим вспоминаем правильные заклинания хотя полагаю сегодня нашей жизни вообще заклинаний никак начала этого весьма неприятный рынки вчера удержали технические уровни поддержки фьючерсы америку смотрят вниз золото выглядит весьма слабо доходности десятилеткам продолжают потихоньку расти доллар почти своих максимальных значениях относительно других валют напрашивается вывод день будет скорее всего продолжением тренда вчерашних дней ведьмина пятница может смешать карты деривативы рынки bitkogan jpmorgan основное предпочтение акциям госбондам развивающихся рынков американский инвестбанк представил результаты asset allocation состоянию сентябрь глобально портфельные предпочтения сильно изменились уверенный оптимизм акциях emerging markets время сдержанное отношение бумагам wallstreet европы пессимизм отношению treasuries рекомендация покупать японские госбонды хуже рынка качественные европейские корпораты интересны американские высокодоходные облигации суверенные бонды cash underweight commodities overweight энергетика underweight драгоценные металлы сельское хозяйство фаворе августеранее asset allocation августе https russianmacro 15119 начался саммит узком составе саммит шанхайской организации сотрудничества узком составе начался самарканде повестке встречи вопросы перспективах углубления сотрудничества контексте происходящих мире глобальных трансформаций также задачах адаптации новым геополитическим реалиям узбекистан подготовил встрече свыше документов соглашений подробнее коммерсанте российская электроника попала черные списки минфин включил лист российские дизайн центры крупнейших производителей вычислительной техники числе байкал электроникс мцст элвис аквариус структура yadro такими санкциями производители вычислительной техники будут испытывать трудности запуске новых производств строительство которых было запланировано 2021 году предупреждают эксперты чипмейкеры говорят источники могут лишиться последней возможности наладить выпуск российских процессоров зарубежных заводах подробнее коммерсанте сильная экономика горе инвестора лучше данные хуже рынку последнее время этот принцип работает швейцарские часы снижение числа заявок пособие безработице аукнулось инвесторов ростом настроений risk доходность американским десятилеткам выросла доходность двухлеткам подскочила значений 2007 года gspc упал nasdaq composite ixic парадокс никак иначе вышло угроза более агрессивных действий стороны страшнее факта замедления темпов роста экономики дело повышением ставок растет стоимость заимствования если переборщить посыплются только компании зомби которые выживают счет займов вполне здоровые предприятия проблемами также могут столкнуться владельцы ипотек плавающей ставкой кроме того страдает весь остальной более высокие ставки привлекают инвесторов валюту проблема сильный доллар усугубляет неустойчивый долговой цикл развивающихся стран стран формирующимся рынком мере роста курса доллара этим экономикам становится труднее труднее погашать свои долги данным bloomberg проблемный долг достиг млрд развитым экономикам слову также приходится сладко японии примеру слабой йены продолжает раскручиваться инфляция учетом резко выросших затрат энергоносители роста стоимости продуктов питания снижается потребительская активность несмотря бесчисленное количество словесных интервенций реальные действия правительстве пока идти готовы тому односторонние интервенции прошлом отличались эффективностью европе снижение курса евро чревато усугублением инфляционных давлений также создает дополнительные расходы домохозяйствам предприятиям скачка импортные продукты стратеги nomura international прогнозируют евро может упасть американский инвестиционный банк morgan stanley прогнозирует этом квартале курс евро опустится принципе вами называли подобные уровни давно https bitkogan 18766 https bitkogan 18688 https bitkogan 18583 https bitkogan 18239 говорится приятно когда твоя точка зрения совпадает точкой зрения великих только немного опередил валюта макро bitkogan moex мосбиржа увеличила число акций которые останутся недоступны компаний россиян недружественных стран список были добавлены обычка преф славнефть ярославнефтеоргсинтез саратовского тамбовской энергосбытовой компании утренний дайджест cbonds cbonds cbonds high yield календарь событийсбор заявок фордевинд размещения группа астон металлоинвест 001p млрд юаней 001p млрд юаней трест ленинградспецстрой млрд оферты долговом рынке россии сегодня запланированы cbonds рынок жилой недвижимости москве первичке сохраняется высокая активность данным росреестра августе число зарегистрированных сделок жилой недвижимостью первичном рынке москве составило июле итогам месяцев после июльского всплеска активность покупателей первичке несколько снизилась остается достаточно высокой одной причин этого являются маркетинговые акции ипотека которые неплохо зашли покупателям писали подобные предложения классический мисселинг покупателям впаривают жильё выше рыночной цены компенсирует кредитору нулевую ставку кредиту подобные сделки несут большие риски финансовой стабильности случае дефолта заёмщика продать такое жильё большого дисконта невозможно ждём обратит внимание подобную практику rosn политика дочки роснефти rosneft deutschland refining marketing экспроприированы властями германии отданы управление немецкому федеральному сетевому агентству также власти германии готовят национализацию энергетического концерна uniper двух крупных импортеров газа сводный индекс китайских площадок утром снижается почти тестирует уровни юань пробивает психологическую важную отметку несмотря усилия народного банка китая сдерживанию ослабления национальной валюты индекс недвижимость крупнейших городах китая августе снизился обновив летний рекорд очевидно меры регулятора стимулированию экономики китая пока недостаточны фоне угрозы глобальной рецессии несмотря общий рост промпроизводства август оказался выше ожиданий некоторые важные экономики отрасли показали снижение американские фьючерсы указывают продолжение снижения индексов крупные банки прекращают финансирование металлургических компаний китае bloomberg сообщает jpmorgan icbc standard bank прекращают финансирование металлургии китае после серии кризисов скандалов усиливая давление сектор того сильно пострадавший проблем экономике данным источников bloomberg меньшей мере крупных китайских металлотрейдера последние недели заморозили сократили кредитные линии обоих банков металлургическая отрасль находится давлением одними первых себе замедление экономики почувствовали сырьевые трейдеры примеру ведущий медный трейдер maike metals international обратился напрямую правительству помощью решении проблем ликвидностью крупные банки закрыли кредитные лимиты компанию прекращение фондирования отдельных компаний отрасли также связано имеющимися соглашениями обратного выкупа рамках которых jpmorgan icbc выкупают запасы металлов дилеров соглашением последующей продаже выступая таким образом основными кредиторами компаний снижение конечного спроса продукцию металлургической отрасли рост запасов увеличивает финансовые издержки риски производителей трейдеров промпроизводство китае розничные продажи продемонстрировали уверенный рост августе розничные продажи августе выросли сравнению июле стало самым быстрым приростом последние месяцев аналитики ожидали цифру август уровне значительное восстановление розничных продаж наблюдалось общепите промпроизводство выросло сравнению июле успешных результатов август 2022 удалось достичь числе счет низкой базы прошлых периодов восстановления экономики поднебесной после ковидных ограничений власти китая продолжают поддерживать экономику путем сохранения мягкой денежно кредитной политики оказания экономических поддержки разных отраслей daily interfax хочет удвоить инвестпрограмму 2024 2025 годах запланировавшее 2023 рекордные инвестиции трлн 2024 2025 годах собирается увеличить трлн трлн соответственно инвестпрограмму 2022 года этом пришлось секвестрировать недоосвоения финансирования этих планов предусмотрен значительный рост тарифов уровне 2023 2024 году спад металлургии привел кризису отрасли заготовки лома концу 2022 года ломосбор может упасть экспорт сбор лома черных металлов россии январе июле 2022 снизился тонн причиной такого спада стало снижение спроса сырье стороны металлургических предприятий сокращение экспорта квот пошлин вывоз лома ведомости минфин предложил провести секвестр незащищенным статьям бюджета минфин порекомендовал урезать расходы российских министерств незащищенным статьям бюджета фоне роста общих расходов этом подобное решение означает минимизации бюджетных трат секвестр защищенным бюджетным статьям правительстве планируется собеседник ведомостей минобороны подчеркнул сокращении финансирования гособоронзаказа 2023 году речь также идет daily interfax макро продажи автомобилей августе выросли впервые месяцев политика президент узбекистана мирзиеев сообщил начале процедур предоставлению белоруссии членства ранее иран подписал меморандум вступлении сигнал будет определяющим динамики рынок начале сегодняшних торгов уверенно растет графике индекс rgbi видимому настраиваясь снижение ключевой ставки ждём такой рыночный консенсус само снижение ставки поддержит динамику важно понимать продолжит снижать ставку далее остановится сегодня инвесторов никогда будет важен сигнал если пресс релизе использует прошлую формулировку сигнала будет оценивать целесообразность станет хорошей новостью покупателей будет означать вероятность снижения ставки достаточно высокая если сигнал будет ужесточен вовсе будет отсутствовать можно будет трактовать предупреждение возможном завершении цикла смягчения этом случае рынок скорее всего немного скорректируется учитывая моменте большинство аналитиков ждут ставку конец года цбрф намерен продолжать диалог расширении географии приема карт комментарий после включения оператора карт нспк list yndx yandex начала работу дубае объём промышленного производства факт прог пред объём розничных продаж факт прог пред уровень безработицы китае факт прог пред решение процентной ставке сент прог пред прог прогнозное значение факт фактическое значение пред значение предыдущий период шорты tesla рублю теряют популярность инвесторам надоело делать ставки падение акций tesla впервые примерно года tesla перестала быть топовым шортом среди американских акций долларовом выражении место заняла apple капитализация которой раза больше tesla отношению всем выпущенным акций шорты apple составляют сравнению tesla tesla была крупнейшей долларовому объему коротких позиций рекордные акции время выросли даже этом году tesla снизилась меньше лучше видимому инвесторам наконец надоели постоянные убытки неудачных коротких позиций tesla точки зрения contrarian инвестора наоборот может быть негативным сигналом акций tesla tesla почти всегда выглядела пузырем плане фундаментальных показателей однако экстремальный пессимизм рынка поводу акций 2019 годах заставлял смотреть акции скорее позитивно похоже сейчас этот фактор перестает работать большинство смирилось откупило свои шорты недовесы tesla отличие большинства других высокорискованных технологических компаний акции tesla пока держатся очень хорошо например максимумов tesla снизилась всего teladoc health zoom rivian netflix innovation данным закрытие таким образом tesla один немногих оставшихся пузырей возможно именно сейчас когда инвесторы устали ждать наконец лопнет российском рынке видим усталость многих купивших валюту ждать дальше ослабления рубля может объяснять небольшое укрепление несмотря негативный считаем разворот валютном рынке горами https investing news stock market news apple most shorted stock overtaking tesla 432si 2892379 еврооблигации выплаты купонов евробондам россии украины сентября суверенные евробонды россии россия 16sep2023 россия 16sep2043 корпоративные евробонды россии фосагро 16sep2028 северсталь 16sep2024 выплаты суверенным корпоративным евробондам украины сегодня запланированы календарь событий cbonds smlt бонды бонды самолета растут преддверии решения процентной ставке текущая доходность облигациям годовых прежнему привлекательно текущей ставке ожидаемом снижении ранее мозговой центр сигналов открыл идею облигациям самолет макро путин обратился секретариату просьбой потребовать еврокомиссии снять ограничения российские удобрения развивающихся государств готова бесплатно передать развивающиеся страны тонн своих удобрений скопившихся европейских портах путин серверы зарубежных чипах таки можно днях утвержден проект минпромторга согласно которому российским серверам системам хранения данных обязательно обладать отечественными процессорами чтобы получить доступ рынок госзаказа основной причиной заявлениям участников рынка является большая потребность госсектора технике российских процессоров всех может просто хватить сейчас рамках работы госзаказом работает простое правило второй лишний согласно которому если заявках участие закупке есть хоть один представитель отечественной электроники остальные автоматически отклоняются новое постановление просто прописывает детали того какое серверное оборудование системы хранения данных будет считаться достаточно отечественным чтобы получать преференции надо сказать данная идея нова возникла недавно минимум протяжении последних двух разных уровнях обсуждались подобные балльные системы оценивания многое современных реалиях данная инициатива прозвучала двояко менее есть основания полагать благодаря данной системе присвоение статуса отечественного производителя поставщика основе соответствия некоторым критериям поможет нашей индустрии первую очередь было банально конкуренции рынке госзаказа может стать больше конкуренция хорошо вторых производители смогут первое время заботиться самых трудных моментах оборудования рамках российских реалий также смогут просто поставить иностранные решения например чипами после этого будет возможность заняться локализацией производства иных компонентов попроще минимум звучит реалистичнее попытка сделать отечественное срок вчера последнюю очередь такой подход даст возможность лучше спланировать стратегические инвестиции производство более четкую картину окупаемости вложений общем новость внушает оптимизм однако сожалению стоит понимать краткосрочного эффекта отечественное производство микро просто электроники вряд окажет крайней мере значительного картина более длинном горизонте чуть чуть таки посветлела bitkogan политика швейцария полностью приостановила упрощенный порядок выдачи россиян макро статистика еврозона инфляция августе гфакт прогноз пред новостикомпаний российские компании основные события сентября начинают действовать новые правила формирования индексов мосбиржи базы расчета imoex исключаются депозитарные расписки headhunter group индекс голубых фишек включается фосагро исключается нлмк акционеры одобрили реорганизацию компании путем присоединения россетей также принято решение увеличить уставный капитал компании путем размещения дополнительных трлн акций рамках слияния россетями прайм росдорбанк последний день попадания реестр акционеров имеющих право получение дивидендов сбербанк работает несколькими компаниями которые планируют выйти 2022 году мнению зампреда правления сбербанка анатолия попова состояние рынка позволяет рассчитывать успех дебютных сделок первые обсуждаемые размещения млрд случае положительных результатов первых сделок объемы могут вырасти млрд сделку коммерсантъ выручка veon владеющей вымпелкомом деятельности россии январь август выросла годовом выражении млрд долларов следует отчетности компании показатель ebitda отчетном периоде составил млрд выше аналогичного показателя годичной давности прайм макро статистика евросоюз инфляция августе гфакт пред пятничный пост игры казино чтобы испытать удачу просто скопируйте один эмодзи ниже вставьте комментарии этим постом рейтингиснг присвоение изменение рейтинга прогнозов странах сентября эбис понижение кредитного рейтинга обусловлено неисполнением обязательств выплате купона выпуску облигаций серии купона выпуску облигаций серии общем объеме которые должны были быть выплачены августа 2022 года спустя рабочих дней обязательства остаются неисполненными признается дефолтом является основанием снижения рейтинга компании пресс релиз expert система изменение прогноза рейтингу позитивного стабильный обусловлено падением рыночной капитализации котируемых активов segezha group ozon группа эталон было обусловлено ухудшением общей макроэкономической обстановки негативной динамикой всего финансового рынка россии пресс релиз expert прошёл день fedex доставка сильных финансовых результатов отменена проблему бойкотов решили отчитался fedex крупнейшее приобретение истории adobe figma называется видели волатильности если видели amtd digital подробнее читайте обзоре международные рынки акций рынках сегодня американские площадки вновь закрылись красной зоне снизился nasdaq jones розничные продажи августе выросли поскольку снижение первую очередь бензин поддержало потребительские расходы отчёт стал одним подтверждением того экономика состоянии выдержать высокие процентные ставки сейчас трейдеры оценивают вероятность повышения ставки сентябре вероятность подъема промышленное производство стране снизилось хотя годовом исчислении рост составил объём производства обрабатывающей промышленности вырос горнодобывающей промышленности остался изменений коммунальном хозяйстве снизился использование производственных мощностей снизилось сравнению июлем составило азиатские индексы снизились итогам пятничных торгов nikkei сократился csi300 kospi объём розничных продаж китае августе вырос промышленного производства уровень безработицы опустилась минимальных значений января текущего года составила аутсайдерами бирже гонконга сегодня были бумаги country garden holdings china shenhua energy baidu европейские площадки открыли торги падением euro stoxx снижается розничные продажи великобритании снизились основные секторы снизились впервые июля 2021 наибольший отрицательный вклад внесла нестационарная розничная торговля продажи непродовольственных магазинах снизились продажи автомобильного топлива упали продовольственных магазинов акции международныерынкиакций цбрф через минут ожидается понизит ключевую ставку приближается благоприятный момент перевода сбережений китайскую валюту курс юаня доллару снизился минимума начала 2020 года августе прогнозировали вероятность новой волны девальвации район подтверждаем такой прогноз почему взгляд текущая волна девальвации походит концу этом году китайские власти дадут девальвироваться своей валюте ниже доллар минимуму 2019 2020 года первых накопленная инфляция китае последние года гораздо ниже европе всего сравнения долларовая инфляция года августа 2020 август 2022 еврозоне вторых сильная девальвация евро японской иены корейской воны многом объясняется ухудшением внешнеторговых балансов вызванных ростом издержек импорт энергоносителей замедлении спроса высокотехнологичный экспорт этих стран однако китае порядке торговым балансом августе вырос нового рекордного уровня млрд годовом выражении наконец нашему субъективному мнению отличие многих валют девальвация усугублена спекулятивным оттоком капитала юань международные инвесторы обладают значимым влиянием девальвация основном объясняется желанием властей избежать слишком укрепления отношению валютам региональных конкурентов августа юань самой крепкой основных азиатских валют учетом последнего падения накопленная года девальвация отношению доллару составила чуть больше снижение сингапурского доллара индонезийской рупии учитывая внутри россии становится опаснее хранить сбережения долларах евро считаем сейчас неплохой момент перекладки валютных сбережений китайскую валюту президент столыпинского клуба инвестбанкир евгений коган своей колонке газета проанализировал зависимость рентабельности отдельных компаний курса рубля определил комфортный курс также эксперт предложил механизмы удержания определенном уровне макро статистика решение процентной ставке рффакт прогноз пред макроэкономика ключевая ставка банк россии принял решение понизить ключевую ставку текущие темпы прироста потребительских остаются низкими способствуя дальнейшему замедлению годовой инфляции связано влиянием набора разовых факторов сдержанным потребительским спросом динамика деловой активности складывается лучше банк россии предполагал июле однако внешние условия российской экономики остаются сложными прежнему значительно ограничивают экономическую деятельность повышенном уровне остаются инфляционные ожидания населения ценовые ожидания предприятий банк россии будет принимать дальнейшие решения ключевой ставке учетом фактической ожидаемой динамики инфляции относительно цели процесса структурной перестройки экономики также оценивая риски стороны внутренних внешних условий реакции финансовых рынков прогнозу банка россии годовая инфляция составит 2022 году учетом проводимой денежно кредитной политики снизится 2023 году вернется 2024 году следующее заседание совета директоров банка россии котором будет рассматриваться вопрос уровне ключевой ставки запланировано октября 2022 года динамика изменения ключевой ставки доступна ссылке банк россии итогам своего заседания понизил ключевую ставку отметки годовых сигнал банк россии будет принимать дальнейшие решения ключевой ставке учетом фактической ожидаемой динамики инфляции относительно цели процесса структурной перестройки экономики также оценивая риски стороны внутренних внешних условий реакции финансовых рынков https press file 16092022_133000key цбрф понизил прогноз инфляции 2022 пред прогноз прогноз 2023 сохранен цбрф снижение 2022 году будет ближе цбрф динамика деловой активности складывается лучше ожидал июле цбрф усиление санкций может привести большему ожидается базовом сценарии снижению потенциала экономики россии цбрф исходит принятой траектории расходов бюджета расширении бюджетного дефицита может потребоваться более жесткая цбрф восстанавливается необеспеченное потребительское кредитование ипотечном сегменте наблюдается существенный рост поддержку кредитной активности оказывали правительственные программы льготного кредитования произошедшее апреле июле снижение ключевой ставки банк россии опустил ставку годовых очень логичный писали неоднократно этом канале bitkogan_hotline выводы банковские ставки могут немного снизиться ближайшие месяцы доходности российских облигаций новости отреагировали обещали ставка была заложена рынок фразу банк россии будет оценивать целесообразность снижения ключевой ставки втором полугодии 2022 года убрали этого пресс релиза может после этого заседания сделает паузу будем присутствовать пресс конференции эльвиры набиуллиной состоится сегодня канале прокомментируем самые интересные моменты ставка bitkogan встает паузу помимо снижения ставки пересмотрел сегодня прогноз инфляции конец года снизив ожидаемо после аномально низких цифр последних месяцев также указал динамика складывается ближе верхней границе прогноза 2022г который сейчас составляет скорее всего октябре повысит понизит 2023г давно очевидно кризис сместился вправо будет более длительным глубине примерно таким оценивалось ранее самое интересное сигнал точнее отсутствие напомним стандартные формулировки сигнала допускает возможность снижения повышения сильный будет оценивать целесообразность снижения повышения сегодняшнем пресс релизе направленного сигнала однозначное указание цикл снижения ставки возможно завершён повод сокращения длинных позиций нельзя исключать первой половине следующего года начнет повышать ставку особенно если пакет санкций окажется эффективным торговый профицит схлопнется рубль упадёт вебинар эмитентом приглашаем принять участие онлайн семинаре cbonds размещение облигаций группы черкизово онлайн семинар состоится сентября участия необходимо предварительно зарегистрироваться ссылке участие бесплатное конце сентября группа черкизово планирует предложить инвесторам новый выпуск облигаций серии 001р объём размещения менее млрд срок обращения года является инвестиционной рекомендацией yndx яндекс ожидает снижения поисковой доли рынке после смены главной страницы после сделки обмену дзена новостей delivery club главной страницей яндекса стала политика швейцария приостанавливает обмен налоговой информацией россией фунт пошел фунт упал минимум 1985 года далеко позади оставив черную среду вызванную спекуляцией сороса 1992 году причинах падения фунта кратко писал здесь добавить особо этому нечего кроме интересной исторической иллюстрации картинку посту фунт сорос черная среда пресс конференция эльвиры набиуллиной алексея заботкина https press event 14161 политика канцлер германии шольц говорит теперь можем сказать энергоснабжение зимой безопасности готовы прекращению поставок российской нефти последнем разговоре путиным обсуждали роснефть цбрф прямая трансляция пресс конференции главы набиуллиной цбрф броши цбрф пространство дальнейшего снижения ключевой ставки сузилось глава набиуллина заканчивается принудительный перевод иностранных депозитариев важное напоминание если владеете российскими isin которых начинается рубежом осталось совсем немного времени чтобы собрать необходимые документы перевести россию если этого сделаете сможете получать доход этим бумагам актуально всех владельцев ruшных числе покупал рубежом контуре euroclear низким ценам надежде возможность перевода продажу гораздо более высоким ценам контуре напомню июле принят закон которым предусмотрено право владельца российских ценных бумаг учитываемых иностранных депозитариях изменить место учета принудительном порядке этого позднее октября 2022 необходимо обратиться российский депозитарий открыт счет депо иностранного номинального держателя учитывающего права бумаги заявлением свободной форме заявлению необходимо приложить документы которые свидетельствуют владении соответствующим количеством ценных бумаг течение рабочих дней после окончания срока приема заявлений есть позднее октября 2022 депозитарии начнут списывать ценные бумаги счета депо иностранного номинального держателя зачислять счет депо обратившегося заявлением держателя данный порядок распространяется любые бумаги российских эмитентов хранящиеся счёте иностранного номинального держателя узнать хранятся бумаги можно брокера через которого осуществлялась покупка бумаг сути части облигаций категорию попадают только ruшные евробонды корпоратов сюда относятся isin начинаются реже совсем единицы принудительно перевести нельзя сложность казалось время чтобы подать заявление есть нужно учитывать того чтобы подтвердить владеете ценными бумагами придётся собрать довольно большой пакет документов потребуется время поэтому если начнёте действовать прямо сейчас можете успеть дедлайну подробный перечень документов который придётся предоставить заявлением также разъяснения содержанию содержится порядке утверждённом который можете скачать здесь например владельцев бумаг потребуется выписка иностранного депозитария euroclear которая должна быть апостилирована переведена русский язык если язык выписки английский перевод потребуется показывает практика получить такую выписку можно через всех иностранных брокеров кроме того появилась информация euroclear последние недели выдаёт выписки ценным бумагам тикером можно перевести бумаги предоставления этих выписок большой вопрос поэтому следует предпринять разумные действия получению кроме того мнению дмитрия дорофеева если найдутся недобросовестные лица которые подадут свои выписки несколько есть риск блокировки перевода соответствующих бумаг euroclear россию всем обратившимся этом если застрять euroclear будет невозможно получать доход выплаты суверенным еврооблигациям сейчас осуществляются рублевом эквиваленте внутри российской инфраструктуры продать адекватной стоимости бумаги тоже будет нельзя скорее всего внешнем контуре очень сильно обесценятся после даты завершения принудительной расконвертации получить подробную информацию делать подробный порядку применения закона есть сайте рекомендую воспользоваться этой возможностью если есть ruшные периметром повторюсь этой процедуре нельзя вернуть россию бонды российских компаний вернуть можно только только которых isin начинается цбрф структурная перестройка может оказывать дезинфляционное давление набиуллинасанкции импорт экспорт могут оказывать инфляционный дезинфляционный эффект экономику цбрф структурная перестройка экономики будет сопровождаться ростом набиуллина цбрф допускает годовая инфляция iп2023 временно опустится ниже цели эффекта базы цбрф беспокоит инфляционные ожидания населения остается высоких уровнях набиуллина цбрф высокой вероятностью прогноз этот будет улучшен набиуллина цбрф банки восстанавливают аппетит риску сегменте розничного кредитования набиуллина цбрф расходы бюджета последние месяцы растут ускоренными темпами чревато проинфляционным давлением набиуллина цбрф цикл снижения ключевой ставки скорее всего близок завершению набиуллина цбрф рассматривали снижение ставки сохранение ставки набиуллина цбрф исключаем повышения ставки следующем заседании набиуллина цбрф вижу оснований возвращения брошей набиуллина премаркетинг календарь рыночных размещений сентябрь данные сентября премаркетинг календарь рыночных размещений сентябрь данные сентября премаркетинг календарь рыночных размещений сентябрь октябрь данные сентября цбрф понимаем кризис требует расходов считаем долгосрочном горизонте бюджетный дефицит должен постепенно сокращаться набиуллина цбрф плавающий курс рубля лучше фиксированного поскольку позволяет проводить независимую набиуллина черные списки пополнились представителями российской электроники только написали россии государственном уровне отечественным производителям упростили жизнь стало известно сторону океана внесли черные списки секторальные санкции были раньше теперь дело серьезнее лист минфин приписал всем американским компаниям октября свернуть операции российскими компаниями байкал электроникс мцст элвис аквариус структура yadro единственным исключением являются сделки разрешенные лицензией сейчас правда только действия направленные прекращение бизнеса отличаются нынешнии санкции предыдущих ранее американским компаниям запрещалось предоставлять дизайн центрам определенные программы технологии время если представителями российской микро просто электроники желали работать компании предоставляющие иные виды услуг например банки логистические компании серьезных препятствий стороны регуляторов возникало теперь нельзя всем никак ничего насколько серьезно дело приняло крайне плачевный оборот теперь компаниям списка навряд удастся получить хоть какой нибудь доступ зарубежным производственным мощностям осложнится путь реализации локальных производств опыте других секторов становится также понятно производители простых комплектующих откажутся поставок нашим производителям другого сотрудничества большинстве своём опасений вторичных санкций тому удар попадают запущенные работающие проекты ведь резко сокращаются возможности обеспечению должного обслуживания встает вопрос долго смогут выполнять свои задачи итоге получаем практически полное отсутствие перспектив отечественного производства чипов если точнее скорее всего прощаемся верой отечественные чипы смогут хоть когда либо стать мало мальски конкурентоспособными некоторых направлениях интересно некоторые производители даже заявляют были этому готовы планах трехкратный рост производства 2025 году данном вопросе хочется надеяться хороший исход совсем понятно tech санкции bitkogan цбрф счетах типа накоплено несколько сотен миллиардов рублей набиуллина цбрф стремимся повысить доверие частного инвестора начале сентября было первое уголовное дело делу инсайдерской информации валютном рынке набиуллина цбрф готовы обсуждать способы использования криптовалют международных расчетов против использования свободного обращения внутри страны набиуллина добыча нефти россии сентябре чуть выше августовского уровня сегодня появилась традиционная информация ссылкой отраслевые источники добыча нефти газовым конденсатом сентября тонн сутки августе баррелях августе июле начала года добыча складывается уровне среднем 2021готметим сентября 2021г добыча нефти резко пошла вверх августе 2021 январе 2022 поэтому если сейчас добыча нефти будет расти динамика году резко ухудшится негативно повлияет также годовую динамику промышленности эффект санкций добычу непредсказуем знаем сработает пакет санкций декабря эмбарго нефть февраля нефтепродукты кону судьба нефти нефтепродуктов наших макро прогнозах исходим снижения добычи 2023 снижение может происходить плавно осторожничает понизил ставку рассматривая заседании следующие варианты факто жесткий намек цикл понижения ставки закончен подтверждает опасения которые высказывал счет бюджета набиуллина послала прямой сигнал правительству сказав если бюджетные расходы будут чрезмерными придется повышать процентную ставку выше нормальной намёк поняли также указывает чрезмерный рост сбережений населения фоне высоких растущих инфляционных ожиданий может резко развернуть инфляцию вверх отдельная пикантность вопрос заданный журналистом главе инсайдерскую торговлю акциях газпрома если хотите посмотреть либеральный экономист крутится сковородке посмотрите видео пресс конференции минуты начала бюджет инфляция макро макроэкономика набиуллина околонулевые ставки ипотеке застройщика могут говорить завышенной цене недвижимости будет принимать меры введение заблуждение ровно писали сегодня утром https russianmacro 15400 цбрф ставка несубсидируемой ипотеке может быть ниже ставка долгосрочным набиуллина целом снижение инфляции делает ипотеку более доступной достижении цели инфляции ставка ипотеке субсидий будет районе ипотека россии очень востребована удобный способ людей доступная ипотека важна этого нужна низкая инфляция следим ипотечным рынком чтобы допустить формирования пузыря данные инфляции опубликованные вторник разочаровали инвесторов базовая потребительская инфляция сore которая включает цены продукты питания энергоносители выросла сравнению месяцем ранее годовом выражении ускорилась показателя оказались выше ожиданий аналитиков подстегивают ожидания третьего подряд повышения ставки пунктов предстоящем заседании сентября примечательно отчета участники рынка обсуждали будет ставка повышена базисных пунктов сейчас рынки исключают вероятности более резкого роста базисных пунктов частности бывший министр финансов ларри саммерс написал твиттере течение некоторого времени казалось сентябре движение базисных пунктов будет уместным если пришлось выбирать между выбрал движение чтобы укрепить доверие ситуацию ставками прокомментировала управляющая фондом geist елена чиркова касается дальнейшего повышения процентных ставок есть интересная закономерность обычно ставки повышают пока учетная ставка превысит инфляцию иными словами станет положительной реальном выражении подтверждение этой мысли можно увидеть графике источник carson investment research стоит отметить инфляция постепенно снижается летних максимумов сейчас прогноз росту ставки находится районе первое полугодие 2023 года какого уровня вашему будет подниматься ставка макро ставка политика россия сделает чтобы украинский конфликт прекратился можно скорее путин макро поставки удобрений россию индию выросли путин апдейт посту обмен пленными деньгами эльвира набиуллина подтвердила вариант ровно меня написано может меня цитировала вариант тоже допустила звучит пока маловероятно санкции разморозка brent live карта рынка 2022 долгожданный апгрейд шпиона 2022 году когда нибудь летали дроне когда картинка камеры дрона передается монитор шлеме пилота полностью погружая полет разработанный одним самых секретных хедж фондов россии шпион создает картинку рынка ценных бумаг нескольких измерениях дрон изменяет ваше восприятие мира навсегда шпион приносит трейдеру несколько прибыльных сделок неделю результаты особенно период отчётностей умеет обновленный ищет инсайдерские другие крупные сделки анализируя стаканы мосбирже моментально доставляет информацию корпоративных событиях публичных компаний выход отчётности объявление дивидендов подключите шпиона спецусловиях конца недели понедельника цена будет выше дней дней дней защитные инструменты сервисе подписке прибыльных сделок видим какая высокая волатильность сегодня бушует мировых фондовых площадках какие есть пути чтобы зарабатывать падающем рынке угадывать какие именно акции будут двигаться против индексов например netflix вчера чрезвычайно сложно более того путь убыткам высокой долей вероятности сервисе подписке используем хеджирования агрессивной стратегии высоковолатильные шорт soxs лонг urty применение высокий риск поэтому обращаться этими инструментами нужно крайне осторожно результаты более положительные полугодие 2022 процент прибыльных сделок этим инструментам составил около отдельные сделки приносили одну торговую сессию более прибыли результате доходность агрессивной стратегии начала полугодия опережает бенчмарк примерно начала работы стратегии 2019 обгон превышает сервисе стараемся лавировать бушующем море рынков помощью подобных хеджей последнее время получается делать особенно удачно bitkogan основныесобытия вечерний дайджест важное пресс конференции результатам заседания ключевой ставке пятницу рассматривал снижение ставки также сохранение банк россии высокой долей вероятности октябре улучшит прогноз 2022 структурная перестройка экономики россии может сопровождаться только инфляционными дезинфляционными эффектами банк россии считает необходимым изменить законодательство сфере инвестиционных советников повысить ответственность перед клиентами хочет приступить тестированию цифрового рубля реальных условиях апреля 2023 года оставляет собой возможность давать более направленный сигнал ключевой ставке дальнейшем банк россии исключает каких движений ключевой ставке пространство снижения сузилось будет оценивать влияние внешних внутренних факторов глава банка россии эльвира набиуллина заявила пока видит оснований снова надевать броши после заседаний ключевой ставке поставок российского газа турцию будет оплачиваться рублях путин банк россии снижает ключевую ставку годовых российский рынок госбондов замедлил рост после пресс конференции главы набиуллиной которая дала четкий сигнал рынку цикл снижения ключевой ставки близок завершению котировки длинных реагируют комментарии набиуллиной заметным снижением рынке корпоративных облигаций более позитивный настрой индекс rucbitr демонстрирует рост доходности treasuries продолжают рост моменте летние прибавляют летние консенсус прогноз аналитиков предполагает размере предстоящем заседании конце сентября рынок облигаций первичным размещением планирует выйти группа черкизово fixedincome еврооблигации северсталь смогла выплатить купон еврооблигациям 2024 санкций следует сообщения компании северсталь сообщает сентября 2022 наступает срок уплаты очередного купонного дохода размере выпуску еврооблигаций погашением 2024 году ставкой годовых сроком погашения 2024 году сообщалось ранее связи введенными отношении северсталь ограничениями стороны иностранных государств продолжение обслуживания обязательств соответствии предусмотренным документацией порядком настоящий момент невозможно сообщалось ранее связи введенными отношении северсталь ограничениями стороны иностранных государств продолжение обслуживания обязательств соответствии предусмотренным документацией порядком настоящий момент невозможно северсталь подала заявления предоставлении лицензий уполномоченные иностранные регулирующие органы просьбой предоставить разрешения необходимые проведения платежей еврооблигациям обычном порядке однако данный момент такие разрешения получены каких либо гарантий относительно того будут выданы какой срок настоящий момент компания находится процессе выработки возможного текущих условиях варианта обслуживания долга евробондам указанной серии ближайшее время планирует вынести обсуждение инвесторами четверг доходность двухлетних казначейских облигаций превысила доходность тридцатилетних фоне данных инфляции этом данным allspring global investments инверсия двух летних доходностей может достичь максимума 1980 годов такое почему важно давайте разберемся кривая доходности линия отображающая взаимосвязь между доходностями облигаций сопоставимого кредитного рейтинга сроками погашения правило может быть трех видов нормальная кривая наклоном вверх инвертированная перевернутая кривая наклоном вниз плоская наклон кривой доходности индикатор будущего состояния экономики нормальная кривая доходности начинается низкой доходности облигаций более коротким сроком погашения затем увеличивается облигаций более длительным сроком погашения наклоняясь вверх этот кривой наблюдается нормальной рыночной ситуации ожиданиях экономического роста когда инвесторы требуют большей доходности мере увеличения срока погашения плоская кривая доходности характеризуется одинаковой доходностью облигациям разными сроками погашения обычно возникает нормальной перевернутой кривой доходности указывает переход либо экономическому росту либо рецессии инвертированная кривая доходности наклоном вниз появляется ситуациях когда доходность облигаций более близким сроком погашения превышает доходность облигаций более далеким сроком погашения говорит надвигающемся периоде замедления экономического роста роста инфляции когда переворачивается традиционное представление долгосрочный долг сопряжен большим риском краткосрочный теперь вернемся тому произошло рынке текущая разница между доходностью двухлетних летних облигаций является самым большим разрывом среди базовых ставок года подтверждает опасения грядущей рецессии фоне более серьезной инфляции ожиданий повышения процентной ставки allspring global investments допускает сценарий котором участки кривой продолжат двигаться отрицательную территорию доходность двухлетним облигациям вырастет доходность летним облигациям упадет может привести самой серьезной инверсии 1980 годов когда процентные ставки достигли фоне инфляции можно сделать вывод находимся довольно интересном периоде когда есть возможность проверить насколько теория работает практике облигации ликбез кризис bitkogan бюджетная статистика свидетельствует заметном оживлении импорта августе данным минфина налоговые поступления федеральный бюджет импорта августе месяцем ранее сложно сказать имеет место разовый всплеск начало восстановления если рост импорта будет носить устойчивый характер думаем потребительским товарам инвестиционным окажет дезинфляционное влияние экономику через наполнение рынков подешевевшими курса импортными товарами дезинфляционный эффект может оказать увеличивающийся ввоз через параллельный импорт контрафактной продукции эффекты фоне слабого потребительского спроса могут сдержать ускорение инфляции есть один важный макроэффект восстановления потребительского импорта условиях кризиса наводнение страны дешёвыми импортными товарами может нанести сильный удар внутренним производителям таких товаров многие которых возможно преждевременно обрадовались освобождению рынка прошёл день российский рынок попытка роста ожиданиях более существенного снижения ставки увенчалась успехом предупреждение скором завершении цикла понижения отрезвляюще подействовала инвесторов однако скоро завершится значит совсем если инфляция инфляционные ожидания позволят есть вероятность увидеть ключу концу года лидерах снижения сегодня акции застройщиков однако растущий тренд многих бумагах сохраняется lsrg смотрится подбора районе pikk районе пятница завершается brent стабилизацией уровне после провала четверг новостная повестка придаст необходимого импульса более энергичного рывка выяснил reuters лидеры опек внутри альянса неофициально достигли консенсуса справедливой цене черное золото уровне время активных мероприятий достижения стороны крупных игроков рынка пока пришло плавно укрепившийся неделю доллар индексу вместе ожиданием скорого заседания также оказывало негативное давление цены энергоносители золото золото пятницу преимущественно колебалось уровне 1660 унцию лишь самому вечеру предприняло попытку отскока 1673 ожидаем торговые уровни будут сформированы диапазоне 1650 1670 следующей неделе нашел сегодня зыбкую опору уровне 3840 пунктов лидирует снижении сектор бумаги microsoft msft тестируют довольно интересный уровень минимумы 2021 учитывая сделка microsoft activision попала пристальное внимание регуляторов бельгии великобритании акциям компании будет сложно повторить свой отскок трехмесячной давности текущих уровней является инвестиционной рекомендацией рсхбинвестиции акции облигации российские восстание рынок практически умер этом году если 2021 российские компании price segezha group ренессанс страхование softline cian биржа привлекли порядка млрд текущем году результат пока нулевой причины полагаем всем понятны менее известно жизнь способна пробиваться даже сквозь камень бетон первые ласточки российских размещений начали появляться горизонте сервис аренды самокатов whoosh планирует выходить 2022 компания может открыть новый этап россии текущие реалии отсутствие рынке иностранных инвесторов недружественных стран свою очередь российским игрокам нужны новые идеи кратко рассмотрим вероятные триггеры whoosh компания является лидером своем рынке парк самокатов белоруссии казахстане составляет около рост начала года сильные финансовые показатели полугодии 2022 выручка компании увеличилась году млрд итогам полугодия 2022 рентабельность ebitda составила более кроме того whoosh отличается низкими административными издержками дивиденды компания может предложить хороший дивидендный кейс последний отчетный период whoosh выплатила акционерам млрд тренде зеленой повестки самокатам нужны бензин дизель загрязняют воздух конечном счете ведет снижению выбросов альтернатива другим видам транспорта такси личные авто особенно теплый сезон технологическая компания собственными решениями речь идет управлении самокатами через интернет также примеру имеется функция принудительного снижения скорости людных местах рынке компании часто получают двузначные мультипликаторы оценке посмотрим будет whoosh каковы детали размещения whoosh намерена разместить акции млрд предварительная оценка стоимости компании money данным reuters составляет около млрд каковы риски первых фактор сезонности если речь идет европейской части россии зимой кататься самокатах прямо скажем совсем комфортно вторых тайминг вовремя компания задумала размещаться одной стороны есть факт частичной утери доверия инвесторов фондовому рынку другой стороны индексы находятся близко минимумам последние несколько момент вполне может быть удачным вывод однозначно позитивно появляются компании которые хотят привлечь капитал фондовом рынке взгляд whoosh есть шансы разместиться успешно учитывая триггеры которые описали выше вполне привлекательная история возглавит компания восстание российского рынка посмотрим российский_рынок bitkogan brent live карта рынка 2022\n"
     ]
    }
   ],
   "source": [
    "print(' '.join(train_tokenized[0]))"
   ]
  },
  {
   "cell_type": "code",
   "execution_count": 191,
   "id": "d21450b9",
   "metadata": {},
   "outputs": [
    {
     "name": "stdout",
     "output_type": "stream",
     "text": [
      "Количество уникальных токенов 12914\n",
      "[('программы', 0), ('многих', 1), ('учетом', 2), ('обзоре', 3), ('валют', 4), ('долг', 5), ('минимум', 6), ('системы', 7), ('group', 8), ('итоге', 9)]\n"
     ]
    }
   ],
   "source": [
    "# строим словарь - vocabulary с помощью функции build_vocabulary\n",
    "# принимает на вход список списков токенезированные\n",
    "# word_doc_freq - содержит относительные частоты всех слов в датасете, он понадобиться \n",
    "# на этапе формирования матрицы признаков\n",
    "\n",
    "MAX_DF = 0.8 #во скольких документах встречаеться слово\n",
    "MIN_COUNT = 5 # сколько раз слово встречаеться в тексте\n",
    "\n",
    "\n",
    "vocabulary, word_doc_freq = build_vocabulary(train_tokenized, max_doc_freq=MAX_DF, min_count=MIN_COUNT)\n",
    "UNIQUE_WORDS_N = len(vocabulary)\n",
    "print('Количество уникальных токенов', UNIQUE_WORDS_N)\n",
    "print(list(vocabulary.items())[:10])"
   ]
  },
  {
   "cell_type": "code",
   "execution_count": 192,
   "id": "49502d4a",
   "metadata": {},
   "outputs": [
    {
     "data": {
      "image/png": "[encoded data removed]",
      "text/plain": [
       "<Figure size 432x288 with 1 Axes>"
      ]
     },
     "metadata": {
      "needs_background": "light"
     },
     "output_type": "display_data"
    }
   ],
   "source": [
    "plt.hist(word_doc_freq, bins=20)\n",
    "plt.title('Распределение относительных частот слов')\n",
    "plt.yscale('log');"
   ]
  },
  {
   "cell_type": "code",
   "execution_count": 193,
   "id": "8adcfc64",
   "metadata": {},
   "outputs": [
    {
     "name": "stdout",
     "output_type": "stream",
     "text": [
      "Размерность матрицы признаков обучающей выборки (72, 12914)\n",
      "\n",
      "Количество ненулевых элементов в обучающей выборке 183473\n",
      "Процент заполненности матрицы признаков 19.73%\n",
      "\n"
     ]
    }
   ],
   "source": [
    "VECTORIZATION_MODE = 'tfidf'\n",
    "# построение матрицы признаков по методу мешка слов\n",
    "# функция vectorize_texts принимает на вход\n",
    "#1. токенизированные список списков\n",
    "#2. словарь\n",
    "#3. вектор частоты токенизированны\n",
    "#4. алгоритм взвешивания токенов по частоте mode - есть 4 алгорима - bin,tf,idf,tfidf\n",
    "#5. флаг чтобы перемаштабировать флаг после взвешивания\n",
    "\n",
    "train_vectors = vectorize_texts(train_tokenized, vocabulary, word_doc_freq, mode=VECTORIZATION_MODE)\n",
    "\n",
    "print('Размерность матрицы признаков обучающей выборки', train_vectors.shape)\n",
    "print()\n",
    "print('Количество ненулевых элементов в обучающей выборке', train_vectors.nnz)\n",
    "print('Процент заполненности матрицы признаков {:.2f}%'.format(train_vectors.nnz * 100 / (train_vectors.shape[0] * train_vectors.shape[1])))\n",
    "print()\n"
   ]
  },
  {
   "cell_type": "code",
   "execution_count": 194,
   "id": "37703aa0",
   "metadata": {},
   "outputs": [
    {
     "data": {
      "image/png": "[encoded data removed]",
      "text/plain": [
       "<Figure size 432x288 with 1 Axes>"
      ]
     },
     "metadata": {
      "needs_background": "light"
     },
     "output_type": "display_data"
    }
   ],
   "source": [
    "plt.hist(train_vectors.data, bins=20)\n",
    "plt.title('Распределение весов признаков')\n",
    "plt.yscale('log');"
   ]
  },
  {
   "cell_type": "code",
   "execution_count": null,
   "id": "22c52193",
   "metadata": {},
   "outputs": [],
   "source": [
    "#word2vec"
   ]
  },
  {
   "cell_type": "code",
   "execution_count": 160,
   "id": "d0905a5b",
   "metadata": {},
   "outputs": [],
   "source": [
    "from gensim.models import Word2Vec"
   ]
  },
  {
   "cell_type": "code",
   "execution_count": null,
   "id": "b142cc83",
   "metadata": {},
   "outputs": [],
   "source": [
    "train_vectors"
   ]
  },
  {
   "cell_type": "code",
   "execution_count": 195,
   "id": "bb7c622e",
   "metadata": {},
   "outputs": [
    {
     "name": "stdout",
     "output_type": "stream",
     "text": [
      "semeval-2016-2017-task3-subtaskBC\n",
      "semeval-2016-2017-task3-subtaskA-unannotated\n",
      "patent-2017\n",
      "quora-duplicate-questions\n",
      "wiki-english-20171001\n",
      "text8\n",
      "fake-news\n",
      "20-newsgroups\n",
      "__testing_matrix-synopsis\n",
      "__testing_multipart-matrix-synopsis\n",
      "fasttext-wiki-news-subwords-300\n",
      "conceptnet-numberbatch-17-06-300\n",
      "word2vec-ruscorpora-300\n",
      "word2vec-google-news-300\n",
      "glove-wiki-gigaword-50\n",
      "glove-wiki-gigaword-100\n",
      "glove-wiki-gigaword-200\n",
      "glove-wiki-gigaword-300\n",
      "glove-twitter-25\n",
      "glove-twitter-50\n",
      "glove-twitter-100\n",
      "glove-twitter-200\n",
      "__testing_word2vec-matrix-synopsis\n"
     ]
    }
   ],
   "source": [
    "import gensim.downloader as api\n",
    "for k, v in api.info().items():\n",
    "    for k1, v1 in v.items():\n",
    "        print(k1)"
   ]
  },
  {
   "cell_type": "code",
   "execution_count": 31,
   "id": "f75a3b09",
   "metadata": {},
   "outputs": [],
   "source": [
    "model_t1 = api.load('glove-twitter-200')"
   ]
  },
  {
   "cell_type": "code",
   "execution_count": 115,
   "id": "499b448c",
   "metadata": {},
   "outputs": [],
   "source": [
    "model_t = api.load('glove-twitter-100')"
   ]
  },
  {
   "cell_type": "code",
   "execution_count": 196,
   "id": "e0d602e8",
   "metadata": {},
   "outputs": [],
   "source": [
    "from gensim import utils\n",
    "\n",
    "def get_vectors_gt100(row):\n",
    "    '''\n",
    "      word_doc_freq # частоты слов\n",
    "      train_tokenized #сами слова\n",
    "    '''\n",
    "    vecs = [np.zeros(100)]\n",
    "    for word in row:\n",
    "        #print(row)\n",
    "        try: \n",
    "            # если слово есть в нашем очищенном словаре\n",
    "            # умножаем вектор на вес tfidf\n",
    "            v = model_t[word] * word_doc_freq[vocabulary[word]] \n",
    "        except:\n",
    "            v = np.zeros(100)\n",
    "        vecs.append(v)\n",
    "    return np.sum(np.array(vecs),axis=0)"
   ]
  },
  {
   "cell_type": "code",
   "execution_count": 197,
   "id": "681eaebb",
   "metadata": {},
   "outputs": [],
   "source": [
    "train_vectors_gt100 = np.array([get_vectors_gt100(i) for i in train_tokenized])\n",
    "val_vectors_gt100 = np.array([get_vectors_gt100(i) for i in val_tokenized])"
   ]
  },
  {
   "cell_type": "code",
   "execution_count": 198,
   "id": "cc476d77",
   "metadata": {},
   "outputs": [
    {
     "data": {
      "text/plain": [
       "(array([[ 150.66733908, -216.38050509, -388.58968905, ..., -416.97839623,\n",
       "           22.58570642,  106.82501764],\n",
       "        [ 262.36012356, -312.05311468, -647.42407824, ..., -717.28529619,\n",
       "           76.42729891,  119.96437437],\n",
       "        [ 307.1395663 , -356.52293503, -759.25544124, ..., -764.03074176,\n",
       "           66.19508727,  161.35999798],\n",
       "        ...,\n",
       "        [ 269.77502251, -302.06061828, -611.33688051, ..., -632.92173218,\n",
       "           63.12735391,  144.27601078],\n",
       "        [ 104.8664485 , -187.64701839, -383.8514571 , ..., -340.60297074,\n",
       "           16.54751205,  117.60412281],\n",
       "        [ 159.15491822, -194.24268732, -444.13106988, ..., -427.7019704 ,\n",
       "           33.64345695,   63.06617649]]),\n",
       " (72, 100))"
      ]
     },
     "execution_count": 198,
     "metadata": {},
     "output_type": "execute_result"
    }
   ],
   "source": [
    "train_vectors_gt100, train_vectors_gt100.shape"
   ]
  },
  {
   "cell_type": "code",
   "execution_count": 63,
   "id": "f199ed80",
   "metadata": {},
   "outputs": [
    {
     "data": {
      "text/plain": [
       "[('российский', 0.5974039435386658)]"
      ]
     },
     "execution_count": 63,
     "metadata": {},
     "output_type": "execute_result"
    }
   ],
   "source": [
    "model_t1.most_similar(positive=['инвестор', 'рынок'], topn=1)"
   ]
  },
  {
   "cell_type": "code",
   "execution_count": 199,
   "id": "89f491d3",
   "metadata": {},
   "outputs": [
    {
     "data": {
      "text/plain": [
       "[('аналитик', 0.7176759839057922)]"
      ]
     },
     "execution_count": 199,
     "metadata": {},
     "output_type": "execute_result"
    }
   ],
   "source": [
    "model_t.most_similar(positive=['инвестор', 'рынок'], topn=1)"
   ]
  },
  {
   "cell_type": "code",
   "execution_count": 200,
   "id": "0a7de638",
   "metadata": {},
   "outputs": [],
   "source": [
    "y_train = train['pnl_sign']\n",
    "X_train = train_vectors_gt100\n",
    "\n",
    "y_val = val['pnl_sign']\n",
    "X_val = val_vectors_gt100"
   ]
  },
  {
   "cell_type": "code",
   "execution_count": 201,
   "id": "b2d15e31",
   "metadata": {},
   "outputs": [],
   "source": [
    "from sklearn.metrics import accuracy_score\n",
    "from sklearn.linear_model import LogisticRegression"
   ]
  },
  {
   "cell_type": "code",
   "execution_count": 202,
   "id": "34231d2a",
   "metadata": {},
   "outputs": [
    {
     "name": "stdout",
     "output_type": "stream",
     "text": [
      "0.5833333333333334\n",
      "данные: ['Alfa_Wealth.csv', 'bitkogan.csv', 'cbonds.csv', 'headlines_QUANTS.csv', 'mmi.csv', 'rshb_invest.csv', 'signal.csv', 'sky_bond.csv', 'themovchans.csv', 'vts.csv', 'War_Wealth_Wisdom.csv']\n"
     ]
    }
   ],
   "source": [
    "model = LogisticRegression()\n",
    "model.fit(X_train, y_train)\n",
    "print(model.score(X_val, y_val))\n",
    "print('данные:', list(os.walk(input_path))[0][-1][:-2])"
   ]
  },
  {
   "cell_type": "code",
   "execution_count": 177,
   "id": "81a468f6",
   "metadata": {},
   "outputs": [
    {
     "name": "stdout",
     "output_type": "stream",
     "text": [
      "0.625\n",
      "данные: ['Alfa_Wealth.csv', 'bitkogan.csv', 'cbonds.csv', 'headlines_QUANTS.csv', 'mmi.csv']\n"
     ]
    }
   ],
   "source": [
    "model = LogisticRegression()\n",
    "model.fit(X_train, y_train)\n",
    "print(model.score(X_val, y_val))\n",
    "print('данные:', list(os.walk(input_path))[0][-1][:-2])"
   ]
  },
  {
   "cell_type": "code",
   "execution_count": 5,
   "id": "b180b4ff",
   "metadata": {},
   "outputs": [],
   "source": [
    "from gensim import utils\n",
    "\n",
    "def get_vectors_gt100(row):\n",
    "    '''\n",
    "      word_doc_freq # частоты слов\n",
    "      train_tokenized #сами слова\n",
    "    '''\n",
    "    vecs = [np.zeros(100)]\n",
    "    for word in row:\n",
    "        #print(row)\n",
    "        try: \n",
    "            # если слово есть в нашем очищенном словаре\n",
    "            # умножаем вектор на вес tfidf\n",
    "            v = model_t[word] * word_doc_freq[vocabulary[word]] \n",
    "        except:\n",
    "            v = np.zeros(100)\n",
    "        vecs.append(v)\n",
    "    return np.sum(np.array(vecs),axis=0)"
   ]
  },
  {
   "cell_type": "code",
   "execution_count": 6,
   "id": "d4da54a5",
   "metadata": {},
   "outputs": [],
   "source": [
    "model_t = api.load('glove-twitter-100')"
   ]
  },
  {
   "cell_type": "code",
   "execution_count": 8,
   "id": "462cf8c6",
   "metadata": {
    "scrolled": true
   },
   "outputs": [
    {
     "name": "stderr",
     "output_type": "stream",
     "text": [
      "  9%|███████▌                                                                           | 1/11 [00:00<00:05,  1.86it/s]"
     ]
    },
    {
     "name": "stdout",
     "output_type": "stream",
     "text": [
      "0.4166666666666667\n",
      "данные: ['Alfa_Wealth.csv']\n",
      "всего наблюдений: 199\n"
     ]
    },
    {
     "name": "stderr",
     "output_type": "stream",
     "text": [
      "\r",
      " 18%|███████████████                                                                    | 2/11 [00:08<00:46,  5.15s/it]"
     ]
    },
    {
     "name": "stdout",
     "output_type": "stream",
     "text": [
      "0.375\n",
      "данные: ['Alfa_Wealth.csv', 'bitkogan.csv']\n",
      "всего наблюдений: 2315\n"
     ]
    },
    {
     "name": "stderr",
     "output_type": "stream",
     "text": [
      "\r",
      " 27%|██████████████████████▋                                                            | 3/11 [00:21<01:08,  8.52s/it]"
     ]
    },
    {
     "name": "stdout",
     "output_type": "stream",
     "text": [
      "0.5833333333333334\n",
      "данные: ['Alfa_Wealth.csv', 'bitkogan.csv', 'cbonds.csv']\n",
      "всего наблюдений: 4422\n"
     ]
    },
    {
     "name": "stderr",
     "output_type": "stream",
     "text": [
      "\r",
      " 36%|██████████████████████████████▏                                                    | 4/11 [00:32<01:05,  9.37s/it]"
     ]
    },
    {
     "name": "stdout",
     "output_type": "stream",
     "text": [
      "0.5\n",
      "данные: ['Alfa_Wealth.csv', 'bitkogan.csv', 'cbonds.csv', 'headlines_QUANTS.csv']\n",
      "всего наблюдений: 4560\n"
     ]
    },
    {
     "name": "stderr",
     "output_type": "stream",
     "text": [
      "\r",
      " 45%|█████████████████████████████████████▋                                             | 5/11 [00:46<01:06, 11.12s/it]"
     ]
    },
    {
     "name": "stdout",
     "output_type": "stream",
     "text": [
      "0.7083333333333334\n",
      "данные: ['Alfa_Wealth.csv', 'bitkogan.csv', 'cbonds.csv', 'headlines_QUANTS.csv', 'mmi.csv']\n",
      "всего наблюдений: 6086\n"
     ]
    },
    {
     "name": "stderr",
     "output_type": "stream",
     "text": [
      "\r",
      " 55%|█████████████████████████████████████████████▎                                     | 6/11 [01:06<01:10, 14.05s/it]"
     ]
    },
    {
     "name": "stdout",
     "output_type": "stream",
     "text": [
      "0.375\n",
      "данные: ['Alfa_Wealth.csv', 'bitkogan.csv', 'cbonds.csv', 'headlines_QUANTS.csv', 'mmi.csv', 'rshb_invest.csv']\n",
      "всего наблюдений: 7436\n"
     ]
    },
    {
     "name": "stderr",
     "output_type": "stream",
     "text": [
      "\r",
      " 64%|████████████████████████████████████████████████████▊                              | 7/11 [01:29<01:08, 17.01s/it]"
     ]
    },
    {
     "name": "stdout",
     "output_type": "stream",
     "text": [
      "0.5416666666666666\n",
      "данные: ['Alfa_Wealth.csv', 'bitkogan.csv', 'cbonds.csv', 'headlines_QUANTS.csv', 'mmi.csv', 'rshb_invest.csv', 'signal.csv']\n",
      "всего наблюдений: 16313\n"
     ]
    },
    {
     "name": "stderr",
     "output_type": "stream",
     "text": [
      "\r",
      " 73%|████████████████████████████████████████████████████████████▎                      | 8/11 [01:50<00:55, 18.50s/it]"
     ]
    },
    {
     "name": "stdout",
     "output_type": "stream",
     "text": [
      "0.5416666666666666\n",
      "данные: ['Alfa_Wealth.csv', 'bitkogan.csv', 'cbonds.csv', 'headlines_QUANTS.csv', 'mmi.csv', 'rshb_invest.csv', 'signal.csv', 'sky_bond.csv']\n",
      "всего наблюдений: 16421\n"
     ]
    },
    {
     "name": "stderr",
     "output_type": "stream",
     "text": [
      "\r",
      " 82%|███████████████████████████████████████████████████████████████████▉               | 9/11 [02:16<00:41, 20.83s/it]"
     ]
    },
    {
     "name": "stdout",
     "output_type": "stream",
     "text": [
      "0.5416666666666666\n",
      "данные: ['Alfa_Wealth.csv', 'bitkogan.csv', 'cbonds.csv', 'headlines_QUANTS.csv', 'mmi.csv', 'rshb_invest.csv', 'signal.csv', 'sky_bond.csv', 'themovchans.csv']\n",
      "всего наблюдений: 16573\n"
     ]
    },
    {
     "name": "stderr",
     "output_type": "stream",
     "text": [
      "\r",
      " 91%|██████████████████████████████████████████████████████████████████████████▌       | 10/11 [02:37<00:20, 20.81s/it]"
     ]
    },
    {
     "name": "stdout",
     "output_type": "stream",
     "text": [
      "0.625\n",
      "данные: ['Alfa_Wealth.csv', 'bitkogan.csv', 'cbonds.csv', 'headlines_QUANTS.csv', 'mmi.csv', 'rshb_invest.csv', 'signal.csv', 'sky_bond.csv', 'themovchans.csv', 'vts.csv']\n",
      "всего наблюдений: 16735\n"
     ]
    },
    {
     "name": "stderr",
     "output_type": "stream",
     "text": [
      "100%|██████████████████████████████████████████████████████████████████████████████████| 11/11 [03:02<00:00, 16.60s/it]"
     ]
    },
    {
     "name": "stdout",
     "output_type": "stream",
     "text": [
      "0.5\n",
      "данные: ['Alfa_Wealth.csv', 'bitkogan.csv', 'cbonds.csv', 'headlines_QUANTS.csv', 'mmi.csv', 'rshb_invest.csv', 'signal.csv', 'sky_bond.csv', 'themovchans.csv', 'vts.csv', 'War_Wealth_Wisdom.csv']\n",
      "всего наблюдений: 17025\n"
     ]
    },
    {
     "name": "stderr",
     "output_type": "stream",
     "text": [
      "\n"
     ]
    }
   ],
   "source": [
    "input_path = 'C:\\\\Users\\\\eduard\\\\jup\\\\project\\\\данные' # нужно указать путь до папки с данными по новостям\n",
    "\n",
    "for root, dirs, files in os.walk(input_path):\n",
    "    for q in tqdm(range(1, 12)):\n",
    "        df = pd.DataFrame([])\n",
    "        for file in files[:q]:\n",
    "            df1 = pd.read_csv(f'данные/{file}')\n",
    "            df = pd.concat([df, df1], axis=0, ignore_index=True)\n",
    "\n",
    "        df = df.sort_values('date', ignore_index=True)\n",
    "        df['date'] = pd.to_datetime(df['date']).dt.strftime('%Y-%m-%d')\n",
    "\n",
    "        pnl = pd.read_csv('данные/zBacktest_EURUSD_5_days.txt')\n",
    "        pnl['date_start'] = pd.to_datetime(pnl['date_start']).dt.strftime('%Y-%m-%d')\n",
    "        pnl['pnl_sign'] = pnl['pnl'].apply(lambda x: 1 if x >= 0 else 0)\n",
    "        pnl['cumm_text'] = None\n",
    "\n",
    "        df_with_pnl = df[(df['date'] >= '2022-03-02') & (df['date'] <= '2022-11-01')]\n",
    "\n",
    "        i = 0\n",
    "        texts = ''\n",
    "        for _,row in df_with_pnl.iterrows():\n",
    "            if i >= pnl.shape[0]:\n",
    "                break\n",
    "\n",
    "            if row['date'] <= pnl['date_start'][i]:\n",
    "                texts += ' ' + row['text']\n",
    "            else:\n",
    "                pnl.at[i,'cumm_text'] = texts\n",
    "                texts = ''\n",
    "                i += 1\n",
    "                continue\n",
    "\n",
    "        train, val = train_test_split(pnl)\n",
    "        train_tokenized = tokenize_corpus(train['cumm_text'])\n",
    "        val_tokenized = tokenize_corpus(val['cumm_text'])\n",
    "\n",
    "        MAX_DF = 0.8 #во скольких документах встречаеться слово\n",
    "        MIN_COUNT = 5 # сколько раз слово встречаеться в тексте\n",
    "\n",
    "\n",
    "        vocabulary, word_doc_freq = build_vocabulary(train_tokenized, max_doc_freq=MAX_DF, min_count=MIN_COUNT)\n",
    "        UNIQUE_WORDS_N = len(vocabulary)    \n",
    "        VECTORIZATION_MODE = 'tfidf'\n",
    "        train_vectors = vectorize_texts(train_tokenized, vocabulary, word_doc_freq, mode=VECTORIZATION_MODE)\n",
    "\n",
    "        train_vectors_gt100 = np.array([get_vectors_gt100(i) for i in train_tokenized])\n",
    "        val_vectors_gt100 = np.array([get_vectors_gt100(i) for i in val_tokenized])\n",
    "\n",
    "        model_t.most_similar(positive=['инвестор', 'рынок'], topn=1)\n",
    "\n",
    "        y_train = train['pnl_sign']\n",
    "        X_train = train_vectors_gt100\n",
    "\n",
    "        y_val = val['pnl_sign']\n",
    "        X_val = val_vectors_gt100\n",
    "\n",
    "        model = LogisticRegression()\n",
    "        model.fit(X_train, y_train)\n",
    "        print(model.score(X_val, y_val))\n",
    "        print('данные:', files[:q])\n",
    "        print('всего наблюдений:', df_with_pnl.shape[0])\n"
   ]
  },
  {
   "cell_type": "code",
   "execution_count": 221,
   "id": "63e28619",
   "metadata": {
    "scrolled": true
   },
   "outputs": [
    {
     "name": "stderr",
     "output_type": "stream",
     "text": [
      "  0%|                                                                                           | 0/11 [00:00<?, ?it/s]\n",
      "191it [00:00, 11937.83it/s]\n",
      "  9%|███████▌                                                                           | 1/11 [00:00<00:04,  2.18it/s]"
     ]
    },
    {
     "name": "stdout",
     "output_type": "stream",
     "text": [
      "0.5\n",
      "данные: ['Alfa_Wealth.csv']\n",
      "всего наблюдений: 199\n"
     ]
    },
    {
     "name": "stderr",
     "output_type": "stream",
     "text": [
      "\n",
      "0it [00:00, ?it/s]\u001b[A\n",
      "632it [00:00, 5987.91it/s]\u001b[A\n",
      "1231it [00:00, 3188.40it/s]\u001b[A\n",
      "2236it [00:00, 4323.30it/s]\u001b[A\n",
      " 18%|███████████████                                                                    | 2/11 [00:07<00:40,  4.48s/it]"
     ]
    },
    {
     "name": "stdout",
     "output_type": "stream",
     "text": [
      "0.4583333333333333\n",
      "данные: ['Alfa_Wealth.csv', 'bitkogan.csv']\n",
      "всего наблюдений: 2315\n"
     ]
    },
    {
     "name": "stderr",
     "output_type": "stream",
     "text": [
      "\n",
      "0it [00:00, ?it/s]\u001b[A\n",
      "959it [00:00, 9377.83it/s]\u001b[A\n",
      "1897it [00:00, 1782.37it/s]\u001b[A\n",
      "2930it [00:01, 2918.35it/s]\u001b[A\n",
      "4269it [00:01, 3297.71it/s]\u001b[A\n",
      " 27%|██████████████████████▋                                                            | 3/11 [00:20<01:05,  8.21s/it]"
     ]
    },
    {
     "name": "stdout",
     "output_type": "stream",
     "text": [
      "0.6666666666666666\n",
      "данные: ['Alfa_Wealth.csv', 'bitkogan.csv', 'cbonds.csv']\n",
      "всего наблюдений: 4422\n"
     ]
    },
    {
     "name": "stderr",
     "output_type": "stream",
     "text": [
      "\n",
      "0it [00:00, ?it/s]\u001b[A\n",
      "972it [00:00, 8579.93it/s]\u001b[A\n",
      "1830it [00:00, 1676.71it/s]\u001b[A\n",
      "2916it [00:01, 2912.69it/s]\u001b[A\n",
      "4400it [00:01, 3184.65it/s]\u001b[A\n",
      " 36%|██████████████████████████████▏                                                    | 4/11 [00:30<01:03,  9.03s/it]"
     ]
    },
    {
     "name": "stdout",
     "output_type": "stream",
     "text": [
      "0.5\n",
      "данные: ['Alfa_Wealth.csv', 'bitkogan.csv', 'cbonds.csv', 'headlines_QUANTS.csv']\n",
      "всего наблюдений: 4560\n"
     ]
    },
    {
     "name": "stderr",
     "output_type": "stream",
     "text": [
      "\n",
      "0it [00:00, ?it/s]\u001b[A\n",
      "1151it [00:00, 11470.25it/s]\u001b[A\n",
      "2299it [00:01, 1538.69it/s] \u001b[A\n",
      "2828it [00:01, 1648.40it/s]\u001b[A\n",
      "3824it [00:01, 2566.21it/s]\u001b[A\n",
      "5867it [00:02, 2731.44it/s]\u001b[A\n",
      " 45%|█████████████████████████████████████▋                                             | 5/11 [00:47<01:10, 11.69s/it]"
     ]
    },
    {
     "name": "stdout",
     "output_type": "stream",
     "text": [
      "0.5833333333333334\n",
      "данные: ['Alfa_Wealth.csv', 'bitkogan.csv', 'cbonds.csv', 'headlines_QUANTS.csv', 'mmi.csv']\n",
      "всего наблюдений: 6086\n"
     ]
    },
    {
     "name": "stderr",
     "output_type": "stream",
     "text": [
      "\n",
      "0it [00:00, ?it/s]\u001b[A\n",
      "1356it [00:00, 12185.27it/s]\u001b[A\n",
      "2575it [00:01, 1601.35it/s] \u001b[A\n",
      "3133it [00:02, 1106.82it/s]\u001b[A\n",
      "4564it [00:02, 2041.17it/s]\u001b[A\n",
      "5329it [00:02, 1861.09it/s]\u001b[A\n",
      "7169it [00:03, 2250.97it/s]\u001b[A\n",
      " 55%|█████████████████████████████████████████████▎                                     | 6/11 [01:06<01:11, 14.32s/it]"
     ]
    },
    {
     "name": "stdout",
     "output_type": "stream",
     "text": [
      "0.5\n",
      "данные: ['Alfa_Wealth.csv', 'bitkogan.csv', 'cbonds.csv', 'headlines_QUANTS.csv', 'mmi.csv', 'rshb_invest.csv']\n",
      "всего наблюдений: 7436\n"
     ]
    },
    {
     "name": "stderr",
     "output_type": "stream",
     "text": [
      "\n",
      "0it [00:00, ?it/s]\u001b[A\n",
      "1663it [00:00, 15480.64it/s]\u001b[A\n",
      "3212it [00:00, 14241.13it/s]\u001b[A\n",
      "4640it [00:00, 4281.83it/s] \u001b[A\n",
      "5518it [00:01, 2487.09it/s]\u001b[A\n",
      "6096it [00:02, 1729.79it/s]\u001b[A\n",
      "6494it [00:02, 1363.60it/s]\u001b[A\n",
      "6780it [00:03, 1136.98it/s]\u001b[A\n",
      "6991it [00:03, 1015.62it/s]\u001b[A\n",
      "8567it [00:03, 2251.52it/s]\u001b[A\n",
      "10107it [00:03, 3640.45it/s]\u001b[A\n",
      "10963it [00:04, 3282.07it/s]\u001b[A\n",
      "11636it [00:04, 2520.90it/s]\u001b[A\n",
      "12147it [00:05, 2476.21it/s]\u001b[A\n",
      "15726it [00:05, 3007.77it/s]\u001b[A\n",
      " 64%|████████████████████████████████████████████████████▊                              | 7/11 [01:27<01:06, 16.65s/it]"
     ]
    },
    {
     "name": "stdout",
     "output_type": "stream",
     "text": [
      "0.5\n",
      "данные: ['Alfa_Wealth.csv', 'bitkogan.csv', 'cbonds.csv', 'headlines_QUANTS.csv', 'mmi.csv', 'rshb_invest.csv', 'signal.csv']\n",
      "всего наблюдений: 16313\n"
     ]
    },
    {
     "name": "stderr",
     "output_type": "stream",
     "text": [
      "\n",
      "0it [00:00, ?it/s]\u001b[A\n",
      "1633it [00:00, 14757.51it/s]\u001b[A\n",
      "3109it [00:00, 14757.08it/s]\u001b[A\n",
      "4585it [00:00, 4297.97it/s] \u001b[A\n",
      "5492it [00:01, 2416.05it/s]\u001b[A\n",
      "6086it [00:02, 1736.87it/s]\u001b[A\n",
      "6496it [00:02, 1400.62it/s]\u001b[A\n",
      "6791it [00:03, 1136.62it/s]\u001b[A\n",
      "7008it [00:03, 1014.15it/s]\u001b[A\n",
      "8610it [00:03, 2244.08it/s]\u001b[A\n",
      "10143it [00:04, 3593.16it/s]\u001b[A\n",
      "10983it [00:04, 3131.67it/s]\u001b[A\n",
      "11636it [00:04, 2471.01it/s]\u001b[A\n",
      "12134it [00:05, 2328.67it/s]\u001b[A\n",
      "13859it [00:05, 4005.80it/s]\u001b[A\n",
      "15828it [00:05, 2943.18it/s]\u001b[A\n",
      " 73%|████████████████████████████████████████████████████████████▎                      | 8/11 [01:51<00:56, 18.69s/it]"
     ]
    },
    {
     "name": "stdout",
     "output_type": "stream",
     "text": [
      "0.25\n",
      "данные: ['Alfa_Wealth.csv', 'bitkogan.csv', 'cbonds.csv', 'headlines_QUANTS.csv', 'mmi.csv', 'rshb_invest.csv', 'signal.csv', 'sky_bond.csv']\n",
      "всего наблюдений: 16421\n"
     ]
    },
    {
     "name": "stderr",
     "output_type": "stream",
     "text": [
      "\n",
      "0it [00:00, ?it/s]\u001b[A\n",
      "1631it [00:00, 14807.93it/s]\u001b[A\n",
      "3112it [00:00, 14767.56it/s]\u001b[A\n",
      "4589it [00:00, 4478.83it/s] \u001b[A\n",
      "5501it [00:01, 2512.96it/s]\u001b[A\n",
      "6100it [00:02, 1774.91it/s]\u001b[A\n",
      "6514it [00:02, 1420.23it/s]\u001b[A\n",
      "6812it [00:03, 1128.47it/s]\u001b[A\n",
      "7030it [00:03, 992.39it/s] \u001b[A\n",
      "8333it [00:03, 1965.12it/s]\u001b[A\n",
      "10091it [00:04, 3525.98it/s]\u001b[A\n",
      "10921it [00:04, 3288.45it/s]\u001b[A\n",
      "11581it [00:04, 2652.82it/s]\u001b[A\n",
      "12089it [00:05, 2236.68it/s]\u001b[A\n",
      "13644it [00:05, 3711.82it/s]\u001b[A\n",
      "15960it [00:05, 2957.39it/s]\u001b[A\n",
      " 82%|███████████████████████████████████████████████████████████████████▉               | 9/11 [02:17<00:42, 21.01s/it]"
     ]
    },
    {
     "name": "stdout",
     "output_type": "stream",
     "text": [
      "0.5416666666666666\n",
      "данные: ['Alfa_Wealth.csv', 'bitkogan.csv', 'cbonds.csv', 'headlines_QUANTS.csv', 'mmi.csv', 'rshb_invest.csv', 'signal.csv', 'sky_bond.csv', 'themovchans.csv']\n",
      "всего наблюдений: 16573\n"
     ]
    },
    {
     "name": "stderr",
     "output_type": "stream",
     "text": [
      "\n",
      "0it [00:00, ?it/s]\u001b[A\n",
      "1361it [00:00, 13475.87it/s]\u001b[A\n",
      "2955it [00:00, 14769.42it/s]\u001b[A\n",
      "4432it [00:00, 5058.65it/s] \u001b[A\n",
      "5364it [00:01, 2703.52it/s]\u001b[A\n",
      "5978it [00:02, 1863.73it/s]\u001b[A\n",
      "6402it [00:02, 1475.41it/s]\u001b[A\n",
      "6707it [00:03, 1232.21it/s]\u001b[A\n",
      "6934it [00:03, 1074.11it/s]\u001b[A\n",
      "7108it [00:03, 943.99it/s] \u001b[A\n",
      "8294it [00:04, 1934.64it/s]\u001b[A\n",
      "9850it [00:04, 3513.77it/s]\u001b[A\n",
      "10614it [00:04, 3878.35it/s]\u001b[A\n",
      "11312it [00:04, 3224.93it/s]\u001b[A\n",
      "11864it [00:05, 2493.35it/s]\u001b[A\n",
      "12292it [00:05, 2236.27it/s]\u001b[A\n",
      "13924it [00:05, 4019.74it/s]\u001b[A\n",
      "16119it [00:05, 2931.99it/s]\u001b[A\n",
      " 91%|██████████████████████████████████████████████████████████████████████████▌       | 10/11 [02:42<00:22, 22.41s/it]"
     ]
    },
    {
     "name": "stdout",
     "output_type": "stream",
     "text": [
      "0.5416666666666666\n",
      "данные: ['Alfa_Wealth.csv', 'bitkogan.csv', 'cbonds.csv', 'headlines_QUANTS.csv', 'mmi.csv', 'rshb_invest.csv', 'signal.csv', 'sky_bond.csv', 'themovchans.csv', 'vts.csv']\n",
      "всего наблюдений: 16735\n"
     ]
    },
    {
     "name": "stderr",
     "output_type": "stream",
     "text": [
      "\n",
      "0it [00:00, ?it/s]\u001b[A\n",
      "1459it [00:00, 14013.61it/s]\u001b[A\n",
      "3202it [00:00, 14733.86it/s]\u001b[A\n",
      "4673it [00:00, 4330.11it/s] \u001b[A\n",
      "5575it [00:01, 2394.87it/s]\u001b[A\n",
      "6165it [00:02, 1665.07it/s]\u001b[A\n",
      "6570it [00:03, 1356.83it/s]\u001b[A\n",
      "6861it [00:03, 1153.52it/s]\u001b[A\n",
      "7077it [00:03, 1000.00it/s]\u001b[A\n",
      "7242it [00:04, 880.68it/s] \u001b[A\n",
      "8054it [00:04, 1519.65it/s]\u001b[A\n",
      "9809it [00:04, 3291.67it/s]\u001b[A\n",
      "10638it [00:04, 3931.47it/s]\u001b[A\n",
      "11379it [00:04, 3317.53it/s]\u001b[A\n",
      "11966it [00:05, 2557.15it/s]\u001b[A\n",
      "12420it [00:05, 2114.87it/s]\u001b[A\n",
      "14102it [00:05, 3855.44it/s]\u001b[A\n",
      "16401it [00:05, 2777.11it/s]\u001b[A\n",
      "100%|██████████████████████████████████████████████████████████████████████████████████| 11/11 [03:08<00:00, 17.11s/it]"
     ]
    },
    {
     "name": "stdout",
     "output_type": "stream",
     "text": [
      "0.4166666666666667\n",
      "данные: ['Alfa_Wealth.csv', 'bitkogan.csv', 'cbonds.csv', 'headlines_QUANTS.csv', 'mmi.csv', 'rshb_invest.csv', 'signal.csv', 'sky_bond.csv', 'themovchans.csv', 'vts.csv', 'War_Wealth_Wisdom.csv']\n",
      "всего наблюдений: 17025\n"
     ]
    },
    {
     "name": "stderr",
     "output_type": "stream",
     "text": [
      "\n"
     ]
    }
   ],
   "source": [
    "input_path = 'C:\\\\Users\\\\eduard\\\\jup\\\\project\\\\данные'\n",
    "\n",
    "for root, dirs, files in os.walk(input_path):\n",
    "    for q in tqdm(range(1, 12)):\n",
    "        df = pd.DataFrame([])\n",
    "        for file in files[:q]:\n",
    "            df1 = pd.read_csv(f'данные/{file}')\n",
    "            df = pd.concat([df, df1], axis=0, ignore_index=True)\n",
    "\n",
    "        df = df.sort_values('date', ignore_index=True)\n",
    "        df['date'] = pd.to_datetime(df['date']).dt.strftime('%Y-%m-%d')\n",
    "\n",
    "        pnl = pd.read_csv('данные/zBacktest_EURUSD_5_days.txt')\n",
    "        pnl['date_start'] = pd.to_datetime(pnl['date_start']).dt.strftime('%Y-%m-%d')\n",
    "        pnl['pnl_sign'] = pnl['pnl'].apply(lambda x: 1 if x >= 0 else 0)\n",
    "        pnl['cumm_text'] = None\n",
    "\n",
    "        df_with_pnl = df[(df['date'] >= '2022-03-02') & (df['date'] <= '2022-11-01')]\n",
    "\n",
    "        i = 0\n",
    "        texts = ''\n",
    "        for _,row in df_with_pnl.iterrows():\n",
    "            if i >= pnl.shape[0]:\n",
    "                break\n",
    "\n",
    "            if row['date'] <= pnl['date_start'][i]:\n",
    "                texts += ' ' + row['text']\n",
    "            else:\n",
    "                pnl.at[i,'cumm_text'] = texts\n",
    "                texts = ''\n",
    "                i += 1\n",
    "                continue\n",
    "\n",
    "        train, val = train_test_split(pnl)\n",
    "        train_tokenized = tokenize_corpus(train['cumm_text'])\n",
    "        val_tokenized = tokenize_corpus(val['cumm_text'])\n",
    "\n",
    "        MAX_DF = 0.8 #во скольких документах встречаеться слово\n",
    "        MIN_COUNT = 5 # сколько раз слово встречаеться в тексте\n",
    "\n",
    "\n",
    "        vocabulary, word_doc_freq = build_vocabulary(train_tokenized, max_doc_freq=MAX_DF, min_count=MIN_COUNT)\n",
    "        UNIQUE_WORDS_N = len(vocabulary)    \n",
    "        VECTORIZATION_MODE = 'tfidf'\n",
    "        train_vectors = vectorize_texts(train_tokenized, vocabulary, word_doc_freq, mode=VECTORIZATION_MODE)\n",
    "\n",
    "        train_vectors_gt100 = np.array([get_vectors_gt100(i) for i in train_tokenized])\n",
    "        val_vectors_gt100 = np.array([get_vectors_gt100(i) for i in val_tokenized])\n",
    "\n",
    "        model_t.most_similar(positive=['инвестор', 'рынок'], topn=1)\n",
    "\n",
    "        y_train = train['pnl_sign']\n",
    "        X_train = train_vectors_gt100\n",
    "\n",
    "        y_val = val['pnl_sign']\n",
    "        X_val = val_vectors_gt100\n",
    "\n",
    "        model = LogisticRegression()\n",
    "        model.fit(X_train, y_train)\n",
    "        print(model.score(X_val, y_val))\n",
    "        print('данные:', files[:q])\n",
    "        print('всего наблюдений:', df_with_pnl.shape[0])\n"
   ]
  },
  {
   "cell_type": "code",
   "execution_count": 222,
   "id": "3faf8196",
   "metadata": {
    "scrolled": true
   },
   "outputs": [
    {
     "name": "stderr",
     "output_type": "stream",
     "text": [
      "  0%|                                                                                           | 0/11 [00:00<?, ?it/s]\n",
      "191it [00:00, 10402.43it/s]\n",
      "  9%|███████▌                                                                           | 1/11 [00:00<00:05,  1.86it/s]"
     ]
    },
    {
     "name": "stdout",
     "output_type": "stream",
     "text": [
      "0.5\n",
      "данные: ['Alfa_Wealth.csv']\n",
      "всего наблюдений: 199\n"
     ]
    },
    {
     "name": "stderr",
     "output_type": "stream",
     "text": [
      "\n",
      "0it [00:00, ?it/s]\u001b[A\n",
      "629it [00:00, 6080.93it/s]\u001b[A\n",
      "1238it [00:00, 3290.57it/s]\u001b[A\n",
      "2236it [00:00, 4307.34it/s]\u001b[A\n",
      " 18%|███████████████                                                                    | 2/11 [00:07<00:36,  4.10s/it]"
     ]
    },
    {
     "name": "stdout",
     "output_type": "stream",
     "text": [
      "0.625\n",
      "данные: ['Alfa_Wealth.csv', 'bitkogan.csv']\n",
      "всего наблюдений: 2315\n"
     ]
    },
    {
     "name": "stderr",
     "output_type": "stream",
     "text": [
      "\n",
      "0it [00:00, ?it/s]\u001b[A\n",
      "962it [00:00, 9053.32it/s]\u001b[A\n",
      "1868it [00:00, 2301.28it/s]\u001b[A\n",
      "2913it [00:00, 3683.99it/s]\u001b[A\n",
      "4269it [00:01, 4095.89it/s]\u001b[A\n",
      " 27%|██████████████████████▋                                                            | 3/11 [00:18<00:59,  7.44s/it]"
     ]
    },
    {
     "name": "stdout",
     "output_type": "stream",
     "text": [
      "0.625\n",
      "данные: ['Alfa_Wealth.csv', 'bitkogan.csv', 'cbonds.csv']\n",
      "всего наблюдений: 4422\n"
     ]
    },
    {
     "name": "stderr",
     "output_type": "stream",
     "text": [
      "\n",
      "0it [00:00, ?it/s]\u001b[A\n",
      "961it [00:00, 9124.22it/s]\u001b[A\n",
      "1874it [00:00, 2286.94it/s]\u001b[A\n",
      "2976it [00:00, 3761.12it/s]\u001b[A\n",
      "4400it [00:01, 4096.09it/s]\u001b[A\n",
      " 36%|██████████████████████████████▏                                                    | 4/11 [00:29<01:02,  8.98s/it]"
     ]
    },
    {
     "name": "stdout",
     "output_type": "stream",
     "text": [
      "0.4166666666666667\n",
      "данные: ['Alfa_Wealth.csv', 'bitkogan.csv', 'cbonds.csv', 'headlines_QUANTS.csv']\n",
      "всего наблюдений: 4560\n"
     ]
    },
    {
     "name": "stderr",
     "output_type": "stream",
     "text": [
      "\n",
      "0it [00:00, ?it/s]\u001b[A\n",
      "1168it [00:00, 11393.09it/s]\u001b[A\n",
      "2308it [00:01, 2018.71it/s] \u001b[A\n",
      "2852it [00:01, 2254.47it/s]\u001b[A\n",
      "3886it [00:01, 3351.01it/s]\u001b[A\n",
      "5867it [00:01, 3572.88it/s]\u001b[A\n",
      " 45%|█████████████████████████████████████▋                                             | 5/11 [00:45<01:08, 11.44s/it]"
     ]
    },
    {
     "name": "stdout",
     "output_type": "stream",
     "text": [
      "0.5416666666666666\n",
      "данные: ['Alfa_Wealth.csv', 'bitkogan.csv', 'cbonds.csv', 'headlines_QUANTS.csv', 'mmi.csv']\n",
      "всего наблюдений: 6086\n"
     ]
    },
    {
     "name": "stderr",
     "output_type": "stream",
     "text": [
      "\n",
      "0it [00:00, ?it/s]\u001b[A\n",
      "1386it [00:00, 12247.05it/s]\u001b[A\n",
      "2611it [00:01, 2077.26it/s] \u001b[A\n",
      "3190it [00:01, 1594.82it/s]\u001b[A\n",
      "4499it [00:01, 2700.18it/s]\u001b[A\n",
      "5211it [00:02, 2588.55it/s]\u001b[A\n",
      "7169it [00:02, 2979.89it/s]\u001b[A\n",
      " 55%|█████████████████████████████████████████████▎                                     | 6/11 [01:04<01:10, 14.01s/it]"
     ]
    },
    {
     "name": "stdout",
     "output_type": "stream",
     "text": [
      "0.5\n",
      "данные: ['Alfa_Wealth.csv', 'bitkogan.csv', 'cbonds.csv', 'headlines_QUANTS.csv', 'mmi.csv', 'rshb_invest.csv']\n",
      "всего наблюдений: 7436\n"
     ]
    },
    {
     "name": "stderr",
     "output_type": "stream",
     "text": [
      "\n",
      "0it [00:00, ?it/s]\u001b[A\n",
      "1504it [00:00, 14509.29it/s]\u001b[A\n",
      "3064it [00:00, 14667.94it/s]\u001b[A\n",
      "4531it [00:00, 5606.44it/s] \u001b[A\n",
      "5473it [00:01, 3205.39it/s]\u001b[A\n",
      "6105it [00:01, 2242.74it/s]\u001b[A\n",
      "6548it [00:02, 1841.83it/s]\u001b[A\n",
      "6875it [00:02, 1576.66it/s]\u001b[A\n",
      "7125it [00:02, 1649.52it/s]\u001b[A\n",
      "8512it [00:02, 3139.53it/s]\u001b[A\n",
      "10103it [00:02, 4926.01it/s]\u001b[A\n",
      "10943it [00:03, 4416.43it/s]\u001b[A\n",
      "11630it [00:03, 3417.59it/s]\u001b[A\n",
      "12168it [00:03, 3376.16it/s]\u001b[A\n",
      "13752it [00:03, 5301.77it/s]\u001b[A\n",
      "15726it [00:03, 3943.92it/s]\u001b[A\n",
      " 64%|████████████████████████████████████████████████████▊                              | 7/11 [01:24<01:03, 15.91s/it]"
     ]
    },
    {
     "name": "stdout",
     "output_type": "stream",
     "text": [
      "0.4583333333333333\n",
      "данные: ['Alfa_Wealth.csv', 'bitkogan.csv', 'cbonds.csv', 'headlines_QUANTS.csv', 'mmi.csv', 'rshb_invest.csv', 'signal.csv']\n",
      "всего наблюдений: 16313\n"
     ]
    },
    {
     "name": "stderr",
     "output_type": "stream",
     "text": [
      "\n",
      "0it [00:00, ?it/s]\u001b[A\n",
      "1523it [00:00, 13591.97it/s]\u001b[A\n",
      "3088it [00:00, 14477.28it/s]\u001b[A\n",
      "4539it [00:00, 5521.89it/s] \u001b[A\n",
      "5469it [00:01, 3267.24it/s]\u001b[A\n",
      "6096it [00:01, 2294.37it/s]\u001b[A\n",
      "6537it [00:02, 1845.35it/s]\u001b[A\n",
      "6861it [00:02, 1540.14it/s]\u001b[A\n",
      "7106it [00:02, 1503.00it/s]\u001b[A\n",
      "8546it [00:02, 2944.91it/s]\u001b[A\n",
      "10093it [00:03, 4647.78it/s]\u001b[A\n",
      "10941it [00:03, 4259.08it/s]\u001b[A\n",
      "11635it [00:03, 3346.12it/s]\u001b[A\n",
      "12178it [00:03, 3226.87it/s]\u001b[A\n",
      "13701it [00:03, 4983.53it/s]\u001b[A\n",
      "15828it [00:04, 3867.41it/s]\u001b[A\n",
      " 73%|████████████████████████████████████████████████████████████▎                      | 8/11 [01:46<00:53, 17.87s/it]"
     ]
    },
    {
     "name": "stdout",
     "output_type": "stream",
     "text": [
      "0.7083333333333334\n",
      "данные: ['Alfa_Wealth.csv', 'bitkogan.csv', 'cbonds.csv', 'headlines_QUANTS.csv', 'mmi.csv', 'rshb_invest.csv', 'signal.csv', 'sky_bond.csv']\n",
      "всего наблюдений: 16421\n"
     ]
    },
    {
     "name": "stderr",
     "output_type": "stream",
     "text": [
      "\n",
      "0it [00:00, ?it/s]\u001b[A\n",
      "1342it [00:00, 13134.70it/s]\u001b[A\n",
      "2971it [00:00, 14367.62it/s]\u001b[A\n",
      "4406it [00:00, 5671.23it/s] \u001b[A\n",
      "5333it [00:01, 3296.39it/s]\u001b[A\n",
      "5959it [00:01, 2386.18it/s]\u001b[A\n",
      "6403it [00:02, 1930.34it/s]\u001b[A\n",
      "6731it [00:02, 1573.47it/s]\u001b[A\n",
      "6978it [00:02, 1382.94it/s]\u001b[A\n",
      "7497it [00:02, 1770.89it/s]\u001b[A\n",
      "8928it [00:03, 3401.68it/s]\u001b[A\n",
      "10249it [00:03, 4878.34it/s]\u001b[A\n",
      "11067it [00:03, 4237.39it/s]\u001b[A\n",
      "11731it [00:03, 3196.03it/s]\u001b[A\n",
      "12249it [00:04, 3083.24it/s]\u001b[A\n",
      "13743it [00:04, 4858.57it/s]\u001b[A\n",
      "15960it [00:04, 3731.58it/s]\u001b[A\n",
      " 82%|███████████████████████████████████████████████████████████████████▉               | 9/11 [02:11<00:40, 20.05s/it]"
     ]
    },
    {
     "name": "stdout",
     "output_type": "stream",
     "text": [
      "0.5416666666666666\n",
      "данные: ['Alfa_Wealth.csv', 'bitkogan.csv', 'cbonds.csv', 'headlines_QUANTS.csv', 'mmi.csv', 'rshb_invest.csv', 'signal.csv', 'sky_bond.csv', 'themovchans.csv']\n",
      "всего наблюдений: 16573\n"
     ]
    },
    {
     "name": "stderr",
     "output_type": "stream",
     "text": [
      "\n",
      "0it [00:00, ?it/s]\u001b[A\n",
      "1515it [00:00, 14522.98it/s]\u001b[A\n",
      "3148it [00:00, 15082.02it/s]\u001b[A\n",
      "4656it [00:00, 5207.23it/s] \u001b[A\n",
      "5607it [00:01, 3040.64it/s]\u001b[A\n",
      "6241it [00:01, 2200.24it/s]\u001b[A\n",
      "6686it [00:02, 1793.12it/s]\u001b[A\n",
      "7013it [00:02, 1503.42it/s]\u001b[A\n",
      "7259it [00:02, 1527.27it/s]\u001b[A\n",
      "8647it [00:03, 2918.11it/s]\u001b[A\n",
      "10159it [00:03, 4602.25it/s]\u001b[A\n",
      "11017it [00:03, 4284.21it/s]\u001b[A\n",
      "11723it [00:03, 3367.11it/s]\u001b[A\n",
      "12275it [00:04, 2964.29it/s]\u001b[A\n",
      "13761it [00:04, 4586.97it/s]\u001b[A\n",
      "16119it [00:04, 3757.14it/s]\u001b[A\n",
      " 91%|██████████████████████████████████████████████████████████████████████████▌       | 10/11 [02:34<00:20, 20.97s/it]"
     ]
    },
    {
     "name": "stdout",
     "output_type": "stream",
     "text": [
      "0.5416666666666666\n",
      "данные: ['Alfa_Wealth.csv', 'bitkogan.csv', 'cbonds.csv', 'headlines_QUANTS.csv', 'mmi.csv', 'rshb_invest.csv', 'signal.csv', 'sky_bond.csv', 'themovchans.csv', 'vts.csv']\n",
      "всего наблюдений: 16735\n"
     ]
    },
    {
     "name": "stderr",
     "output_type": "stream",
     "text": [
      "\n",
      "0it [00:00, ?it/s]\u001b[A\n",
      "1270it [00:00, 11457.90it/s]\u001b[A\n",
      "2771it [00:00, 13277.52it/s]\u001b[A\n",
      "4105it [00:00, 7098.52it/s] \u001b[A\n",
      "5035it [00:01, 3818.33it/s]\u001b[A\n",
      "5672it [00:01, 2699.38it/s]\u001b[A\n",
      "6129it [00:01, 2045.11it/s]\u001b[A\n",
      "6465it [00:02, 1694.43it/s]\u001b[A\n",
      "6721it [00:02, 1507.97it/s]\u001b[A\n",
      "6926it [00:02, 1309.79it/s]\u001b[A\n",
      "7090it [00:03, 1168.42it/s]\u001b[A\n",
      "7226it [00:03, 1069.13it/s]\u001b[A\n",
      "7777it [00:03, 1693.05it/s]\u001b[A\n",
      "9219it [00:03, 3832.40it/s]\u001b[A\n",
      "10531it [00:03, 5612.52it/s]\u001b[A\n",
      "11344it [00:03, 4455.36it/s]\u001b[A\n",
      "12000it [00:04, 3187.70it/s]\u001b[A\n",
      "12510it [00:04, 2822.40it/s]\u001b[A\n",
      "13847it [00:04, 4354.81it/s]\u001b[A\n",
      "16401it [00:04, 3453.40it/s]\u001b[A\n",
      "100%|██████████████████████████████████████████████████████████████████████████████████| 11/11 [02:54<00:00, 15.83s/it]"
     ]
    },
    {
     "name": "stdout",
     "output_type": "stream",
     "text": [
      "0.5\n",
      "данные: ['Alfa_Wealth.csv', 'bitkogan.csv', 'cbonds.csv', 'headlines_QUANTS.csv', 'mmi.csv', 'rshb_invest.csv', 'signal.csv', 'sky_bond.csv', 'themovchans.csv', 'vts.csv', 'War_Wealth_Wisdom.csv']\n",
      "всего наблюдений: 17025\n"
     ]
    },
    {
     "name": "stderr",
     "output_type": "stream",
     "text": [
      "\n"
     ]
    }
   ],
   "source": [
    "input_path = 'C:\\\\Users\\\\eduard\\\\jup\\\\project\\\\данные'\n",
    "\n",
    "for root, dirs, files in os.walk(input_path):\n",
    "    for q in tqdm(range(1, 12)):\n",
    "        df = pd.DataFrame([])\n",
    "        for file in files[:q]:\n",
    "            df1 = pd.read_csv(f'данные/{file}')\n",
    "            df = pd.concat([df, df1], axis=0, ignore_index=True)\n",
    "\n",
    "        df = df.sort_values('date', ignore_index=True)\n",
    "        df['date'] = pd.to_datetime(df['date']).dt.strftime('%Y-%m-%d')\n",
    "\n",
    "        pnl = pd.read_csv('данные/zBacktest_EURUSD_5_days.txt')\n",
    "        pnl['date_start'] = pd.to_datetime(pnl['date_start']).dt.strftime('%Y-%m-%d')\n",
    "        pnl['pnl_sign'] = pnl['pnl'].apply(lambda x: 1 if x >= 0 else 0)\n",
    "        pnl['cumm_text'] = None\n",
    "\n",
    "        df_with_pnl = df[(df['date'] >= '2022-03-02') & (df['date'] <= '2022-11-01')]\n",
    "\n",
    "        i = 0\n",
    "        texts = ''\n",
    "        for _,row in tqdm(df_with_pnl.iterrows()):\n",
    "            if i >= pnl.shape[0]:\n",
    "                break\n",
    "\n",
    "            if row['date'] <= pnl['date_start'][i]:\n",
    "                texts += ' ' + row['text']\n",
    "            else:\n",
    "                pnl.at[i,'cumm_text'] = texts\n",
    "                texts = ''\n",
    "                i += 1\n",
    "                continue\n",
    "\n",
    "        train, val = train_test_split(pnl)\n",
    "        train_tokenized = tokenize_corpus(train['cumm_text'])\n",
    "        val_tokenized = tokenize_corpus(val['cumm_text'])\n",
    "\n",
    "        MAX_DF = 0.8 #во скольких документах встречаеться слово\n",
    "        MIN_COUNT = 5 # сколько раз слово встречаеться в тексте\n",
    "\n",
    "\n",
    "        vocabulary, word_doc_freq = build_vocabulary(train_tokenized, max_doc_freq=MAX_DF, min_count=MIN_COUNT)\n",
    "        UNIQUE_WORDS_N = len(vocabulary)    \n",
    "        VECTORIZATION_MODE = 'tfidf'\n",
    "        train_vectors = vectorize_texts(train_tokenized, vocabulary, word_doc_freq, mode=VECTORIZATION_MODE)\n",
    "\n",
    "        train_vectors_gt100 = np.array([get_vectors_gt100(i) for i in train_tokenized])\n",
    "        val_vectors_gt100 = np.array([get_vectors_gt100(i) for i in val_tokenized])\n",
    "\n",
    "        model_t.most_similar(positive=['инвестор', 'рынок'], topn=1)\n",
    "\n",
    "        y_train = train['pnl_sign']\n",
    "        X_train = train_vectors_gt100\n",
    "\n",
    "        y_val = val['pnl_sign']\n",
    "        X_val = val_vectors_gt100\n",
    "\n",
    "        model = LogisticRegression()\n",
    "        model.fit(X_train, y_train)\n",
    "        print(model.score(X_val, y_val))\n",
    "        print('данные:', files[:q])\n",
    "        print('всего наблюдений:', df_with_pnl.shape[0])\n"
   ]
  },
  {
   "cell_type": "code",
   "execution_count": null,
   "id": "14c922ef",
   "metadata": {},
   "outputs": [],
   "source": []
  }
 ],
 "metadata": {
  "kernelspec": {
   "display_name": "Python 3 (ipykernel)",
   "language": "python",
   "name": "python3"
  },
  "language_info": {
   "codemirror_mode": {
    "name": "ipython",
    "version": 3
   },
   "file_extension": ".py",
   "mimetype": "text/x-python",
   "name": "python",
   "nbconvert_exporter": "python",
   "pygments_lexer": "ipython3",
   "version": "3.10.4"
  }
 },
 "nbformat": 4,
 "nbformat_minor": 5
}
