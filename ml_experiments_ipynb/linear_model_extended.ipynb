{
 "cells": [
  {
   "cell_type": "code",
   "execution_count": 4,
   "id": "29895fe8",
   "metadata": {},
   "outputs": [],
   "source": [
    "import warnings\n",
    "warnings.filterwarnings('ignore')\n",
    "\n",
    "from sklearn.datasets import fetch_20newsgroups\n",
    "from sklearn.metrics import accuracy_score\n",
    "\n",
    "import numpy as np\n",
    "\n",
    "import matplotlib.pyplot as plt\n",
    "%matplotlib inline\n",
    "\n",
    "import collections\n",
    "\n",
    "import torch\n",
    "from torch import nn\n",
    "from torch.nn import functional as F\n",
    "\n",
    "import sys\n",
    "import os\n",
    "from tqdm import tqdm  \n",
    "import pandas as pd\n",
    "from sklearn.model_selection import train_test_split\n",
    "from gensim import utils\n",
    "from sklearn.metrics import accuracy_score\n",
    "from sklearn.linear_model import LogisticRegression\n",
    "from gensim.models import Word2Vec\n",
    "import gensim.downloader as api\n",
    "\n",
    "# import dlnlputils\n",
    "# from dlnlputils.data import tokenize_text_simple_regex, tokenize_corpus, build_vocabulary, \\\n",
    "#     vectorize_texts, SparseFeaturesDataset\n",
    "# from dlnlputils.pipeline import train_eval_loop, predict_with_model, init_random_seed\n",
    "\n",
    "# init_random_seed()"
   ]
  },
  {
   "cell_type": "code",
   "execution_count": 5,
   "id": "129bab82",
   "metadata": {},
   "outputs": [],
   "source": [
    "import numpy as np\n",
    "import scipy.sparse\n",
    "import torch\n",
    "from torch.utils.data import Dataset"
   ]
  },
  {
   "cell_type": "code",
   "execution_count": 6,
   "id": "318333aa",
   "metadata": {},
   "outputs": [],
   "source": [
    "#подготовка признаков"
   ]
  },
  {
   "cell_type": "code",
   "execution_count": 7,
   "id": "023efcc5",
   "metadata": {},
   "outputs": [],
   "source": [
    "import collections\n",
    "import re\n",
    "\n",
    "import numpy as np\n",
    "\n",
    "TOKEN_RE = re.compile(r'[\\w\\d]+')\n",
    "\n",
    "\n",
    "def tokenize_text_simple_regex(txt, min_token_size=4):\n",
    "    txt = txt.lower()\n",
    "    all_tokens = TOKEN_RE.findall(txt)\n",
    "    return [token for token in all_tokens if len(token) >= min_token_size]\n",
    "\n",
    "\n",
    "def character_tokenize(txt):\n",
    "    return list(txt)\n",
    "\n",
    "\n",
    "def tokenize_corpus(texts, tokenizer=tokenize_text_simple_regex, **tokenizer_kwargs):\n",
    "    return [tokenizer(text, **tokenizer_kwargs) for text in texts]\n",
    "\n",
    "\n",
    "def add_fake_token(word2id, token=''):\n",
    "    word2id_new = {token: i + 1 for token, i in word2id.items()}\n",
    "    word2id_new[token] = 0\n",
    "    return word2id_new\n",
    "\n",
    "\n",
    "def texts_to_token_ids(tokenized_texts, word2id):\n",
    "    return [[word2id[token] for token in text if token in word2id]\n",
    "            for text in tokenized_texts]\n",
    "\n",
    "\n",
    "def build_vocabulary(tokenized_texts, max_size=1000000, max_doc_freq=0.8, min_count=5, pad_word=None):\n",
    "    word_counts = collections.defaultdict(int)\n",
    "    doc_n = 0\n",
    "\n",
    "    # посчитать количество документов, в которых употребляется каждое слово\n",
    "    # а также общее количество документов\n",
    "    for txt in tokenized_texts:\n",
    "        doc_n += 1\n",
    "        unique_text_tokens = set(txt)\n",
    "        for token in unique_text_tokens:\n",
    "            word_counts[token] += 1\n",
    "\n",
    "    # убрать слишком редкие и слишком частые слова\n",
    "    word_counts = {word: cnt for word, cnt in word_counts.items()\n",
    "                   if cnt >= min_count and cnt / doc_n <= max_doc_freq}\n",
    "\n",
    "    # отсортировать слова по убыванию частоты\n",
    "    sorted_word_counts = sorted(word_counts.items(),\n",
    "                                reverse=True,\n",
    "                                key=lambda pair: pair[1])\n",
    "\n",
    "    # добавим несуществующее слово с индексом 0 для удобства пакетной обработки\n",
    "    if pad_word is not None:\n",
    "        sorted_word_counts = [(pad_word, 0)] + sorted_word_counts\n",
    "\n",
    "    # если у нас по прежнему слишком много слов, оставить только max_size самых частотных\n",
    "    if len(word_counts) > max_size:\n",
    "        sorted_word_counts = sorted_word_counts[:max_size]\n",
    "\n",
    "    # нумеруем слова\n",
    "    word2id = {word: i for i, (word, _) in enumerate(sorted_word_counts)}\n",
    "\n",
    "    # нормируем частоты слов\n",
    "    word2freq = np.array([cnt / doc_n for _, cnt in sorted_word_counts], dtype='float32')\n",
    "\n",
    "    return word2id, word2freq\n",
    "\n",
    "\n",
    "PAD_TOKEN = '__PAD__'\n",
    "NUMERIC_TOKEN = '__NUMBER__'\n",
    "NUMERIC_RE = re.compile(r'^([0-9.,e+\\-]+|[mcxvi]+)$', re.I)\n",
    "\n",
    "\n",
    "def replace_number_nokens(tokenized_texts):\n",
    "    return [[token if not NUMERIC_RE.match(token) else NUMERIC_TOKEN for token in text]\n",
    "            for text in tokenized_texts]"
   ]
  },
  {
   "cell_type": "code",
   "execution_count": 8,
   "id": "c2fae2d3",
   "metadata": {},
   "outputs": [],
   "source": [
    "import numpy as np\n",
    "import scipy.sparse\n",
    "import torch\n",
    "from torch.utils.data import Dataset\n",
    "\n",
    "\n",
    "def vectorize_texts(tokenized_texts, word2id, word2freq, mode='tfidf', scale=True):\n",
    "    assert mode in {'tfidf', 'idf', 'tf', 'bin'}\n",
    "\n",
    "    # считаем количество употреблений каждого слова в каждом документе\n",
    "    result = scipy.sparse.dok_matrix((len(tokenized_texts), len(word2id)), dtype='float32')\n",
    "    for text_i, text in enumerate(tokenized_texts):\n",
    "        for token in text:\n",
    "            if token in word2id:\n",
    "                result[text_i, word2id[token]] += 1\n",
    "\n",
    "    # получаем бинарные вектора \"встречается или нет\"\n",
    "    if mode == 'bin':\n",
    "        result = (result > 0).astype('float32')\n",
    "\n",
    "    # получаем вектора относительных частот слова в документе\n",
    "    elif mode == 'tf':\n",
    "        result = result.tocsr()\n",
    "        result = result.multiply(1 / result.sum(1))\n",
    "\n",
    "    # полностью убираем информацию о количестве употреблений слова в данном документе,\n",
    "    # но оставляем информацию о частотности слова в корпусе в целом\n",
    "    elif mode == 'idf':\n",
    "        result = (result > 0).astype('float32').multiply(1 / word2freq)\n",
    "\n",
    "    # учитываем всю информацию, которая у нас есть:\n",
    "    # частоту слова в документе и частоту слова в корпусе\n",
    "    elif mode == 'tfidf':\n",
    "        result = result.tocsr()\n",
    "        result = result.multiply(1 / result.sum(1))  # разделить каждую строку на её длину\n",
    "        result = result.multiply(1 / word2freq)  # разделить каждый столбец на вес слова\n",
    "\n",
    "    if scale:\n",
    "        result = result.tocsc()\n",
    "        result -= result.min()\n",
    "        result /= (result.max() + 1e-6)\n",
    "\n",
    "    return result.tocsr()\n",
    "\n",
    "\n",
    "class SparseFeaturesDataset(Dataset):\n",
    "    def __init__(self, features, targets):\n",
    "        self.features = features\n",
    "        self.targets = targets\n",
    "\n",
    "    def __len__(self):\n",
    "        return self.features.shape[0]\n",
    "\n",
    "    def __getitem__(self, idx):\n",
    "        cur_features = torch.from_numpy(self.features[idx].toarray()[0]).float()\n",
    "        cur_label = torch.from_numpy(np.asarray(self.targets[idx])).long()\n",
    "        return cur_features, cur_label"
   ]
  },
  {
   "cell_type": "code",
   "execution_count": 9,
   "id": "ca96d5ed",
   "metadata": {},
   "outputs": [],
   "source": [
    "import pandas as pd\n",
    "df = pd.read_csv(\"data/bitkogan.csv\")"
   ]
  },
  {
   "cell_type": "code",
   "execution_count": 10,
   "id": "e8f3a98d",
   "metadata": {},
   "outputs": [
    {
     "name": "stderr",
     "output_type": "stream",
     "text": [
      "100%|█████████████████████████████████████████████| 1/1 [00:00<00:00,  5.82it/s]\n"
     ]
    },
    {
     "data": {
      "text/html": [
       "<div>\n",
       "<style scoped>\n",
       "    .dataframe tbody tr th:only-of-type {\n",
       "        vertical-align: middle;\n",
       "    }\n",
       "\n",
       "    .dataframe tbody tr th {\n",
       "        vertical-align: top;\n",
       "    }\n",
       "\n",
       "    .dataframe thead th {\n",
       "        text-align: right;\n",
       "    }\n",
       "</style>\n",
       "<table border=\"1\" class=\"dataframe\">\n",
       "  <thead>\n",
       "    <tr style=\"text-align: right;\">\n",
       "      <th></th>\n",
       "      <th>id</th>\n",
       "      <th>date</th>\n",
       "      <th>text</th>\n",
       "    </tr>\n",
       "  </thead>\n",
       "  <tbody>\n",
       "    <tr>\n",
       "      <th>0</th>\n",
       "      <td>9</td>\n",
       "      <td>2017-07-28T10:56:14</td>\n",
       "      <td>Cbonds.ru  запустило канал в Telegram. Планиру...</td>\n",
       "    </tr>\n",
       "    <tr>\n",
       "      <th>1</th>\n",
       "      <td>10</td>\n",
       "      <td>2017-08-03T15:28:17</td>\n",
       "      <td>Облигационный бюллетень Cbonds – все данные о ...</td>\n",
       "    </tr>\n",
       "    <tr>\n",
       "      <th>2</th>\n",
       "      <td>11</td>\n",
       "      <td>2017-08-03T15:41:02</td>\n",
       "      <td>Cbonds prepared monthly report: CBONDS GLOBAL ...</td>\n",
       "    </tr>\n",
       "    <tr>\n",
       "      <th>3</th>\n",
       "      <td>12</td>\n",
       "      <td>2017-08-03T18:11:32</td>\n",
       "      <td>Дайджест Cbonds от  3 августа:«Группа Компаний...</td>\n",
       "    </tr>\n",
       "    <tr>\n",
       "      <th>4</th>\n",
       "      <td>13</td>\n",
       "      <td>2017-08-04T12:42:41</td>\n",
       "      <td>Совкомбанк открыл книгу заявок на вторичное ра...</td>\n",
       "    </tr>\n",
       "  </tbody>\n",
       "</table>\n",
       "</div>"
      ],
      "text/plain": [
       "   id                 date                                               text\n",
       "0   9  2017-07-28T10:56:14  Cbonds.ru  запустило канал в Telegram. Планиру...\n",
       "1  10  2017-08-03T15:28:17  Облигационный бюллетень Cbonds – все данные о ...\n",
       "2  11  2017-08-03T15:41:02  Cbonds prepared monthly report: CBONDS GLOBAL ...\n",
       "3  12  2017-08-03T18:11:32  Дайджест Cbonds от  3 августа:«Группа Компаний...\n",
       "4  13  2017-08-04T12:42:41  Совкомбанк открыл книгу заявок на вторичное ра..."
      ]
     },
     "execution_count": 10,
     "metadata": {},
     "output_type": "execute_result"
    }
   ],
   "source": [
    "df = pd.DataFrame([])\n",
    "for root, dirs, files in os.walk('data'):\n",
    "    for file in tqdm(files[:1]):\n",
    "        df1 = pd.read_csv(f'data/{file}')\n",
    "        df = pd.concat([df, df1], axis=0, ignore_index=True)\n",
    "\n",
    "df = df.sort_values('date', ignore_index=True)\n",
    "df.head()"
   ]
  },
  {
   "cell_type": "code",
   "execution_count": 11,
   "id": "c824404e",
   "metadata": {},
   "outputs": [
    {
     "data": {
      "text/html": [
       "<div>\n",
       "<style scoped>\n",
       "    .dataframe tbody tr th:only-of-type {\n",
       "        vertical-align: middle;\n",
       "    }\n",
       "\n",
       "    .dataframe tbody tr th {\n",
       "        vertical-align: top;\n",
       "    }\n",
       "\n",
       "    .dataframe thead th {\n",
       "        text-align: right;\n",
       "    }\n",
       "</style>\n",
       "<table border=\"1\" class=\"dataframe\">\n",
       "  <thead>\n",
       "    <tr style=\"text-align: right;\">\n",
       "      <th></th>\n",
       "      <th>date_start</th>\n",
       "      <th>pnl</th>\n",
       "      <th>pnl_sign</th>\n",
       "    </tr>\n",
       "  </thead>\n",
       "  <tbody>\n",
       "    <tr>\n",
       "      <th>0</th>\n",
       "      <td>2022-03-02</td>\n",
       "      <td>4.562674e+06</td>\n",
       "      <td>1</td>\n",
       "    </tr>\n",
       "    <tr>\n",
       "      <th>1</th>\n",
       "      <td>2022-03-03</td>\n",
       "      <td>-4.663725e+06</td>\n",
       "      <td>0</td>\n",
       "    </tr>\n",
       "    <tr>\n",
       "      <th>2</th>\n",
       "      <td>2022-03-04</td>\n",
       "      <td>-4.845276e+05</td>\n",
       "      <td>0</td>\n",
       "    </tr>\n",
       "    <tr>\n",
       "      <th>3</th>\n",
       "      <td>2022-03-09</td>\n",
       "      <td>1.268498e+06</td>\n",
       "      <td>1</td>\n",
       "    </tr>\n",
       "    <tr>\n",
       "      <th>4</th>\n",
       "      <td>2022-03-10</td>\n",
       "      <td>-2.874466e+06</td>\n",
       "      <td>0</td>\n",
       "    </tr>\n",
       "    <tr>\n",
       "      <th>...</th>\n",
       "      <td>...</td>\n",
       "      <td>...</td>\n",
       "      <td>...</td>\n",
       "    </tr>\n",
       "    <tr>\n",
       "      <th>138</th>\n",
       "      <td>2022-09-28</td>\n",
       "      <td>-3.886725e+05</td>\n",
       "      <td>0</td>\n",
       "    </tr>\n",
       "    <tr>\n",
       "      <th>139</th>\n",
       "      <td>2022-09-29</td>\n",
       "      <td>8.040320e+05</td>\n",
       "      <td>1</td>\n",
       "    </tr>\n",
       "    <tr>\n",
       "      <th>140</th>\n",
       "      <td>2022-09-30</td>\n",
       "      <td>1.544311e+06</td>\n",
       "      <td>1</td>\n",
       "    </tr>\n",
       "    <tr>\n",
       "      <th>141</th>\n",
       "      <td>2022-10-03</td>\n",
       "      <td>1.868107e+06</td>\n",
       "      <td>1</td>\n",
       "    </tr>\n",
       "    <tr>\n",
       "      <th>142</th>\n",
       "      <td>2022-10-04</td>\n",
       "      <td>2.480969e+06</td>\n",
       "      <td>1</td>\n",
       "    </tr>\n",
       "  </tbody>\n",
       "</table>\n",
       "<p>143 rows × 3 columns</p>\n",
       "</div>"
      ],
      "text/plain": [
       "     date_start           pnl  pnl_sign\n",
       "0    2022-03-02  4.562674e+06         1\n",
       "1    2022-03-03 -4.663725e+06         0\n",
       "2    2022-03-04 -4.845276e+05         0\n",
       "3    2022-03-09  1.268498e+06         1\n",
       "4    2022-03-10 -2.874466e+06         0\n",
       "..          ...           ...       ...\n",
       "138  2022-09-28 -3.886725e+05         0\n",
       "139  2022-09-29  8.040320e+05         1\n",
       "140  2022-09-30  1.544311e+06         1\n",
       "141  2022-10-03  1.868107e+06         1\n",
       "142  2022-10-04  2.480969e+06         1\n",
       "\n",
       "[143 rows x 3 columns]"
      ]
     },
     "execution_count": 11,
     "metadata": {},
     "output_type": "execute_result"
    }
   ],
   "source": [
    "pnl = pd.read_csv('Backtest_USDRUB_5_days_2022.txt')\n",
    "pnl['date_start'] = pd.to_datetime(pnl['date_start']).dt.strftime('%Y-%m-%d')\n",
    "pnl['pnl_sign'] = pnl['pnl'].apply(lambda x: 1 if x >= 0 else 0)\n",
    "pnl"
   ]
  },
  {
   "cell_type": "code",
   "execution_count": 12,
   "id": "15a3bcd8",
   "metadata": {},
   "outputs": [
    {
     "data": {
      "text/plain": [
       "0.32167832167832167"
      ]
     },
     "execution_count": 12,
     "metadata": {},
     "output_type": "execute_result"
    }
   ],
   "source": [
    "pnl['pnl_sign'].sum() / pnl.shape[0]"
   ]
  },
  {
   "cell_type": "code",
   "execution_count": 13,
   "id": "ab142de9",
   "metadata": {},
   "outputs": [
    {
     "data": {
      "text/html": [
       "<div>\n",
       "<style scoped>\n",
       "    .dataframe tbody tr th:only-of-type {\n",
       "        vertical-align: middle;\n",
       "    }\n",
       "\n",
       "    .dataframe tbody tr th {\n",
       "        vertical-align: top;\n",
       "    }\n",
       "\n",
       "    .dataframe thead th {\n",
       "        text-align: right;\n",
       "    }\n",
       "</style>\n",
       "<table border=\"1\" class=\"dataframe\">\n",
       "  <thead>\n",
       "    <tr style=\"text-align: right;\">\n",
       "      <th></th>\n",
       "      <th>date_start</th>\n",
       "      <th>pnl</th>\n",
       "      <th>pnl_sign</th>\n",
       "      <th>cumm_text</th>\n",
       "    </tr>\n",
       "  </thead>\n",
       "  <tbody>\n",
       "    <tr>\n",
       "      <th>0</th>\n",
       "      <td>2022-03-02</td>\n",
       "      <td>4.562674e+06</td>\n",
       "      <td>1</td>\n",
       "      <td>None</td>\n",
       "    </tr>\n",
       "    <tr>\n",
       "      <th>1</th>\n",
       "      <td>2022-03-03</td>\n",
       "      <td>-4.663725e+06</td>\n",
       "      <td>0</td>\n",
       "      <td>None</td>\n",
       "    </tr>\n",
       "    <tr>\n",
       "      <th>2</th>\n",
       "      <td>2022-03-04</td>\n",
       "      <td>-4.845276e+05</td>\n",
       "      <td>0</td>\n",
       "      <td>None</td>\n",
       "    </tr>\n",
       "    <tr>\n",
       "      <th>3</th>\n",
       "      <td>2022-03-09</td>\n",
       "      <td>1.268498e+06</td>\n",
       "      <td>1</td>\n",
       "      <td>None</td>\n",
       "    </tr>\n",
       "    <tr>\n",
       "      <th>4</th>\n",
       "      <td>2022-03-10</td>\n",
       "      <td>-2.874466e+06</td>\n",
       "      <td>0</td>\n",
       "      <td>None</td>\n",
       "    </tr>\n",
       "    <tr>\n",
       "      <th>...</th>\n",
       "      <td>...</td>\n",
       "      <td>...</td>\n",
       "      <td>...</td>\n",
       "      <td>...</td>\n",
       "    </tr>\n",
       "    <tr>\n",
       "      <th>138</th>\n",
       "      <td>2022-09-28</td>\n",
       "      <td>-3.886725e+05</td>\n",
       "      <td>0</td>\n",
       "      <td>None</td>\n",
       "    </tr>\n",
       "    <tr>\n",
       "      <th>139</th>\n",
       "      <td>2022-09-29</td>\n",
       "      <td>8.040320e+05</td>\n",
       "      <td>1</td>\n",
       "      <td>None</td>\n",
       "    </tr>\n",
       "    <tr>\n",
       "      <th>140</th>\n",
       "      <td>2022-09-30</td>\n",
       "      <td>1.544311e+06</td>\n",
       "      <td>1</td>\n",
       "      <td>None</td>\n",
       "    </tr>\n",
       "    <tr>\n",
       "      <th>141</th>\n",
       "      <td>2022-10-03</td>\n",
       "      <td>1.868107e+06</td>\n",
       "      <td>1</td>\n",
       "      <td>None</td>\n",
       "    </tr>\n",
       "    <tr>\n",
       "      <th>142</th>\n",
       "      <td>2022-10-04</td>\n",
       "      <td>2.480969e+06</td>\n",
       "      <td>1</td>\n",
       "      <td>None</td>\n",
       "    </tr>\n",
       "  </tbody>\n",
       "</table>\n",
       "<p>143 rows × 4 columns</p>\n",
       "</div>"
      ],
      "text/plain": [
       "     date_start           pnl  pnl_sign cumm_text\n",
       "0    2022-03-02  4.562674e+06         1      None\n",
       "1    2022-03-03 -4.663725e+06         0      None\n",
       "2    2022-03-04 -4.845276e+05         0      None\n",
       "3    2022-03-09  1.268498e+06         1      None\n",
       "4    2022-03-10 -2.874466e+06         0      None\n",
       "..          ...           ...       ...       ...\n",
       "138  2022-09-28 -3.886725e+05         0      None\n",
       "139  2022-09-29  8.040320e+05         1      None\n",
       "140  2022-09-30  1.544311e+06         1      None\n",
       "141  2022-10-03  1.868107e+06         1      None\n",
       "142  2022-10-04  2.480969e+06         1      None\n",
       "\n",
       "[143 rows x 4 columns]"
      ]
     },
     "execution_count": 13,
     "metadata": {},
     "output_type": "execute_result"
    }
   ],
   "source": [
    "pnl['cumm_text'] = None\n",
    "pnl"
   ]
  },
  {
   "cell_type": "code",
   "execution_count": 14,
   "id": "2969bf1c",
   "metadata": {},
   "outputs": [],
   "source": [
    "df['date'] = pd.to_datetime(df['date']).dt.strftime('%Y-%m-%d')"
   ]
  },
  {
   "cell_type": "code",
   "execution_count": 15,
   "id": "467d1f53",
   "metadata": {},
   "outputs": [
    {
     "data": {
      "text/html": [
       "<div>\n",
       "<style scoped>\n",
       "    .dataframe tbody tr th:only-of-type {\n",
       "        vertical-align: middle;\n",
       "    }\n",
       "\n",
       "    .dataframe tbody tr th {\n",
       "        vertical-align: top;\n",
       "    }\n",
       "\n",
       "    .dataframe thead th {\n",
       "        text-align: right;\n",
       "    }\n",
       "</style>\n",
       "<table border=\"1\" class=\"dataframe\">\n",
       "  <thead>\n",
       "    <tr style=\"text-align: right;\">\n",
       "      <th></th>\n",
       "      <th>id</th>\n",
       "      <th>date</th>\n",
       "      <th>text</th>\n",
       "    </tr>\n",
       "  </thead>\n",
       "  <tbody>\n",
       "    <tr>\n",
       "      <th>9848</th>\n",
       "      <td>10798</td>\n",
       "      <td>2022-03-01</td>\n",
       "      <td>УТРЕННИЙ ДАЙДЖЕСТ  🔹Сегодня торги на Московско...</td>\n",
       "    </tr>\n",
       "    <tr>\n",
       "      <th>9849</th>\n",
       "      <td>10799</td>\n",
       "      <td>2022-03-01</td>\n",
       "      <td>​​ 📚 Cbonds Review №1/2022: «Макроэкономика. И...</td>\n",
       "    </tr>\n",
       "    <tr>\n",
       "      <th>9850</th>\n",
       "      <td>10800</td>\n",
       "      <td>2022-03-01</td>\n",
       "      <td>⚡️ Важное на рынках: 🇰🇿⛔️На Казахстанской фонд...</td>\n",
       "    </tr>\n",
       "    <tr>\n",
       "      <th>9851</th>\n",
       "      <td>10802</td>\n",
       "      <td>2022-03-01</td>\n",
       "      <td>#ДенежныйРынок 📆💰 События денежного рынка сего...</td>\n",
       "    </tr>\n",
       "    <tr>\n",
       "      <th>9852</th>\n",
       "      <td>10803</td>\n",
       "      <td>2022-03-01</td>\n",
       "      <td>🔜 ⏯ Провайдер индекса  MSCI  назвал исключение...</td>\n",
       "    </tr>\n",
       "    <tr>\n",
       "      <th>...</th>\n",
       "      <td>...</td>\n",
       "      <td>...</td>\n",
       "      <td>...</td>\n",
       "    </tr>\n",
       "    <tr>\n",
       "      <th>11951</th>\n",
       "      <td>13076</td>\n",
       "      <td>2022-10-31</td>\n",
       "      <td>​​ #РейтингиСНГ  🗂 Присвоение / Изменение рейт...</td>\n",
       "    </tr>\n",
       "    <tr>\n",
       "      <th>11952</th>\n",
       "      <td>13077</td>\n",
       "      <td>2022-10-31</td>\n",
       "      <td>​​ ✔️ Рейтинги компаний от агентства SNS Ratin...</td>\n",
       "    </tr>\n",
       "    <tr>\n",
       "      <th>11953</th>\n",
       "      <td>13078</td>\n",
       "      <td>2022-10-31</td>\n",
       "      <td>⌛️ Последний шанс принять участие в Cbonds Awa...</td>\n",
       "    </tr>\n",
       "    <tr>\n",
       "      <th>11954</th>\n",
       "      <td>13079</td>\n",
       "      <td>2022-10-31</td>\n",
       "      <td>#Премаркетинг  ⚒ «Южуралзолото Группа Компаний...</td>\n",
       "    </tr>\n",
       "    <tr>\n",
       "      <th>11955</th>\n",
       "      <td>13080</td>\n",
       "      <td>2022-10-31</td>\n",
       "      <td>#Премаркетинг  💻 «Селектел»,  001Р-02R  (3 млр...</td>\n",
       "    </tr>\n",
       "  </tbody>\n",
       "</table>\n",
       "<p>2108 rows × 3 columns</p>\n",
       "</div>"
      ],
      "text/plain": [
       "          id        date                                               text\n",
       "9848   10798  2022-03-01  УТРЕННИЙ ДАЙДЖЕСТ  🔹Сегодня торги на Московско...\n",
       "9849   10799  2022-03-01  ​​ 📚 Cbonds Review №1/2022: «Макроэкономика. И...\n",
       "9850   10800  2022-03-01  ⚡️ Важное на рынках: 🇰🇿⛔️На Казахстанской фонд...\n",
       "9851   10802  2022-03-01  #ДенежныйРынок 📆💰 События денежного рынка сего...\n",
       "9852   10803  2022-03-01  🔜 ⏯ Провайдер индекса  MSCI  назвал исключение...\n",
       "...      ...         ...                                                ...\n",
       "11951  13076  2022-10-31  ​​ #РейтингиСНГ  🗂 Присвоение / Изменение рейт...\n",
       "11952  13077  2022-10-31  ​​ ✔️ Рейтинги компаний от агентства SNS Ratin...\n",
       "11953  13078  2022-10-31  ⌛️ Последний шанс принять участие в Cbonds Awa...\n",
       "11954  13079  2022-10-31  #Премаркетинг  ⚒ «Южуралзолото Группа Компаний...\n",
       "11955  13080  2022-10-31  #Премаркетинг  💻 «Селектел»,  001Р-02R  (3 млр...\n",
       "\n",
       "[2108 rows x 3 columns]"
      ]
     },
     "execution_count": 15,
     "metadata": {},
     "output_type": "execute_result"
    }
   ],
   "source": [
    "df_with_pnl = df[(df['date'] >= '2022-03-01') & (df['date'] <= '2022-10-31')]\n",
    "df_with_pnl"
   ]
  },
  {
   "cell_type": "code",
   "execution_count": 16,
   "id": "ab208030",
   "metadata": {},
   "outputs": [
    {
     "data": {
      "text/html": [
       "<div>\n",
       "<style scoped>\n",
       "    .dataframe tbody tr th:only-of-type {\n",
       "        vertical-align: middle;\n",
       "    }\n",
       "\n",
       "    .dataframe tbody tr th {\n",
       "        vertical-align: top;\n",
       "    }\n",
       "\n",
       "    .dataframe thead th {\n",
       "        text-align: right;\n",
       "    }\n",
       "</style>\n",
       "<table border=\"1\" class=\"dataframe\">\n",
       "  <thead>\n",
       "    <tr style=\"text-align: right;\">\n",
       "      <th></th>\n",
       "      <th>date_start</th>\n",
       "      <th>pnl</th>\n",
       "      <th>pnl_sign</th>\n",
       "      <th>cumm_text</th>\n",
       "    </tr>\n",
       "  </thead>\n",
       "  <tbody>\n",
       "    <tr>\n",
       "      <th>0</th>\n",
       "      <td>2022-03-02</td>\n",
       "      <td>4.562674e+06</td>\n",
       "      <td>1</td>\n",
       "      <td>УТРЕННИЙ ДАЙДЖЕСТ  🔹Сегодня торги на Московск...</td>\n",
       "    </tr>\n",
       "    <tr>\n",
       "      <th>1</th>\n",
       "      <td>2022-03-03</td>\n",
       "      <td>-4.663725e+06</td>\n",
       "      <td>0</td>\n",
       "      <td>⚡️Важное на рынках: 🏛Банк России до конца год...</td>\n",
       "    </tr>\n",
       "    <tr>\n",
       "      <th>2</th>\n",
       "      <td>2022-03-04</td>\n",
       "      <td>-4.845276e+05</td>\n",
       "      <td>0</td>\n",
       "      <td>⚡️Важное на рынках: 🏛💵Банк России, дополнител...</td>\n",
       "    </tr>\n",
       "    <tr>\n",
       "      <th>3</th>\n",
       "      <td>2022-03-09</td>\n",
       "      <td>1.268498e+06</td>\n",
       "      <td>1</td>\n",
       "      <td>#РейтингиМир 📊 Рейтинговые действия в иностра...</td>\n",
       "    </tr>\n",
       "    <tr>\n",
       "      <th>4</th>\n",
       "      <td>2022-03-10</td>\n",
       "      <td>-2.874466e+06</td>\n",
       "      <td>0</td>\n",
       "      <td>💻  JPMorgan Chase &amp; Co. отказался от роли кон...</td>\n",
       "    </tr>\n",
       "  </tbody>\n",
       "</table>\n",
       "</div>"
      ],
      "text/plain": [
       "   date_start           pnl  pnl_sign  \\\n",
       "0  2022-03-02  4.562674e+06         1   \n",
       "1  2022-03-03 -4.663725e+06         0   \n",
       "2  2022-03-04 -4.845276e+05         0   \n",
       "3  2022-03-09  1.268498e+06         1   \n",
       "4  2022-03-10 -2.874466e+06         0   \n",
       "\n",
       "                                           cumm_text  \n",
       "0   УТРЕННИЙ ДАЙДЖЕСТ  🔹Сегодня торги на Московск...  \n",
       "1   ⚡️Важное на рынках: 🏛Банк России до конца год...  \n",
       "2   ⚡️Важное на рынках: 🏛💵Банк России, дополнител...  \n",
       "3   #РейтингиМир 📊 Рейтинговые действия в иностра...  \n",
       "4   💻  JPMorgan Chase & Co. отказался от роли кон...  "
      ]
     },
     "execution_count": 16,
     "metadata": {},
     "output_type": "execute_result"
    }
   ],
   "source": [
    "i = 0\n",
    "texts = ''\n",
    "for _, row in df_with_pnl.iterrows():\n",
    "    if i >= pnl.shape[0]:\n",
    "        break\n",
    "\n",
    "    if row['date'] <= pnl['date_start'][i]:\n",
    "        texts += ' ' + row['text']\n",
    "    else:\n",
    "        pnl.at[i, 'cumm_text'] = texts\n",
    "        texts = ''\n",
    "        i += 1\n",
    "        continue\n",
    "\n",
    "pnl.head()"
   ]
  },
  {
   "cell_type": "code",
   "execution_count": 17,
   "id": "066a1be2",
   "metadata": {},
   "outputs": [],
   "source": [
    "from sklearn.model_selection import train_test_split\n",
    "train, val = train_test_split(pnl)"
   ]
  },
  {
   "cell_type": "code",
   "execution_count": 18,
   "id": "6a5050cc",
   "metadata": {},
   "outputs": [],
   "source": [
    "train_tokenized = tokenize_corpus(train['cumm_text'])\n",
    "val_tokenized = tokenize_corpus(val['cumm_text'])"
   ]
  },
  {
   "cell_type": "code",
   "execution_count": 19,
   "id": "515bcdc8",
   "metadata": {},
   "outputs": [
    {
     "name": "stdout",
     "output_type": "stream",
     "text": [
      "премаркетинг балтийский лизинг млрд книга открыта ориентир ставки купона годовых эффективной доходности годовых организаторами выступают регион global markets газпромбанк синара инвестбанк сегодня рынок ломбардов 2022 прогнозы реалии возможности онлайн семинар cbonds сегодня сентября побеседуем генеральным директором мосгорломбард председателем совета национальное объединение ломбардов алексеем лазутиным ответим важные вопросы почему ломбард древнейший финансовый институт который работает почему ломбард золото которое приносит процентный доход почему ломбард финансовый золотодобытчик почему ломбарды помогают окружающей среде кроме этого разберем основные стратегии участников рынка спикеры онлайн семинара сергей лялин основатель cbonds алексей лазутин генеральный директор мосгорломбард когда сентября участие бесплатное необходима регистрация встречи онлайн семинаре cbonds новостикомпаний российские компании основные события сентября завершается период подачи заявок участие группы позитив размер акций акционерного капитала минимальная сумма подачи поручения дата объявления цены сентября 2022 продающие акционеры собирают удовлетворяют заявки через брокера компания стоимость депозитарных расписок потеряла свыше мосбирже закрытию вечерней сессии бумаги рухнули после сообщений удалении вконтакте других приложений компании store сегодня утра перешли умеренному росту маршрута поставок газа европу балтийского моря северные потоки выведены строя несмотря текущую рыночную стоимость потерянного газа фактическая стоимость газа газпрома ниже таким образом является существенной акционерной стоимости экспресс бесплатный вебинар абитуриентов программы банковского института управление инвестициями финансовый рынок изменения перспективы развития встрече узнаете программе партнере международного института более содержания соответствует оригинальному силлабусу института павел шальнов участник экспертного совета программы вице президент корпоративный инвестиционный блок банка открытие расскажет перспективах развития финансового рынка особенностях инвестиционного процесса условиях санкций василий солодков директор банковского института представит программу раскроет подробности процесса поступления программу когда сентября онлайн платформа zoom участия необходимо зарегистрироваться поступить можно сейчас октября действует дополнительная скидка обучение реклама еврооблигации выплаты купонов евробондам россии украины сентября корпоративные евробонды россии properties 27sep2028 выплаты суверенным евробондам россии суверенным корпоративным евробондам украины сегодня запланированы евробонды газпрома погашением 2027 году которые были получены результате обмена замещающие облигации газпром капитала аннулированы календарь событий cbonds котировки индексам срочного рынка taipei exchange доступны сайте cbonds cbonds начал публиковать котировки taipei exchange валютным процентным свопам тайваня разделе процентные свопы представлены процентные свопы вида taibor тенорами одного года разделе валютные форварды представлены валютные свопы именно forward swap тенорами одной недели года taipei exchange является ключевым игроком рынке ценных бумаг тайваня предоставляя финансовые продукты торговые услуги тайваньском международном рынке основныесобытия вечерний дайджест минфин будет завтра сентября проводить аукционы размещению связи волатильностью рынках прошлой неделе аукциона состоялись связи отсутствием заявок приемлемым уровням банк россии зарегистрировал пять выпусков облигаций белоруссии общим объемом млрд рублей еабр рамках emtn программы успешно погасил десятилетние еврооблигации выполнив свои обязательства перед инвесторами\n"
     ]
    }
   ],
   "source": [
    "print(' '.join(train_tokenized[0]))"
   ]
  },
  {
   "cell_type": "code",
   "execution_count": 20,
   "id": "d21450b9",
   "metadata": {},
   "outputs": [
    {
     "name": "stdout",
     "output_type": "stream",
     "text": [
      "Количество уникальных токенов 3474\n",
      "[('году', 0), ('евробонды', 1), ('корпоративные', 2), ('источник', 3), ('изменение', 4), ('выпуска', 5), ('размещения', 6), ('рейтинга', 7), ('бумаг', 8), ('странах', 9)]\n"
     ]
    }
   ],
   "source": [
    "# строим словарь - vocabulary с помощью функции build_vocabulary\n",
    "# принимает на вход список списков токенезированные\n",
    "# word_doc_freq - содержит относительные частоты всех слов в датасете, он понадобиться \n",
    "# на этапе формирования матрицы признаков\n",
    "\n",
    "MAX_DF = 0.8 #во скольких документах встречаеться слово\n",
    "MIN_COUNT = 5 # сколько раз слово встречаеться в тексте\n",
    "\n",
    "\n",
    "vocabulary, word_doc_freq = build_vocabulary(train_tokenized, max_doc_freq=MAX_DF, min_count=MIN_COUNT)\n",
    "UNIQUE_WORDS_N = len(vocabulary)\n",
    "print('Количество уникальных токенов', UNIQUE_WORDS_N)\n",
    "print(list(vocabulary.items())[:10])"
   ]
  },
  {
   "cell_type": "code",
   "execution_count": 21,
   "id": "49502d4a",
   "metadata": {},
   "outputs": [
    {
     "data": {
      "image/png": "[encoded data removed]",
      "text/plain": [
       "<Figure size 432x288 with 1 Axes>"
      ]
     },
     "metadata": {
      "needs_background": "light"
     },
     "output_type": "display_data"
    }
   ],
   "source": [
    "plt.hist(word_doc_freq, bins=20)\n",
    "plt.title('Распределение относительных частот слов')\n",
    "plt.yscale('log');"
   ]
  },
  {
   "cell_type": "code",
   "execution_count": 22,
   "id": "8adcfc64",
   "metadata": {},
   "outputs": [
    {
     "name": "stdout",
     "output_type": "stream",
     "text": [
      "Размерность матрицы признаков обучающей выборки (107, 3474)\n",
      "\n",
      "Количество ненулевых элементов в обучающей выборке 50276\n",
      "Процент заполненности матрицы признаков 13.53%\n",
      "\n"
     ]
    }
   ],
   "source": [
    "VECTORIZATION_MODE = 'tfidf'\n",
    "# построение матрицы признаков по методу мешка слов\n",
    "# функция vectorize_texts принимает на вход\n",
    "#1. токенизированные список списков\n",
    "#2. словарь\n",
    "#3. вектор частоты токенизированны\n",
    "#4. алгоритм взвешивания токенов по частоте mode - есть 4 алгорима - bin,tf,idf,tfidf\n",
    "#5. флаг чтобы перемаштабировать флаг после взвешивания\n",
    "\n",
    "train_vectors = vectorize_texts(train_tokenized, vocabulary, word_doc_freq, mode=VECTORIZATION_MODE)\n",
    "\n",
    "print('Размерность матрицы признаков обучающей выборки', train_vectors.shape)\n",
    "print()\n",
    "print('Количество ненулевых элементов в обучающей выборке', train_vectors.nnz)\n",
    "print('Процент заполненности матрицы признаков {:.2f}%'.format(train_vectors.nnz * 100 / (train_vectors.shape[0] * train_vectors.shape[1])))\n",
    "print()\n"
   ]
  },
  {
   "cell_type": "code",
   "execution_count": 23,
   "id": "37703aa0",
   "metadata": {},
   "outputs": [
    {
     "data": {
      "image/png": "[encoded data removed]",
      "text/plain": [
       "<Figure size 432x288 with 1 Axes>"
      ]
     },
     "metadata": {
      "needs_background": "light"
     },
     "output_type": "display_data"
    }
   ],
   "source": [
    "plt.hist(train_vectors.data, bins=20)\n",
    "plt.title('Распределение весов признаков')\n",
    "plt.yscale('log');"
   ]
  },
  {
   "cell_type": "code",
   "execution_count": 24,
   "id": "22c52193",
   "metadata": {},
   "outputs": [],
   "source": [
    "#word2vec"
   ]
  },
  {
   "cell_type": "code",
   "execution_count": 25,
   "id": "d0905a5b",
   "metadata": {},
   "outputs": [],
   "source": [
    "from gensim.models import Word2Vec"
   ]
  },
  {
   "cell_type": "code",
   "execution_count": 26,
   "id": "b142cc83",
   "metadata": {},
   "outputs": [
    {
     "data": {
      "text/plain": [
       "<107x3474 sparse matrix of type '<class 'numpy.float32'>'\n",
       "\twith 50276 stored elements in Compressed Sparse Row format>"
      ]
     },
     "execution_count": 26,
     "metadata": {},
     "output_type": "execute_result"
    }
   ],
   "source": [
    "train_vectors"
   ]
  },
  {
   "cell_type": "code",
   "execution_count": 27,
   "id": "bb7c622e",
   "metadata": {},
   "outputs": [
    {
     "name": "stdout",
     "output_type": "stream",
     "text": [
      "semeval-2016-2017-task3-subtaskBC\n",
      "semeval-2016-2017-task3-subtaskA-unannotated\n",
      "patent-2017\n",
      "quora-duplicate-questions\n",
      "wiki-english-20171001\n",
      "text8\n",
      "fake-news\n",
      "20-newsgroups\n",
      "__testing_matrix-synopsis\n",
      "__testing_multipart-matrix-synopsis\n",
      "fasttext-wiki-news-subwords-300\n",
      "conceptnet-numberbatch-17-06-300\n",
      "word2vec-ruscorpora-300\n",
      "word2vec-google-news-300\n",
      "glove-wiki-gigaword-50\n",
      "glove-wiki-gigaword-100\n",
      "glove-wiki-gigaword-200\n",
      "glove-wiki-gigaword-300\n",
      "glove-twitter-25\n",
      "glove-twitter-50\n",
      "glove-twitter-100\n",
      "glove-twitter-200\n",
      "__testing_word2vec-matrix-synopsis\n"
     ]
    }
   ],
   "source": [
    "import gensim.downloader as api\n",
    "for k, v in api.info().items():\n",
    "    for k1, v1 in v.items():\n",
    "        print(k1)"
   ]
  },
  {
   "cell_type": "code",
   "execution_count": 28,
   "id": "f75a3b09",
   "metadata": {},
   "outputs": [],
   "source": [
    "model_t1 = api.load('glove-twitter-200')"
   ]
  },
  {
   "cell_type": "code",
   "execution_count": 29,
   "id": "499b448c",
   "metadata": {},
   "outputs": [],
   "source": [
    "model_t = api.load('glove-twitter-100')"
   ]
  },
  {
   "cell_type": "code",
   "execution_count": 30,
   "id": "e0d602e8",
   "metadata": {},
   "outputs": [],
   "source": [
    "from gensim import utils\n",
    "\n",
    "def get_vectors_gt100(row):\n",
    "    '''\n",
    "      word_doc_freq # частоты слов\n",
    "      train_tokenized #сами слова\n",
    "    '''\n",
    "    vecs = [np.zeros(100)]\n",
    "    for word in row:\n",
    "        #print(row)\n",
    "        try: \n",
    "            # если слово есть в нашем очищенном словаре\n",
    "            # умножаем вектор на вес tfidf\n",
    "            v = model_t[word] * word_doc_freq[vocabulary[word]] \n",
    "        except:\n",
    "            v = np.zeros(100)\n",
    "        vecs.append(v)\n",
    "    return np.sum(np.array(vecs),axis=0)"
   ]
  },
  {
   "cell_type": "code",
   "execution_count": 31,
   "id": "681eaebb",
   "metadata": {},
   "outputs": [],
   "source": [
    "train_vectors_gt100 = np.array([get_vectors_gt100(i) for i in train_tokenized])\n",
    "val_vectors_gt100 = np.array([get_vectors_gt100(i) for i in val_tokenized])"
   ]
  },
  {
   "cell_type": "code",
   "execution_count": 32,
   "id": "cc476d77",
   "metadata": {},
   "outputs": [
    {
     "data": {
      "text/plain": [
       "(array([[  16.61768179,  -10.03980736,  -26.04915971, ...,  -25.36985162,\n",
       "           13.69807038,    3.70235642],\n",
       "        [  18.54875058,  -27.73824247,  -55.05477129, ...,  -56.81497441,\n",
       "           26.02600148,   15.18794308],\n",
       "        [ 144.84032069, -107.33370965, -240.1143398 , ..., -253.26316217,\n",
       "           43.94396368,   39.86093081],\n",
       "        ...,\n",
       "        [  28.39204341,  -16.26904998,  -50.13582587, ...,  -45.37164751,\n",
       "           15.33195962,    8.61298143],\n",
       "        [  35.37980141,  -27.51825461,  -62.45691667, ...,  -80.4435968 ,\n",
       "           32.62117019,   13.61225518],\n",
       "        [  21.56485745,  -14.61338575,  -43.40020939, ...,  -49.47137921,\n",
       "           21.41163269,   11.924793  ]]),\n",
       " (107, 100))"
      ]
     },
     "execution_count": 32,
     "metadata": {},
     "output_type": "execute_result"
    }
   ],
   "source": [
    "train_vectors_gt100, train_vectors_gt100.shape"
   ]
  },
  {
   "cell_type": "code",
   "execution_count": 33,
   "id": "f199ed80",
   "metadata": {},
   "outputs": [
    {
     "data": {
      "text/plain": [
       "[('российский', 0.5974039435386658)]"
      ]
     },
     "execution_count": 33,
     "metadata": {},
     "output_type": "execute_result"
    }
   ],
   "source": [
    "model_t1.most_similar(positive=['инвестор', 'рынок'], topn=1)"
   ]
  },
  {
   "cell_type": "code",
   "execution_count": 34,
   "id": "89f491d3",
   "metadata": {},
   "outputs": [
    {
     "data": {
      "text/plain": [
       "[('аналитик', 0.7176759243011475)]"
      ]
     },
     "execution_count": 34,
     "metadata": {},
     "output_type": "execute_result"
    }
   ],
   "source": [
    "model_t.most_similar(positive=['инвестор', 'рынок'], topn=1)"
   ]
  },
  {
   "cell_type": "code",
   "execution_count": 35,
   "id": "0a7de638",
   "metadata": {},
   "outputs": [],
   "source": [
    "y_train = train['pnl_sign']\n",
    "X_train = train_vectors_gt100\n",
    "\n",
    "y_val = val['pnl_sign']\n",
    "X_val = val_vectors_gt100"
   ]
  },
  {
   "cell_type": "code",
   "execution_count": 36,
   "id": "b2d15e31",
   "metadata": {},
   "outputs": [],
   "source": [
    "from sklearn.metrics import accuracy_score\n",
    "from sklearn.linear_model import LogisticRegression"
   ]
  },
  {
   "cell_type": "code",
   "execution_count": 37,
   "id": "34231d2a",
   "metadata": {},
   "outputs": [
    {
     "name": "stdout",
     "output_type": "stream",
     "text": [
      "0.6111111111111112\n",
      "данные: ['cbonds.csv', 'themovchans.csv', 'headlines_QUANTS.csv', 'War_Wealth_Wisdom.csv', 'mmi.csv', 'vts.csv', 'signal.csv', '.gitignore', 'zgmail.csv', 'rshb_invest.csv', 'Alfa_Wealth.csv']\n"
     ]
    }
   ],
   "source": [
    "model = LogisticRegression()\n",
    "model.fit(X_train, y_train)\n",
    "print(model.score(X_val, y_val))\n",
    "print('данные:', list(os.walk('data/'))[0][-1][:-2])"
   ]
  },
  {
   "cell_type": "code",
   "execution_count": 38,
   "id": "81a468f6",
   "metadata": {},
   "outputs": [
    {
     "name": "stdout",
     "output_type": "stream",
     "text": [
      "0.6111111111111112\n",
      "данные: ['cbonds.csv', 'themovchans.csv', 'headlines_QUANTS.csv', 'War_Wealth_Wisdom.csv', 'mmi.csv', 'vts.csv', 'signal.csv', '.gitignore', 'zgmail.csv', 'rshb_invest.csv', 'Alfa_Wealth.csv']\n"
     ]
    }
   ],
   "source": [
    "model = LogisticRegression()\n",
    "model.fit(X_train, y_train)\n",
    "print(model.score(X_val, y_val))\n",
    "print('данные:', list(os.walk('data/'))[0][-1][:-2])"
   ]
  },
  {
   "cell_type": "code",
   "execution_count": 39,
   "id": "b180b4ff",
   "metadata": {},
   "outputs": [],
   "source": [
    "from gensim import utils\n",
    "\n",
    "def get_vectors_gt100(row):\n",
    "    '''\n",
    "      word_doc_freq # частоты слов\n",
    "      train_tokenized #сами слова\n",
    "    '''\n",
    "    vecs = [np.zeros(100)]\n",
    "    for word in row:\n",
    "        #print(row)\n",
    "        try: \n",
    "            # если слово есть в нашем очищенном словаре\n",
    "            # умножаем вектор на вес tfidf\n",
    "            v = model_t[word] * word_doc_freq[vocabulary[word]] \n",
    "        except:\n",
    "            v = np.zeros(100)\n",
    "        vecs.append(v)\n",
    "    return np.sum(np.array(vecs),axis=0)"
   ]
  },
  {
   "cell_type": "code",
   "execution_count": 40,
   "id": "d4da54a5",
   "metadata": {},
   "outputs": [],
   "source": [
    "model_t = api.load('glove-twitter-100')"
   ]
  },
  {
   "cell_type": "code",
   "execution_count": 42,
   "id": "462cf8c6",
   "metadata": {
    "scrolled": true
   },
   "outputs": [
    {
     "name": "stderr",
     "output_type": "stream",
     "text": [
      "  9%|████                                        | 1/11 [00:02<00:26,  2.62s/it]"
     ]
    },
    {
     "name": "stdout",
     "output_type": "stream",
     "text": [
      "0.5555555555555556\n",
      "данные: ['cbonds.csv']\n",
      "всего наблюдений: 3618\n"
     ]
    },
    {
     "name": "stderr",
     "output_type": "stream",
     "text": [
      "\r",
      " 18%|████████                                    | 2/11 [00:04<00:21,  2.42s/it]"
     ]
    },
    {
     "name": "stdout",
     "output_type": "stream",
     "text": [
      "0.4126984126984127\n",
      "данные: ['cbonds.csv', 'themovchans.csv']\n",
      "всего наблюдений: 3726\n"
     ]
    },
    {
     "name": "stderr",
     "output_type": "stream",
     "text": [
      "\r",
      " 27%|████████████                                | 3/11 [00:07<00:19,  2.38s/it]"
     ]
    },
    {
     "name": "stdout",
     "output_type": "stream",
     "text": [
      "0.4603174603174603\n",
      "данные: ['cbonds.csv', 'themovchans.csv', 'headlines_QUANTS.csv']\n",
      "всего наблюдений: 3726\n"
     ]
    },
    {
     "name": "stderr",
     "output_type": "stream",
     "text": [
      "\r",
      " 36%|████████████████                            | 4/11 [00:09<00:16,  2.35s/it]"
     ]
    },
    {
     "name": "stdout",
     "output_type": "stream",
     "text": [
      "0.4444444444444444\n",
      "данные: ['cbonds.csv', 'themovchans.csv', 'headlines_QUANTS.csv', 'War_Wealth_Wisdom.csv']\n",
      "всего наблюдений: 3726\n"
     ]
    },
    {
     "name": "stderr",
     "output_type": "stream",
     "text": [
      "\r",
      " 45%|████████████████████                        | 5/11 [00:13<00:17,  2.98s/it]"
     ]
    },
    {
     "name": "stdout",
     "output_type": "stream",
     "text": [
      "0.38095238095238093\n",
      "данные: ['cbonds.csv', 'themovchans.csv', 'headlines_QUANTS.csv', 'War_Wealth_Wisdom.csv', 'mmi.csv']\n",
      "всего наблюдений: 7125\n"
     ]
    },
    {
     "name": "stderr",
     "output_type": "stream",
     "text": [
      "\r",
      " 55%|████████████████████████                    | 6/11 [00:17<00:16,  3.36s/it]"
     ]
    },
    {
     "name": "stdout",
     "output_type": "stream",
     "text": [
      "0.3968253968253968\n",
      "данные: ['cbonds.csv', 'themovchans.csv', 'headlines_QUANTS.csv', 'War_Wealth_Wisdom.csv', 'mmi.csv', 'vts.csv']\n",
      "всего наблюдений: 7125\n"
     ]
    },
    {
     "name": "stderr",
     "output_type": "stream",
     "text": [
      "\r",
      " 64%|████████████████████████████                | 7/11 [00:23<00:17,  4.29s/it]"
     ]
    },
    {
     "name": "stdout",
     "output_type": "stream",
     "text": [
      "0.47619047619047616\n",
      "данные: ['cbonds.csv', 'themovchans.csv', 'headlines_QUANTS.csv', 'War_Wealth_Wisdom.csv', 'mmi.csv', 'vts.csv', 'signal.csv']\n",
      "всего наблюдений: 20494\n"
     ]
    },
    {
     "name": "stderr",
     "output_type": "stream",
     "text": [
      "\r",
      " 73%|████████████████████████████████            | 8/11 [00:29<00:14,  4.74s/it]"
     ]
    },
    {
     "name": "stdout",
     "output_type": "stream",
     "text": [
      "0.4444444444444444\n",
      "данные: ['cbonds.csv', 'themovchans.csv', 'headlines_QUANTS.csv', 'War_Wealth_Wisdom.csv', 'mmi.csv', 'vts.csv', 'signal.csv', '.gitignore']\n",
      "всего наблюдений: 20494\n"
     ]
    },
    {
     "name": "stderr",
     "output_type": "stream",
     "text": [
      "\r",
      " 82%|████████████████████████████████████        | 9/11 [00:36<00:10,  5.30s/it]"
     ]
    },
    {
     "name": "stdout",
     "output_type": "stream",
     "text": [
      "0.49206349206349204\n",
      "данные: ['cbonds.csv', 'themovchans.csv', 'headlines_QUANTS.csv', 'War_Wealth_Wisdom.csv', 'mmi.csv', 'vts.csv', 'signal.csv', '.gitignore', 'zgmail.csv']\n",
      "всего наблюдений: 20494\n"
     ]
    },
    {
     "name": "stderr",
     "output_type": "stream",
     "text": [
      "\r",
      " 91%|███████████████████████████████████████    | 10/11 [00:42<00:05,  5.76s/it]"
     ]
    },
    {
     "name": "stdout",
     "output_type": "stream",
     "text": [
      "0.38095238095238093\n",
      "данные: ['cbonds.csv', 'themovchans.csv', 'headlines_QUANTS.csv', 'War_Wealth_Wisdom.csv', 'mmi.csv', 'vts.csv', 'signal.csv', '.gitignore', 'zgmail.csv', 'rshb_invest.csv']\n",
      "всего наблюдений: 22043\n"
     ]
    },
    {
     "name": "stderr",
     "output_type": "stream",
     "text": [
      "100%|███████████████████████████████████████████| 11/11 [00:49<00:00,  4.53s/it]"
     ]
    },
    {
     "name": "stdout",
     "output_type": "stream",
     "text": [
      "0.4444444444444444\n",
      "данные: ['cbonds.csv', 'themovchans.csv', 'headlines_QUANTS.csv', 'War_Wealth_Wisdom.csv', 'mmi.csv', 'vts.csv', 'signal.csv', '.gitignore', 'zgmail.csv', 'rshb_invest.csv', 'Alfa_Wealth.csv']\n",
      "всего наблюдений: 22218\n"
     ]
    },
    {
     "name": "stderr",
     "output_type": "stream",
     "text": [
      "\n"
     ]
    }
   ],
   "source": [
    "input_path = 'data/' # нужно указать путь до папки с данными по новостям\n",
    "\n",
    "for root, dirs, files in os.walk(input_path):\n",
    "    for q in tqdm(range(1, 12)):\n",
    "        df = pd.DataFrame([])\n",
    "        for file in files[:q]:\n",
    "            df1 = pd.read_csv(f'{input_path}/{file}')\n",
    "            df = pd.concat([df, df1], axis=0, ignore_index=True)\n",
    "\n",
    "        df = df.sort_values('date', ignore_index=True)\n",
    "        df['date'] = pd.to_datetime(df['date']).dt.strftime('%Y-%m-%d')\n",
    "\n",
    "        pnl = pd.read_csv('Backtest_USDRUB_5_days.txt')\n",
    "        pnl['date_start'] = pd.to_datetime(pnl['date_start']).dt.strftime('%Y-%m-%d')\n",
    "        pnl['pnl_sign'] = pnl['pnl'].apply(lambda x: 1 if x >= 0 else 0)\n",
    "        pnl['cumm_text'] = None\n",
    "\n",
    "        df_with_pnl = df[(df['date'] >= '2021-01-01') & (df['date'] <= '2021-12-31')]\n",
    "\n",
    "        i = 0\n",
    "        texts = ''\n",
    "        for _,row in df_with_pnl.iterrows():\n",
    "            if i >= pnl.shape[0]:\n",
    "                break\n",
    "\n",
    "            if row['date'] <= pnl['date_start'][i]:\n",
    "                texts += ' ' + row['text']\n",
    "            else:\n",
    "                pnl.at[i,'cumm_text'] = texts\n",
    "                texts = ''\n",
    "                i += 1\n",
    "                continue\n",
    "\n",
    "        train, val = train_test_split(pnl)\n",
    "        train_tokenized = tokenize_corpus(train['cumm_text'])\n",
    "        val_tokenized = tokenize_corpus(val['cumm_text'])\n",
    "\n",
    "        MAX_DF = 0.8 #во скольких документах встречаеться слово\n",
    "        MIN_COUNT = 5 # сколько раз слово встречаеться в тексте\n",
    "\n",
    "\n",
    "        vocabulary, word_doc_freq = build_vocabulary(train_tokenized, max_doc_freq=MAX_DF, min_count=MIN_COUNT)\n",
    "        UNIQUE_WORDS_N = len(vocabulary)    \n",
    "        VECTORIZATION_MODE = 'tfidf'\n",
    "        train_vectors = vectorize_texts(train_tokenized, vocabulary, word_doc_freq, mode=VECTORIZATION_MODE)\n",
    "\n",
    "        train_vectors_gt100 = np.array([get_vectors_gt100(i) for i in train_tokenized])\n",
    "        val_vectors_gt100 = np.array([get_vectors_gt100(i) for i in val_tokenized])\n",
    "\n",
    "        model_t.most_similar(positive=['инвестор', 'рынок'], topn=1)\n",
    "\n",
    "        y_train = train['pnl_sign']\n",
    "        X_train = train_vectors_gt100\n",
    "\n",
    "        y_val = val['pnl_sign']\n",
    "        X_val = val_vectors_gt100\n",
    "\n",
    "        model = LogisticRegression()\n",
    "        model.fit(X_train, y_train)\n",
    "        print(model.score(X_val, y_val))\n",
    "        print('данные:', files[:q])\n",
    "        print('всего наблюдений:', df_with_pnl.shape[0])\n"
   ]
  },
  {
   "cell_type": "code",
   "execution_count": 43,
   "id": "63e28619",
   "metadata": {
    "scrolled": true
   },
   "outputs": [
    {
     "name": "stderr",
     "output_type": "stream",
     "text": [
      "  9%|████                                        | 1/11 [00:01<00:19,  1.90s/it]"
     ]
    },
    {
     "name": "stdout",
     "output_type": "stream",
     "text": [
      "0.6388888888888888\n",
      "данные: ['cbonds.csv']\n",
      "всего наблюдений: 2154\n"
     ]
    },
    {
     "name": "stderr",
     "output_type": "stream",
     "text": [
      "\r",
      " 18%|████████                                    | 2/11 [00:03<00:15,  1.70s/it]"
     ]
    },
    {
     "name": "stdout",
     "output_type": "stream",
     "text": [
      "0.6111111111111112\n",
      "данные: ['cbonds.csv', 'themovchans.csv']\n",
      "всего наблюдений: 2317\n"
     ]
    },
    {
     "name": "stderr",
     "output_type": "stream",
     "text": [
      "\r",
      " 27%|████████████                                | 3/11 [00:05<00:13,  1.67s/it]"
     ]
    },
    {
     "name": "stdout",
     "output_type": "stream",
     "text": [
      "0.4722222222222222\n",
      "данные: ['cbonds.csv', 'themovchans.csv', 'headlines_QUANTS.csv']\n",
      "всего наблюдений: 2456\n"
     ]
    },
    {
     "name": "stderr",
     "output_type": "stream",
     "text": [
      "\r",
      " 36%|████████████████                            | 4/11 [00:06<00:12,  1.76s/it]"
     ]
    },
    {
     "name": "stdout",
     "output_type": "stream",
     "text": [
      "0.6111111111111112\n",
      "данные: ['cbonds.csv', 'themovchans.csv', 'headlines_QUANTS.csv', 'War_Wealth_Wisdom.csv']\n",
      "всего наблюдений: 2750\n"
     ]
    },
    {
     "name": "stderr",
     "output_type": "stream",
     "text": [
      "\r",
      " 45%|████████████████████                        | 5/11 [00:09<00:13,  2.20s/it]"
     ]
    },
    {
     "name": "stdout",
     "output_type": "stream",
     "text": [
      "0.5833333333333334\n",
      "данные: ['cbonds.csv', 'themovchans.csv', 'headlines_QUANTS.csv', 'War_Wealth_Wisdom.csv', 'mmi.csv']\n",
      "всего наблюдений: 4311\n"
     ]
    },
    {
     "name": "stderr",
     "output_type": "stream",
     "text": [
      "\r",
      " 55%|████████████████████████                    | 6/11 [00:13<00:12,  2.49s/it]"
     ]
    },
    {
     "name": "stdout",
     "output_type": "stream",
     "text": [
      "0.5833333333333334\n",
      "данные: ['cbonds.csv', 'themovchans.csv', 'headlines_QUANTS.csv', 'War_Wealth_Wisdom.csv', 'mmi.csv', 'vts.csv']\n",
      "всего наблюдений: 4476\n"
     ]
    },
    {
     "name": "stderr",
     "output_type": "stream",
     "text": [
      "\r",
      " 64%|████████████████████████████                | 7/11 [00:17<00:12,  3.09s/it]"
     ]
    },
    {
     "name": "stdout",
     "output_type": "stream",
     "text": [
      "0.6111111111111112\n",
      "данные: ['cbonds.csv', 'themovchans.csv', 'headlines_QUANTS.csv', 'War_Wealth_Wisdom.csv', 'mmi.csv', 'vts.csv', 'signal.csv']\n",
      "всего наблюдений: 13550\n"
     ]
    },
    {
     "name": "stderr",
     "output_type": "stream",
     "text": [
      "\r",
      " 73%|████████████████████████████████            | 8/11 [00:21<00:10,  3.47s/it]"
     ]
    },
    {
     "name": "stdout",
     "output_type": "stream",
     "text": [
      "0.6111111111111112\n",
      "данные: ['cbonds.csv', 'themovchans.csv', 'headlines_QUANTS.csv', 'War_Wealth_Wisdom.csv', 'mmi.csv', 'vts.csv', 'signal.csv', '.gitignore']\n",
      "всего наблюдений: 13550\n"
     ]
    },
    {
     "name": "stderr",
     "output_type": "stream",
     "text": [
      "\r",
      " 82%|████████████████████████████████████        | 9/11 [00:26<00:07,  3.78s/it]"
     ]
    },
    {
     "name": "stdout",
     "output_type": "stream",
     "text": [
      "0.6944444444444444\n",
      "данные: ['cbonds.csv', 'themovchans.csv', 'headlines_QUANTS.csv', 'War_Wealth_Wisdom.csv', 'mmi.csv', 'vts.csv', 'signal.csv', '.gitignore', 'zgmail.csv']\n",
      "всего наблюдений: 13550\n"
     ]
    },
    {
     "name": "stderr",
     "output_type": "stream",
     "text": [
      "\r",
      " 91%|███████████████████████████████████████    | 10/11 [00:31<00:04,  4.24s/it]"
     ]
    },
    {
     "name": "stdout",
     "output_type": "stream",
     "text": [
      "0.5\n",
      "данные: ['cbonds.csv', 'themovchans.csv', 'headlines_QUANTS.csv', 'War_Wealth_Wisdom.csv', 'mmi.csv', 'vts.csv', 'signal.csv', '.gitignore', 'zgmail.csv', 'rshb_invest.csv']\n",
      "всего наблюдений: 14924\n"
     ]
    },
    {
     "name": "stderr",
     "output_type": "stream",
     "text": [
      "100%|███████████████████████████████████████████| 11/11 [00:37<00:00,  3.37s/it]"
     ]
    },
    {
     "name": "stdout",
     "output_type": "stream",
     "text": [
      "0.6944444444444444\n",
      "данные: ['cbonds.csv', 'themovchans.csv', 'headlines_QUANTS.csv', 'War_Wealth_Wisdom.csv', 'mmi.csv', 'vts.csv', 'signal.csv', '.gitignore', 'zgmail.csv', 'rshb_invest.csv', 'Alfa_Wealth.csv']\n",
      "всего наблюдений: 15129\n"
     ]
    },
    {
     "name": "stderr",
     "output_type": "stream",
     "text": [
      "\n"
     ]
    }
   ],
   "source": [
    "input_path = 'data/'\n",
    "\n",
    "for root, dirs, files in os.walk(input_path):\n",
    "    for q in tqdm(range(1, 12)):\n",
    "        df = pd.DataFrame([])\n",
    "        for file in files[:q]:\n",
    "            df1 = pd.read_csv(f'{input_path}/{file}')\n",
    "            df = pd.concat([df, df1], axis=0, ignore_index=True)\n",
    "\n",
    "        df = df.sort_values('date', ignore_index=True)\n",
    "        df['date'] = pd.to_datetime(df['date']).dt.strftime('%Y-%m-%d')\n",
    "\n",
    "        pnl = pd.read_csv('Backtest_USDRUB_5_days_2022.txt')\n",
    "        pnl['date_start'] = pd.to_datetime(pnl['date_start']).dt.strftime('%Y-%m-%d')\n",
    "        pnl['pnl_sign'] = pnl['pnl'].apply(lambda x: 1 if x >= 0 else 0)\n",
    "        pnl['cumm_text'] = None\n",
    "\n",
    "        df_with_pnl = df[(df['date'] >= '2022-03-01') & (df['date'] <= '2022-12-31')]\n",
    "\n",
    "        i = 0\n",
    "        texts = ''\n",
    "        for _,row in df_with_pnl.iterrows():\n",
    "            if i >= pnl.shape[0]:\n",
    "                break\n",
    "\n",
    "            if row['date'] <= pnl['date_start'][i]:\n",
    "                texts += ' ' + row['text']\n",
    "            else:\n",
    "                pnl.at[i,'cumm_text'] = texts\n",
    "                texts = ''\n",
    "                i += 1\n",
    "                continue\n",
    "\n",
    "        train, val = train_test_split(pnl)\n",
    "        train_tokenized = tokenize_corpus(train['cumm_text'])\n",
    "        val_tokenized = tokenize_corpus(val['cumm_text'])\n",
    "\n",
    "        MAX_DF = 0.8 #во скольких документах встречаеться слово\n",
    "        MIN_COUNT = 5 # сколько раз слово встречаеться в тексте\n",
    "\n",
    "\n",
    "        vocabulary, word_doc_freq = build_vocabulary(train_tokenized, max_doc_freq=MAX_DF, min_count=MIN_COUNT)\n",
    "        UNIQUE_WORDS_N = len(vocabulary)    \n",
    "        VECTORIZATION_MODE = 'tfidf'\n",
    "        train_vectors = vectorize_texts(train_tokenized, vocabulary, word_doc_freq, mode=VECTORIZATION_MODE)\n",
    "\n",
    "        train_vectors_gt100 = np.array([get_vectors_gt100(i) for i in train_tokenized])\n",
    "        val_vectors_gt100 = np.array([get_vectors_gt100(i) for i in val_tokenized])\n",
    "\n",
    "        model_t.most_similar(positive=['инвестор', 'рынок'], topn=1)\n",
    "\n",
    "        y_train = train['pnl_sign']\n",
    "        X_train = train_vectors_gt100\n",
    "\n",
    "        y_val = val['pnl_sign']\n",
    "        X_val = val_vectors_gt100\n",
    "\n",
    "        model = LogisticRegression()\n",
    "        model.fit(X_train, y_train)\n",
    "        print(model.score(X_val, y_val))\n",
    "        print('данные:', files[:q])\n",
    "        print('всего наблюдений:', df_with_pnl.shape[0])\n"
   ]
  },
  {
   "cell_type": "code",
   "execution_count": 44,
   "id": "3faf8196",
   "metadata": {
    "scrolled": true
   },
   "outputs": [
    {
     "name": "stderr",
     "output_type": "stream",
     "text": [
      "  0%|                                                    | 0/11 [00:00<?, ?it/s]\n",
      "1907it [00:00, 43534.91it/s]\n",
      "  9%|████                                        | 1/11 [00:01<00:15,  1.50s/it]"
     ]
    },
    {
     "name": "stdout",
     "output_type": "stream",
     "text": [
      "0.5277777777777778\n",
      "данные: ['cbonds.csv']\n",
      "всего наблюдений: 2108\n"
     ]
    },
    {
     "name": "stderr",
     "output_type": "stream",
     "text": [
      "\n",
      "2005it [00:00, 46415.35it/s]\n",
      " 18%|████████                                    | 2/11 [00:02<00:13,  1.48s/it]"
     ]
    },
    {
     "name": "stdout",
     "output_type": "stream",
     "text": [
      "0.5\n",
      "данные: ['cbonds.csv', 'themovchans.csv']\n",
      "всего наблюдений: 2259\n"
     ]
    },
    {
     "name": "stderr",
     "output_type": "stream",
     "text": [
      "\n",
      "2122it [00:00, 48419.95it/s]\n",
      " 27%|████████████                                | 3/11 [00:04<00:11,  1.46s/it]"
     ]
    },
    {
     "name": "stdout",
     "output_type": "stream",
     "text": [
      "0.6666666666666666\n",
      "данные: ['cbonds.csv', 'themovchans.csv', 'headlines_QUANTS.csv']\n",
      "всего наблюдений: 2396\n"
     ]
    },
    {
     "name": "stderr",
     "output_type": "stream",
     "text": [
      "\n",
      "2385it [00:00, 47158.56it/s]\n",
      " 36%|████████████████                            | 4/11 [00:06<00:10,  1.53s/it]"
     ]
    },
    {
     "name": "stdout",
     "output_type": "stream",
     "text": [
      "0.7222222222222222\n",
      "данные: ['cbonds.csv', 'themovchans.csv', 'headlines_QUANTS.csv', 'War_Wealth_Wisdom.csv']\n",
      "всего наблюдений: 2685\n"
     ]
    },
    {
     "name": "stderr",
     "output_type": "stream",
     "text": [
      "\n",
      "3740it [00:00, 49358.73it/s]\n",
      " 45%|████████████████████                        | 5/11 [00:08<00:11,  1.94s/it]"
     ]
    },
    {
     "name": "stdout",
     "output_type": "stream",
     "text": [
      "0.4722222222222222\n",
      "данные: ['cbonds.csv', 'themovchans.csv', 'headlines_QUANTS.csv', 'War_Wealth_Wisdom.csv', 'mmi.csv']\n",
      "всего наблюдений: 4213\n"
     ]
    },
    {
     "name": "stderr",
     "output_type": "stream",
     "text": [
      "\n",
      "3894it [00:00, 51576.97it/s]\n",
      " 55%|████████████████████████                    | 6/11 [00:11<00:10,  2.15s/it]"
     ]
    },
    {
     "name": "stdout",
     "output_type": "stream",
     "text": [
      "0.6666666666666666\n",
      "данные: ['cbonds.csv', 'themovchans.csv', 'headlines_QUANTS.csv', 'War_Wealth_Wisdom.csv', 'mmi.csv', 'vts.csv']\n",
      "всего наблюдений: 4378\n"
     ]
    },
    {
     "name": "stderr",
     "output_type": "stream",
     "text": [
      "\n",
      "0it [00:00, ?it/s]\u001b[A\n",
      "5424it [00:00, 54232.94it/s]\u001b[A\n",
      "11777it [00:00, 54219.41it/s]\u001b[A\n",
      " 64%|████████████████████████████                | 7/11 [00:15<00:10,  2.72s/it]"
     ]
    },
    {
     "name": "stdout",
     "output_type": "stream",
     "text": [
      "0.6944444444444444\n",
      "данные: ['cbonds.csv', 'themovchans.csv', 'headlines_QUANTS.csv', 'War_Wealth_Wisdom.csv', 'mmi.csv', 'vts.csv', 'signal.csv']\n",
      "всего наблюдений: 13290\n"
     ]
    },
    {
     "name": "stderr",
     "output_type": "stream",
     "text": [
      "\n",
      "0it [00:00, ?it/s]\u001b[A\n",
      "5392it [00:00, 53917.74it/s]\u001b[A\n",
      "11777it [00:00, 54104.61it/s]\u001b[A\n",
      " 73%|████████████████████████████████            | 8/11 [00:19<00:09,  3.12s/it]"
     ]
    },
    {
     "name": "stdout",
     "output_type": "stream",
     "text": [
      "0.6111111111111112\n",
      "данные: ['cbonds.csv', 'themovchans.csv', 'headlines_QUANTS.csv', 'War_Wealth_Wisdom.csv', 'mmi.csv', 'vts.csv', 'signal.csv', '.gitignore']\n",
      "всего наблюдений: 13290\n"
     ]
    },
    {
     "name": "stderr",
     "output_type": "stream",
     "text": [
      "\n",
      "0it [00:00, ?it/s]\u001b[A\n",
      "5320it [00:00, 53195.23it/s]\u001b[A\n",
      "11777it [00:00, 52976.98it/s]\u001b[A\n",
      " 82%|████████████████████████████████████        | 9/11 [00:23<00:06,  3.44s/it]"
     ]
    },
    {
     "name": "stdout",
     "output_type": "stream",
     "text": [
      "0.5555555555555556\n",
      "данные: ['cbonds.csv', 'themovchans.csv', 'headlines_QUANTS.csv', 'War_Wealth_Wisdom.csv', 'mmi.csv', 'vts.csv', 'signal.csv', '.gitignore', 'zgmail.csv']\n",
      "всего наблюдений: 13290\n"
     ]
    },
    {
     "name": "stderr",
     "output_type": "stream",
     "text": [
      "\n",
      "0it [00:00, ?it/s]\u001b[A\n",
      "5107it [00:00, 51066.52it/s]\u001b[A\n",
      "12996it [00:00, 51308.79it/s]\u001b[A\n",
      " 91%|███████████████████████████████████████    | 10/11 [00:28<00:03,  3.97s/it]"
     ]
    },
    {
     "name": "stdout",
     "output_type": "stream",
     "text": [
      "0.6388888888888888\n",
      "данные: ['cbonds.csv', 'themovchans.csv', 'headlines_QUANTS.csv', 'War_Wealth_Wisdom.csv', 'mmi.csv', 'vts.csv', 'signal.csv', '.gitignore', 'zgmail.csv', 'rshb_invest.csv']\n",
      "всего наблюдений: 14643\n"
     ]
    },
    {
     "name": "stderr",
     "output_type": "stream",
     "text": [
      "\n",
      "0it [00:00, ?it/s]\u001b[A\n",
      "4817it [00:00, 48164.19it/s]\u001b[A\n",
      "13171it [00:00, 49609.39it/s][A\n",
      "100%|███████████████████████████████████████████| 11/11 [00:34<00:00,  3.11s/it]"
     ]
    },
    {
     "name": "stdout",
     "output_type": "stream",
     "text": [
      "0.6666666666666666\n",
      "данные: ['cbonds.csv', 'themovchans.csv', 'headlines_QUANTS.csv', 'War_Wealth_Wisdom.csv', 'mmi.csv', 'vts.csv', 'signal.csv', '.gitignore', 'zgmail.csv', 'rshb_invest.csv', 'Alfa_Wealth.csv']\n",
      "всего наблюдений: 14842\n"
     ]
    },
    {
     "name": "stderr",
     "output_type": "stream",
     "text": [
      "\n"
     ]
    }
   ],
   "source": [
    "input_path = 'data/'\n",
    "\n",
    "for root, dirs, files in os.walk(input_path):\n",
    "    for q in tqdm(range(1, 12)):\n",
    "        df = pd.DataFrame([])\n",
    "        for file in files[:q]:\n",
    "            df1 = pd.read_csv(f'{input_path}/{file}')\n",
    "            df = pd.concat([df, df1], axis=0, ignore_index=True)\n",
    "\n",
    "        df = df.sort_values('date', ignore_index=True)\n",
    "        df['date'] = pd.to_datetime(df['date']).dt.strftime('%Y-%m-%d')\n",
    "\n",
    "        pnl = pd.read_csv('Backtest_USDRUB_5_days_2022.txt')\n",
    "        pnl['date_start'] = pd.to_datetime(pnl['date_start']).dt.strftime('%Y-%m-%d')\n",
    "        pnl['pnl_sign'] = pnl['pnl'].apply(lambda x: 1 if x >= 0 else 0)\n",
    "        pnl['cumm_text'] = None\n",
    "\n",
    "        df_with_pnl = df[(df['date'] >= '2022-03-01') & (df['date'] <= '2022-10-31')]\n",
    "\n",
    "        i = 0\n",
    "        texts = ''\n",
    "        for _,row in tqdm(df_with_pnl.iterrows()):\n",
    "            if i >= pnl.shape[0]:\n",
    "                break\n",
    "\n",
    "            if row['date'] <= pnl['date_start'][i]:\n",
    "                texts += ' ' + row['text']\n",
    "            else:\n",
    "                pnl.at[i,'cumm_text'] = texts\n",
    "                texts = ''\n",
    "                i += 1\n",
    "                continue\n",
    "\n",
    "        train, val = train_test_split(pnl)\n",
    "        train_tokenized = tokenize_corpus(train['cumm_text'])\n",
    "        val_tokenized = tokenize_corpus(val['cumm_text'])\n",
    "\n",
    "        MAX_DF = 0.8 #во скольких документах встречаеться слово\n",
    "        MIN_COUNT = 5 # сколько раз слово встречаеться в тексте\n",
    "\n",
    "\n",
    "        vocabulary, word_doc_freq = build_vocabulary(train_tokenized, max_doc_freq=MAX_DF, min_count=MIN_COUNT)\n",
    "        UNIQUE_WORDS_N = len(vocabulary)    \n",
    "        VECTORIZATION_MODE = 'tfidf'\n",
    "        train_vectors = vectorize_texts(train_tokenized, vocabulary, word_doc_freq, mode=VECTORIZATION_MODE)\n",
    "\n",
    "        train_vectors_gt100 = np.array([get_vectors_gt100(i) for i in train_tokenized])\n",
    "        val_vectors_gt100 = np.array([get_vectors_gt100(i) for i in val_tokenized])\n",
    "\n",
    "        model_t.most_similar(positive=['инвестор', 'рынок'], topn=1)\n",
    "\n",
    "        y_train = train['pnl_sign']\n",
    "        X_train = train_vectors_gt100\n",
    "\n",
    "        y_val = val['pnl_sign']\n",
    "        X_val = val_vectors_gt100\n",
    "\n",
    "        model = LogisticRegression()\n",
    "        model.fit(X_train, y_train)\n",
    "        print(model.score(X_val, y_val))\n",
    "        print('данные:', files[:q])\n",
    "        print('всего наблюдений:', df_with_pnl.shape[0])\n"
   ]
  },
  {
   "cell_type": "code",
   "execution_count": null,
   "id": "14c922ef",
   "metadata": {},
   "outputs": [],
   "source": []
  }
 ],
 "metadata": {
  "kernelspec": {
   "display_name": "Python 3 (ipykernel)",
   "language": "python",
   "name": "python3"
  },
  "language_info": {
   "codemirror_mode": {
    "name": "ipython",
    "version": 3
   },
   "file_extension": ".py",
   "mimetype": "text/x-python",
   "name": "python",
   "nbconvert_exporter": "python",
   "pygments_lexer": "ipython3",
   "version": "3.10.4"
  }
 },
 "nbformat": 4,
 "nbformat_minor": 5
}
