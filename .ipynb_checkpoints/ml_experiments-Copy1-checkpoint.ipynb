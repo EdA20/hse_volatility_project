{
 "cells": [
  {
   "cell_type": "code",
   "execution_count": 91,
   "id": "4e7f8728",
   "metadata": {},
   "outputs": [],
   "source": [
    "X = df.drop(['id', 'date', 'pnl_sign'], axis=1)\n",
    "y = df['pnl_sign']"
   ]
  },
  {
   "cell_type": "code",
   "execution_count": 92,
   "id": "3f3545b7",
   "metadata": {},
   "outputs": [
    {
     "data": {
      "text/plain": [
       "0       УТРЕННИЙ ДАЙДЖЕСТ  🏛❗️Банк России принял решен...\n",
       "1       ⚡️Важное на рынках: 🏛Банк России до конца года...\n",
       "2       #РейтингиМир 📊 Рейтинговые действия в иностран...\n",
       "3       ⚡️ Важное на рынках: 🇷🇺Минфин России не будет ...\n",
       "4       #ДенежныйРынок 📆💰 События денежного рынка сего...\n",
       "                              ...                        \n",
       "3444    БАЛАНС ФРС: СНИЖЕНИЕ ПО ПЛАНУ, НО ЯСТРЕБИНЫЙ Т...\n",
       "3445    С НАЧАЛА МОБИЛИЗАЦИИ РОССИЯНЕ ВЫНЕСЛИ ИЗ БАНКО...\n",
       "3446    ЦЕНОВЫЕ ОЖИДАНИЯ ПРЕДПРИЯТИЙ ПОКАЗЫВАЮТ НЕБОЛЬ...\n",
       "3447    ЗА 2022 ФИНАНСОВЫЙ ГОД ДЕФИЦИТ БЮДЖЕТА В США С...\n",
       "3448    СПРОС СИЛЬНЕЕ ВСЕГО ПРОСЕЛ В СТРОЙКЕ И СЕЛЬСКО...\n",
       "Name: text, Length: 3449, dtype: object"
      ]
     },
     "execution_count": 92,
     "metadata": {},
     "output_type": "execute_result"
    }
   ],
   "source": [
    "X['text']"
   ]
  },
  {
   "cell_type": "code",
   "execution_count": 94,
   "id": "51c88026",
   "metadata": {},
   "outputs": [],
   "source": [
    "from sklearn.model_selection import train_test_split\n",
    "\n",
    "X_train, X_val, y_train, y_val = train_test_split(X, y, test_size=0.2, random_state=121)"
   ]
  },
  {
   "cell_type": "code",
   "execution_count": 97,
   "id": "84cde13f",
   "metadata": {},
   "outputs": [
    {
     "data": {
      "text/plain": [
       "(2759, 3)"
      ]
     },
     "execution_count": 97,
     "metadata": {},
     "output_type": "execute_result"
    }
   ],
   "source": [
    "X_train.shape"
   ]
  },
  {
   "cell_type": "code",
   "execution_count": 98,
   "id": "9e76422a",
   "metadata": {},
   "outputs": [
    {
     "data": {
      "application/vnd.jupyter.widget-view+json": {
       "model_id": "7b1e45f9079f4279b502858f9f056224",
       "version_major": 2,
       "version_minor": 0
      },
      "text/plain": [
       "  0%|          | 0/2759 [00:00<?, ?it/s]"
      ]
     },
     "metadata": {},
     "output_type": "display_data"
    },
    {
     "name": "stdout",
     "output_type": "stream",
     "text": [
      "train done\n"
     ]
    }
   ],
   "source": [
    "tqdm.pandas()\n",
    "X_train['embedding'] = X_train['lemmas'].progress_apply(lambda x: get_tweet_embedding(x, model=ft))\n",
    "print('train done')"
   ]
  },
  {
   "cell_type": "code",
   "execution_count": 99,
   "id": "d4b9cb6e",
   "metadata": {},
   "outputs": [
    {
     "data": {
      "application/vnd.jupyter.widget-view+json": {
       "model_id": "ae6950a5baab465fb03198d74f823123",
       "version_major": 2,
       "version_minor": 0
      },
      "text/plain": [
       "  0%|          | 0/690 [00:00<?, ?it/s]"
      ]
     },
     "metadata": {},
     "output_type": "display_data"
    }
   ],
   "source": [
    "tqdm.pandas()\n",
    "X_val['embedding'] = X_val['lemmas'].progress_apply(lambda x: get_tweet_embedding(x, model=ft))"
   ]
  },
  {
   "cell_type": "code",
   "execution_count": 100,
   "id": "7c58229b",
   "metadata": {},
   "outputs": [],
   "source": [
    "train_embedding = np.array(list(X_train['embedding'].values))\n",
    "val_embedding = np.array(list(X_val['embedding'].values))"
   ]
  },
  {
   "cell_type": "code",
   "execution_count": 101,
   "id": "3ca0cbbf",
   "metadata": {},
   "outputs": [
    {
     "data": {
      "text/plain": [
       "0.585357013410656"
      ]
     },
     "execution_count": 101,
     "metadata": {},
     "output_type": "execute_result"
    }
   ],
   "source": [
    "from sklearn.linear_model import LogisticRegression\n",
    "from sklearn.metrics import accuracy_score\n",
    "\n",
    "clf = LogisticRegression(random_state=12)\n",
    "clf.fit(train_embedding, y_train)\n",
    "clf.score(train_embedding, y_train)"
   ]
  },
  {
   "cell_type": "code",
   "execution_count": 102,
   "id": "dfae93e8",
   "metadata": {},
   "outputs": [
    {
     "name": "stdout",
     "output_type": "stream",
     "text": [
      "Score = 0.5666666666666667\n",
      "Balance = 0.5208333333333333\n"
     ]
    }
   ],
   "source": [
    "pred = clf.predict(val_embedding)\n",
    "score = accuracy_score(pred, y_val)\n",
    "print(f'Score = {score}')\n",
    "print(f'Balance = {balance}')"
   ]
  },
  {
   "cell_type": "code",
   "execution_count": 137,
   "id": "f1ae4906",
   "metadata": {},
   "outputs": [
    {
     "name": "stdout",
     "output_type": "stream",
     "text": [
      "Score = 0.5840579710144927\n",
      "Sample balance = 0.5208333333333333\n",
      "Val balance = 0.47246376811594204\n"
     ]
    }
   ],
   "source": [
    "from sklearn.ensemble import RandomForestClassifier\n",
    "\n",
    "rf = RandomForestClassifier(max_features=4, n_estimators=50)\n",
    "\n",
    "rf.fit(train_embedding, y_train)\n",
    "\n",
    "score = (y_val == rf.predict(val_embedding)).mean()\n",
    "print(f'Score = {score}')\n",
    "print(f'Sample balance = {balance}')\n",
    "print(f'Val balance = {y_val.sum() / y_val.shape[0]}')"
   ]
  },
  {
   "cell_type": "code",
   "execution_count": 104,
   "id": "53f27bf0",
   "metadata": {},
   "outputs": [
    {
     "data": {
      "application/vnd.jupyter.widget-view+json": {
       "model_id": "e21bba95efb94f7cbfd7177ba4e18088",
       "version_major": 2,
       "version_minor": 0
      },
      "text/plain": [
       "MetricVisualizer(layout=Layout(align_self='stretch', height='500px'))"
      ]
     },
     "metadata": {},
     "output_type": "display_data"
    },
    {
     "data": {
      "text/plain": [
       "<catboost.core.CatBoostClassifier at 0x4968614e0>"
      ]
     },
     "execution_count": 104,
     "metadata": {},
     "output_type": "execute_result"
    }
   ],
   "source": [
    "import catboost as cb\n",
    "\n",
    "np.random.seed(12)\n",
    "\n",
    "params = dict(\n",
    "    learning_rate=0.025,\n",
    "    iterations=10000,\n",
    "    reg_lambda=0.0005,\n",
    "    colsample_bylevel=1.,\n",
    "    max_bin=80,\n",
    "    bagging_temperature=2,\n",
    "    use_best_model=True,\n",
    "    verbose=False,\n",
    "    grow_policy='Depthwise',\n",
    "    random_seed=12\n",
    ")\n",
    "model = cb.CatBoostClassifier(\n",
    "    **params,\n",
    ")\n",
    "\n",
    "eval_set = cb.Pool(data=val_embedding, label=y_val)\n",
    "model.fit(train_embedding, y_train, eval_set=eval_set, plot=True)"
   ]
  },
  {
   "cell_type": "code",
   "execution_count": 105,
   "id": "9f69c134",
   "metadata": {},
   "outputs": [
    {
     "name": "stdout",
     "output_type": "stream",
     "text": [
      "Score = 0.5434782608695652\n",
      "Balance = 0.5208333333333333\n"
     ]
    }
   ],
   "source": [
    "pred = model.predict(val_embedding)\n",
    "score = accuracy_score(pred, y_val)\n",
    "print(f'Score = {score}')\n",
    "print(f'Balance = {balance}')"
   ]
  },
  {
   "cell_type": "code",
   "execution_count": 106,
   "id": "8de8b7c7",
   "metadata": {},
   "outputs": [
    {
     "data": {
      "application/vnd.jupyter.widget-view+json": {
       "model_id": "d46edfccd8164062bb9a49969221776f",
       "version_major": 2,
       "version_minor": 0
      },
      "text/plain": [
       "  0%|          | 0/3449 [00:00<?, ?it/s]"
      ]
     },
     "metadata": {},
     "output_type": "display_data"
    }
   ],
   "source": [
    "lemmas = list(tqdm(map(clean_text, df['text']), total=len(df)))\n",
    "\n",
    "df['lemmas'] = lemmas"
   ]
  },
  {
   "cell_type": "code",
   "execution_count": 107,
   "id": "344297db",
   "metadata": {},
   "outputs": [],
   "source": [
    "from sklearn.model_selection import train_test_split\n",
    "\n",
    "train, val = train_test_split(df, test_size=0.2, random_state=12)"
   ]
  },
  {
   "cell_type": "code",
   "execution_count": 108,
   "id": "0a423224",
   "metadata": {},
   "outputs": [],
   "source": [
    "with open('train_ft.txt', 'w') as f:\n",
    "    for label, lemmas in list(zip(\n",
    "        y_train, X_train['lemmas']\n",
    "    )):\n",
    "        f.write(f\"__label__{int(label)} {lemmas}\\n\")\n",
    "        #print(f\"__label__{int(label)} {lemmas}\")"
   ]
  },
  {
   "cell_type": "code",
   "execution_count": 109,
   "id": "25163fe7",
   "metadata": {},
   "outputs": [
    {
     "name": "stdout",
     "output_type": "stream",
     "text": [
      "__label__0 заседание fomc рынок ждать ускорение процесс нормализация сегодня объявить повышение ключевой ставка рынок прайсит допускать мизерный возможность вероятность хайк ставка конец хайк хайк значит ставка повышаться каждый заседание fomc также опубликовать обновить прогноз декабрьский версия прогноз https russianmacro ожидать инфляция уровень core процентный рост ждать повышение прогноз инфляция снижение прогноз пресс конференция пауэлла очень интересно послушать план сворачивание баланс полагать дать явный сигнал срок скорость процесс важно понять думать влияние российский кризис экономика мировой экономика пока консенсус экономический изоляция россия привести умеренный замедление мировой экономический рост кризис грозить отметить заложить рыночный котировка траектория повышение ставка означать протяжение весь оставаться область мягкий политика мировой финансовый рынок риск возрасти стать понятно переход область нейтральный далее жёсткий мочь произойти быстрый\r\n",
      "__label__0 банк англия третий повышение подряд также обозначить возможность дальнейший нормализация банк англия ожидаться повысить ключевой ставка уровень годовой скупка корпоративный бонд объём млрд завершить ранее количество сокращаться путём отказ реинвестирование погашать бумага активный продажа цель полный реализация баланс конец касаться скупка гособлигация также уменьшить млрд млрд реинвестирование закончить речь активный продажа пока идти\r\n",
      "__label__0 аналитика экспобанк инвестиция доступный раздел research сайт cbonds аналитический материал экспобанк инвестиция появиться раздел research сайт cbonds сайт публиковаться еженедельный дайджест рынок обзор отрасль подборка актуальный инвестиционный идея акция облигация валюта драгметалл актив раздел ознакомиться обзор продовольственный отрасль также разбор акция облигация компания сектор перспективный точка зрение инвестиция еженедельный обзор weekly expo публиковаться понедельник первый рабочий день неделя weekly состоять разбор ситуация мировой российский рынок валютный прогноз анонс основный событие неделя подборка актуальный инвестидея инвестиционный обзор дайджест команда экспобанка доступный раздел research сайт cbonds хотеть получать важный новость рыночный идея режим реальный время подписываться телеграм канал экспо инвестиция\r\n",
      "__label__0 важный рынок илья торос замминистра экономический развитие сообщить минэкономразвития подготовить проект постановление правительство который определяться порядок получение российский эмитент разрешение продолжение обращение свой ценный бумага предел государственный дума вторник принять второй чтение законопроект делистинг депозитарный расписка ценный бумага эмитент западный фондовый биржа последующий конвертация российский бумага российский эмитент вправе обратиться специальный правительственный комиссия представить заявление необходимый документ решить продолжить обращение свой ценный бумага предел курс евро вторник вечером вновь дешеветь доллар попытка скорректироваться день ожидание введение новый санкция сторона отношение россия естественный образ чреватый потеря европейский экономика принять обслуживание выпуск российский суверенный еврооблигация выплата который приходиться апрель дата приём обслуживание выпуск евробонд апрель минфин апрель должный выплатить купон погасить евробонд выпуск россия также выплатить купон евробондать россия\r\n",
      "__label__0 премаркетинг русгидро млрд книга открыть ориентир ставка купон выше годовой доходность выше годовой организатор выступить газпромбанк московский кредитный банк\r\n",
      "__label__0 суверенный рейтинговый действие последний неделюstandard poor россия рейтинг понизить уровень прогноз негативный беларусь рейтинг подтвердить уровень прогноз негативный коста рейтинг подтвердить уровень прогноз повысить стабильный испания рейтинг подтвердить уровень прогноз повысить стабильный перу рейтинг понизить уровень прогноз стабильный хорватия рейтинг подтвердить уровень прогноз стабильный fitch нигерия рейтинг подтвердить уровень прогноз стабильный армения рейтинг подтвердить уровень прогноз стабильный исландия рейтинг подтвердить уровень прогноз повысить стабильный бельгия рейтинг подтвердить уровень прогноз стабильный словакия рейтинг подтвердить уровень прогноз стабильный moody сенегал рейтинг подтвердить уровень прогноз повысить стабильный суверенный рейтинг ранее https russianmacro\r\n",
      "__label__1 александр рыбина ассоциация владелец облигация ситуация ликвидация компания калита компания калита подать заявление ликвидация юридический лицо ранее запрос представитель владелец бонд дальнейший план обслуживание долг эмитент ответить своевременный исполнение обязательство обслуживание выпуск облигация представляться возможный компания отсутствовать средство проведение общий собрание держатель облигация cbonds weekly news задаться вопрос делать владелец облигация ситуация свой мнение счёт поделиться член совет ассоциация владелец облигация александр рыбина смотреть cbonds weekly news курс важный событие финрынок\r\n",
      "__label__0 опрос bloomberg сокращение поставка российский сильный весь сказаться экономика страна восточный европа ситуация поставка российский становиться критический европейский страна экспорт сокращаться большой https russianmacro снижение пока мочь компенсировать поставка менее половина выпадать объём весь прочее поставка сократиться также норвегия влияние энергетический неравномерный наиболее мощный удар испытать экономика страна восточный европа венгрия словакия болгария снижение который составить крупный западный экономика наиболее чувствительный поставка оказаться италия потерять порядок наиболее устойчивый скандинавский государство\r\n",
      "__label__0 рейтингиснг присвоение изменение рейтинг прогноз страна апрель россия банк присвоить прогноз стабильныйприсвоенный рейтинг обусловить значимый роль банк реализация государство мера финансовый поддержка субъект адекватный позиция ликвидность удовлетворительный оценка корпоративный управление качество портфель гарантия также высокий вероятность получение поддержка сторона единственный акционер государство ограничение рейтинг оказывать низкий показатель капитализация прибыльность операционный эффективность маржинальность деятельность отрицательный динамика ресурсный база низкий качество кредитный портфель высокий показатель стоимость риск средний показатель диверсификация источник доход работать актив\r\n",
      "__label__1 также орес видеть снижение спрос сырьё близкий время прогноз спрос нефть понизить рост составить спрос понизиться прогноз спрос нефть понизить рост составить сокращение добыча opec возможный резкий скачка цена сырьё мочь усилить масштаб рецессия сокращение реальный поставка начинать ноябрь составить около орес итог сентябрь отставание план примерно действие орес обусловить сокращение спрос нефть последний решение орес вести слом повышательный тренд поставка следующий ожидаться серьёзный проблема накопление нефтяной резерв добыча россия сентябрь вырасти оценка ранее прогноз орес https russianmacro\r\n"
     ]
    }
   ],
   "source": [
    "!tail train_ft.txt"
   ]
  },
  {
   "cell_type": "code",
   "execution_count": 110,
   "id": "996c9c8d",
   "metadata": {},
   "outputs": [
    {
     "name": "stderr",
     "output_type": "stream",
     "text": [
      "\r",
      "Read 0M words\n",
      "Number of words:  10730\n",
      "Number of labels: 2\n",
      "\r",
      "Progress: 100.1% words/sec/thread: 1429714 lr: -0.000054 avg.loss:  0.694154 ETA:   0h 0m 0s\r",
      "Progress: 100.0% words/sec/thread: 1416950 lr:  0.000000 avg.loss:  0.694154 ETA:   0h 0m 0s\n"
     ]
    }
   ],
   "source": [
    "classifier = fasttext.train_supervised('train_ft.txt')"
   ]
  },
  {
   "cell_type": "code",
   "execution_count": 111,
   "id": "9371ecc6",
   "metadata": {},
   "outputs": [
    {
     "name": "stdout",
     "output_type": "stream",
     "text": [
      "Score = 0.527536231884058\n",
      "Balance = 0.5208333333333333\n"
     ]
    }
   ],
   "source": [
    "pred = classifier.predict(list(X_val['lemmas']))[0]\n",
    "pred = [int(label[0][-1]) for label in pred]\n",
    "\n",
    "score = accuracy_score(pred, y_val)\n",
    "print(f'Score = {score}')\n",
    "print(f'Balance = {balance}')"
   ]
  },
  {
   "cell_type": "code",
   "execution_count": 112,
   "id": "cd1fef11",
   "metadata": {},
   "outputs": [
    {
     "name": "stdout",
     "output_type": "stream",
     "text": [
      "CPU times: user 1.35 s, sys: 33.5 ms, total: 1.38 s\n",
      "Wall time: 461 ms\n"
     ]
    }
   ],
   "source": [
    "tokenized_tweets = [tweet.split() for tweet in train['lemmas'].values]\n",
    "\n",
    "%time w2v = word2vec.Word2Vec(tokenized_tweets, workers=4, vector_size=200, min_count=10, window=3, sample=1e-3)"
   ]
  },
  {
   "cell_type": "code",
   "execution_count": 113,
   "id": "cfed6754",
   "metadata": {},
   "outputs": [
    {
     "data": {
      "text/plain": [
       "[('динамика', 0.9859522581100464),\n",
       " ('темп', 0.9853044748306274),\n",
       " ('потребительский', 0.9738452434539795),\n",
       " ('падение', 0.9707055687904358),\n",
       " ('нефть', 0.9685521125793457),\n",
       " ('замедление', 0.9685326218605042),\n",
       " ('цена', 0.9662177562713623),\n",
       " ('наблюдаться', 0.9641718864440918),\n",
       " ('сокращение', 0.9612818956375122),\n",
       " ('резкий', 0.9579958319664001)]"
      ]
     },
     "execution_count": 113,
     "metadata": {},
     "output_type": "execute_result"
    }
   ],
   "source": [
    "w2v.wv.most_similar(positive=['рост'], topn=10)"
   ]
  },
  {
   "cell_type": "code",
   "execution_count": 114,
   "id": "0ee7fb0b",
   "metadata": {},
   "outputs": [],
   "source": [
    "def get_tweet_embedding(lemmas, model=w2v.wv, embedding_size=200):\n",
    "    \n",
    "    res = np.zeros(embedding_size)\n",
    "    cnt = 0\n",
    "    for word in lemmas.split():\n",
    "        if word in model:\n",
    "            res += np.array(model[word])\n",
    "            cnt += 1\n",
    "    if cnt:\n",
    "        res = res / cnt\n",
    "    return res"
   ]
  },
  {
   "cell_type": "code",
   "execution_count": 115,
   "id": "a1c181c4",
   "metadata": {},
   "outputs": [],
   "source": [
    "X_train['w2v_embedding'] = X_train['lemmas'].map(get_tweet_embedding)\n",
    "X_val['w2v_embedding'] = X_val['lemmas'].map(get_tweet_embedding)"
   ]
  },
  {
   "cell_type": "code",
   "execution_count": 116,
   "id": "f4694775",
   "metadata": {},
   "outputs": [],
   "source": [
    "train_w2v = list(X_train['w2v_embedding'].values)\n",
    "val_w2v = list(X_val['w2v_embedding'].values)"
   ]
  },
  {
   "cell_type": "code",
   "execution_count": 117,
   "id": "f10b33c9",
   "metadata": {},
   "outputs": [
    {
     "name": "stdout",
     "output_type": "stream",
     "text": [
      "Score = 0.5681159420289855\n",
      "Balance = 0.5208333333333333\n"
     ]
    }
   ],
   "source": [
    "clf = LogisticRegression(random_state=12, max_iter=500)\n",
    "clf.fit(train_w2v, y_train)\n",
    "\n",
    "pred = clf.predict(val_w2v)\n",
    "\n",
    "score = accuracy_score(pred, y_val)\n",
    "print(f'Score = {score}')\n",
    "print(f'Balance = {balance}')"
   ]
  },
  {
   "cell_type": "code",
   "execution_count": 118,
   "id": "24a48f8e",
   "metadata": {},
   "outputs": [
    {
     "name": "stdout",
     "output_type": "stream",
     "text": [
      "Score = 0.5652173913043478\n",
      "Balance = 0.5208333333333333\n"
     ]
    }
   ],
   "source": [
    "from sklearn.ensemble import RandomForestClassifier\n",
    "\n",
    "rf = RandomForestClassifier(max_features=4, n_estimators=50)\n",
    "\n",
    "rf.fit(train_w2v, y_train)\n",
    "\n",
    "score = (y_val == rf.predict(val_w2v)).mean()\n",
    "print(f'Score = {score}')\n",
    "print(f'Balance = {balance}')"
   ]
  },
  {
   "cell_type": "code",
   "execution_count": 119,
   "id": "069e738a",
   "metadata": {},
   "outputs": [
    {
     "data": {
      "application/vnd.jupyter.widget-view+json": {
       "model_id": "12c93ea730014354a66cce95f4b52bb7",
       "version_major": 2,
       "version_minor": 0
      },
      "text/plain": [
       "MetricVisualizer(layout=Layout(align_self='stretch', height='500px'))"
      ]
     },
     "metadata": {},
     "output_type": "display_data"
    },
    {
     "data": {
      "text/plain": [
       "<catboost.core.CatBoostClassifier at 0x43e3beb90>"
      ]
     },
     "execution_count": 119,
     "metadata": {},
     "output_type": "execute_result"
    }
   ],
   "source": [
    "import catboost as cb\n",
    "\n",
    "np.random.seed(12)\n",
    "\n",
    "params = dict(\n",
    "    learning_rate=0.025,\n",
    "    iterations=10000,\n",
    "    reg_lambda=0.0005,\n",
    "    colsample_bylevel=1.,\n",
    "    max_bin=80,\n",
    "    bagging_temperature=2,\n",
    "    use_best_model=True,\n",
    "    verbose=False,\n",
    "    grow_policy='Depthwise',\n",
    "    random_seed=12\n",
    ")\n",
    "model = cb.CatBoostClassifier(\n",
    "    **params,\n",
    ")\n",
    "\n",
    "eval_set = cb.Pool(data=val_w2v, label=y_val)\n",
    "model.fit(train_w2v, y_train, eval_set=eval_set, plot=True)"
   ]
  },
  {
   "cell_type": "code",
   "execution_count": 120,
   "id": "2145fc62",
   "metadata": {},
   "outputs": [
    {
     "name": "stdout",
     "output_type": "stream",
     "text": [
      "Score = 0.5753623188405798\n",
      "Balance = 0.5208333333333333\n"
     ]
    }
   ],
   "source": [
    "pred = model.predict(val_w2v)\n",
    "\n",
    "score = accuracy_score(pred, y_val)\n",
    "print(f'Score = {score}')\n",
    "print(f'Balance = {balance}')"
   ]
  },
  {
   "cell_type": "code",
   "execution_count": 121,
   "id": "2f5e4e68",
   "metadata": {},
   "outputs": [],
   "source": [
    "import warnings\n",
    "warnings.filterwarnings('ignore')\n",
    "\n",
    "from sklearn.datasets import fetch_20newsgroups\n",
    "from sklearn.metrics import accuracy_score\n",
    "\n",
    "import numpy as np\n",
    "\n",
    "import matplotlib.pyplot as plt\n",
    "%matplotlib inline\n",
    "\n",
    "import collections\n",
    "\n",
    "import torch\n",
    "from torch import nn\n",
    "from torch.nn import functional as F\n",
    "\n",
    "import sys\n",
    "import os\n",
    "from tqdm import tqdm  \n",
    "import pandas as pd\n",
    "from sklearn.model_selection import train_test_split\n",
    "from gensim import utils\n",
    "from sklearn.metrics import accuracy_score\n",
    "from sklearn.linear_model import LogisticRegression\n",
    "from gensim.models import Word2Vec\n",
    "import gensim.downloader as api\n",
    "\n",
    "# import dlnlputils\n",
    "# from dlnlputils.data import tokenize_text_simple_regex, tokenize_corpus, build_vocabulary, \\\n",
    "#     vectorize_texts, SparseFeaturesDataset\n",
    "# from dlnlputils.pipeline import train_eval_loop, predict_with_model, init_random_seed\n",
    "\n",
    "# init_random_seed()"
   ]
  },
  {
   "cell_type": "code",
   "execution_count": 122,
   "id": "86569712",
   "metadata": {},
   "outputs": [],
   "source": [
    "import collections\n",
    "import re\n",
    "\n",
    "import numpy as np\n",
    "\n",
    "TOKEN_RE = re.compile(r'[\\w\\d]+')\n",
    "\n",
    "\n",
    "def tokenize_text_simple_regex(txt, min_token_size=4):\n",
    "    txt = txt.lower()\n",
    "    all_tokens = TOKEN_RE.findall(txt)\n",
    "    return [token for token in all_tokens if len(token) >= min_token_size]\n",
    "\n",
    "\n",
    "def character_tokenize(txt):\n",
    "    return list(txt)\n",
    "\n",
    "\n",
    "def tokenize_corpus(texts, tokenizer=tokenize_text_simple_regex, **tokenizer_kwargs):\n",
    "    return [tokenizer(text, **tokenizer_kwargs) for text in texts]\n",
    "\n",
    "\n",
    "def add_fake_token(word2id, token=''):\n",
    "    word2id_new = {token: i + 1 for token, i in word2id.items()}\n",
    "    word2id_new[token] = 0\n",
    "    return word2id_new\n",
    "\n",
    "\n",
    "def texts_to_token_ids(tokenized_texts, word2id):\n",
    "    return [[word2id[token] for token in text if token in word2id]\n",
    "            for text in tokenized_texts]\n",
    "\n",
    "\n",
    "def build_vocabulary(tokenized_texts, max_size=1000000, max_doc_freq=0.8, min_count=5, pad_word=None):\n",
    "    word_counts = collections.defaultdict(int)\n",
    "    doc_n = 0\n",
    "\n",
    "    # посчитать количество документов, в которых употребляется каждое слово\n",
    "    # а также общее количество документов\n",
    "    for txt in tokenized_texts:\n",
    "        doc_n += 1\n",
    "        unique_text_tokens = set(txt)\n",
    "        for token in unique_text_tokens:\n",
    "            word_counts[token] += 1\n",
    "\n",
    "    # убрать слишком редкие и слишком частые слова\n",
    "    word_counts = {word: cnt for word, cnt in word_counts.items()\n",
    "                   if cnt >= min_count and cnt / doc_n <= max_doc_freq}\n",
    "\n",
    "    # отсортировать слова по убыванию частоты\n",
    "    sorted_word_counts = sorted(word_counts.items(),\n",
    "                                reverse=True,\n",
    "                                key=lambda pair: pair[1])\n",
    "\n",
    "    # добавим несуществующее слово с индексом 0 для удобства пакетной обработки\n",
    "    if pad_word is not None:\n",
    "        sorted_word_counts = [(pad_word, 0)] + sorted_word_counts\n",
    "\n",
    "    # если у нас по прежнему слишком много слов, оставить только max_size самых частотных\n",
    "    if len(word_counts) > max_size:\n",
    "        sorted_word_counts = sorted_word_counts[:max_size]\n",
    "\n",
    "    # нумеруем слова\n",
    "    word2id = {word: i for i, (word, _) in enumerate(sorted_word_counts)}\n",
    "\n",
    "    # нормируем частоты слов\n",
    "    word2freq = np.array([cnt / doc_n for _, cnt in sorted_word_counts], dtype='float32')\n",
    "\n",
    "    return word2id, word2freq\n",
    "\n",
    "\n",
    "PAD_TOKEN = '__PAD__'\n",
    "NUMERIC_TOKEN = '__NUMBER__'\n",
    "NUMERIC_RE = re.compile(r'^([0-9.,e+\\-]+|[mcxvi]+)$', re.I)\n",
    "\n",
    "\n",
    "def replace_number_nokens(tokenized_texts):\n",
    "    return [[token if not NUMERIC_RE.match(token) else NUMERIC_TOKEN for token in text]\n",
    "            for text in tokenized_texts]"
   ]
  },
  {
   "cell_type": "code",
   "execution_count": 123,
   "id": "d1e0c606",
   "metadata": {},
   "outputs": [],
   "source": [
    "import numpy as np\n",
    "import scipy.sparse\n",
    "import torch\n",
    "from torch.utils.data import Dataset\n",
    "\n",
    "\n",
    "def vectorize_texts(tokenized_texts, word2id, word2freq, mode='tfidf', scale=True):\n",
    "    assert mode in {'tfidf', 'idf', 'tf', 'bin'}\n",
    "\n",
    "    # считаем количество употреблений каждого слова в каждом документе\n",
    "    result = scipy.sparse.dok_matrix((len(tokenized_texts), len(word2id)), dtype='float32')\n",
    "    for text_i, text in enumerate(tokenized_texts):\n",
    "        for token in text:\n",
    "            if token in word2id:\n",
    "                result[text_i, word2id[token]] += 1\n",
    "\n",
    "    # получаем бинарные вектора \"встречается или нет\"\n",
    "    if mode == 'bin':\n",
    "        result = (result > 0).astype('float32')\n",
    "\n",
    "    # получаем вектора относительных частот слова в документе\n",
    "    elif mode == 'tf':\n",
    "        result = result.tocsr()\n",
    "        result = result.multiply(1 / result.sum(1))\n",
    "\n",
    "    # полностью убираем информацию о количестве употреблений слова в данном документе,\n",
    "    # но оставляем информацию о частотности слова в корпусе в целом\n",
    "    elif mode == 'idf':\n",
    "        result = (result > 0).astype('float32').multiply(1 / word2freq)\n",
    "\n",
    "    # учитываем всю информацию, которая у нас есть:\n",
    "    # частоту слова в документе и частоту слова в корпусе\n",
    "    elif mode == 'tfidf':\n",
    "        result = result.tocsr()\n",
    "        result = result.multiply(1 / result.sum(1))  # разделить каждую строку на её длину\n",
    "        result = result.multiply(1 / word2freq)  # разделить каждый столбец на вес слова\n",
    "\n",
    "    if scale:\n",
    "        result = result.tocsc()\n",
    "        result -= result.min()\n",
    "        result /= (result.max() + 1e-6)\n",
    "\n",
    "    return result.tocsr()\n",
    "\n",
    "\n",
    "class SparseFeaturesDataset(Dataset):\n",
    "    def __init__(self, features, targets):\n",
    "        self.features = features\n",
    "        self.targets = targets\n",
    "\n",
    "    def __len__(self):\n",
    "        return self.features.shape[0]\n",
    "\n",
    "    def __getitem__(self, idx):\n",
    "        cur_features = torch.from_numpy(self.features[idx].toarray()[0]).float()\n",
    "        cur_label = torch.from_numpy(np.asarray(self.targets[idx])).long()\n",
    "        return cur_features, cur_label"
   ]
  },
  {
   "cell_type": "code",
   "execution_count": 124,
   "id": "8a3793d1",
   "metadata": {},
   "outputs": [],
   "source": [
    "train_tokenized = tokenize_corpus(X_train['text'])\n",
    "val_tokenized = tokenize_corpus(X_val['text'])"
   ]
  },
  {
   "cell_type": "code",
   "execution_count": 125,
   "id": "395e4250",
   "metadata": {},
   "outputs": [
    {
     "name": "stdout",
     "output_type": "stream",
     "text": [
      "индекс широкого рынка прибавил более одного процента вновь возобновился спрос техи высокотехнологиxный nasdaq вырос также китай объявил снятии большинства ковидных ограничений ключевая тема сезон отчетностей накануне хорошо отчитался\n"
     ]
    }
   ],
   "source": [
    "print(' '.join(train_tokenized[0]))"
   ]
  },
  {
   "cell_type": "code",
   "execution_count": 126,
   "id": "79a12687",
   "metadata": {},
   "outputs": [
    {
     "name": "stdout",
     "output_type": "stream",
     "text": [
      "Количество уникальных токенов 6574\n",
      "[('года', 0), ('россии', 1), ('млрд', 2), ('также', 3), ('2022', 4), ('cbonds', 5), ('будет', 6), ('сегодня', 7), ('банк', 8), ('облигаций', 9)]\n"
     ]
    }
   ],
   "source": [
    "# строим словарь - vocabulary с помощью функции build_vocabulary\n",
    "# принимает на вход список списков токенезированные\n",
    "# word_doc_freq - содержит относительные частоты всех слов в датасете, он понадобиться \n",
    "# на этапе формирования матрицы признаков\n",
    "\n",
    "MAX_DF = 0.8 #во скольких документах встречаеться слово\n",
    "MIN_COUNT = 5 # сколько раз слово встречаеться в тексте\n",
    "\n",
    "\n",
    "vocabulary, word_doc_freq = build_vocabulary(train_tokenized, max_doc_freq=MAX_DF, min_count=MIN_COUNT)\n",
    "UNIQUE_WORDS_N = len(vocabulary)\n",
    "print('Количество уникальных токенов', UNIQUE_WORDS_N)\n",
    "print(list(vocabulary.items())[:10])"
   ]
  },
  {
   "cell_type": "code",
   "execution_count": 127,
   "id": "3ebd3e7b",
   "metadata": {},
   "outputs": [
    {
     "data": {
      "image/png": "[encoded data removed]",
      "text/plain": [
       "<Figure size 432x288 with 1 Axes>"
      ]
     },
     "metadata": {
      "needs_background": "light"
     },
     "output_type": "display_data"
    }
   ],
   "source": [
    "plt.hist(word_doc_freq, bins=20)\n",
    "plt.title('Распределение относительных частот слов')\n",
    "plt.yscale('log');"
   ]
  },
  {
   "cell_type": "code",
   "execution_count": 128,
   "id": "ed0faaff",
   "metadata": {},
   "outputs": [
    {
     "name": "stdout",
     "output_type": "stream",
     "text": [
      "Размерность матрицы признаков обучающей выборки (2759, 6574)\n",
      "\n",
      "Количество ненулевых элементов в обучающей выборке 153443\n",
      "Процент заполненности матрицы признаков 0.85%\n",
      "\n"
     ]
    }
   ],
   "source": [
    "VECTORIZATION_MODE = 'tfidf'\n",
    "# построение матрицы признаков по методу мешка слов\n",
    "# функция vectorize_texts принимает на вход\n",
    "#1. токенизированные список списков\n",
    "#2. словарь\n",
    "#3. вектор частоты токенизированны\n",
    "#4. алгоритм взвешивания токенов по частоте mode - есть 4 алгорима - bin,tf,idf,tfidf\n",
    "#5. флаг чтобы перемаштабировать флаг после взвешивания\n",
    "\n",
    "train_vectors = vectorize_texts(train_tokenized, vocabulary, word_doc_freq, mode=VECTORIZATION_MODE)\n",
    "\n",
    "print('Размерность матрицы признаков обучающей выборки', train_vectors.shape)\n",
    "print()\n",
    "print('Количество ненулевых элементов в обучающей выборке', train_vectors.nnz)\n",
    "print('Процент заполненности матрицы признаков {:.2f}%'.format(train_vectors.nnz * 100 / (train_vectors.shape[0] * train_vectors.shape[1])))\n",
    "print()"
   ]
  },
  {
   "cell_type": "code",
   "execution_count": 129,
   "id": "686d2508",
   "metadata": {},
   "outputs": [],
   "source": [
    "model_t = api.load('glove-twitter-100')"
   ]
  },
  {
   "cell_type": "code",
   "execution_count": 130,
   "id": "7aa419ad",
   "metadata": {},
   "outputs": [],
   "source": [
    "from gensim import utils\n",
    "\n",
    "def get_vectors_gt100(row):\n",
    "    '''\n",
    "      word_doc_freq # частоты слов\n",
    "      train_tokenized #сами слова\n",
    "    '''\n",
    "    vecs = [np.zeros(100)]\n",
    "    for word in row:\n",
    "        #print(row)\n",
    "        try: \n",
    "            # если слово есть в нашем очищенном словаре\n",
    "            # умножаем вектор на вес tfidf\n",
    "            v = model_t[word] * word_doc_freq[vocabulary[word]] \n",
    "        except:\n",
    "            v = np.zeros(100)\n",
    "        vecs.append(v)\n",
    "    return np.sum(np.array(vecs),axis=0)"
   ]
  },
  {
   "cell_type": "code",
   "execution_count": 131,
   "id": "1d2e5892",
   "metadata": {},
   "outputs": [],
   "source": [
    "train_gt100 = np.array([get_vectors_gt100(i) for i in train_tokenized])\n",
    "val_gt100 = np.array([get_vectors_gt100(i) for i in val_tokenized])"
   ]
  },
  {
   "cell_type": "code",
   "execution_count": 132,
   "id": "2730d1fe",
   "metadata": {},
   "outputs": [
    {
     "data": {
      "text/plain": [
       "[('аналитик', 0.7176759243011475)]"
      ]
     },
     "execution_count": 132,
     "metadata": {},
     "output_type": "execute_result"
    }
   ],
   "source": [
    "model_t.most_similar(positive=['инвестор', 'рынок'], topn=1)"
   ]
  },
  {
   "cell_type": "code",
   "execution_count": 139,
   "id": "ddd22560",
   "metadata": {},
   "outputs": [
    {
     "name": "stdout",
     "output_type": "stream",
     "text": [
      "<class 'sklearn.linear_model._logistic.LogisticRegression'>\n",
      "Score = 0.5840579710144927\n",
      "Balance = 0.5208333333333333\n",
      "Val balance = 0.47246376811594204\n"
     ]
    }
   ],
   "source": [
    "clf = LogisticRegression(random_state=12, max_iter=500)\n",
    "clf.fit(train_gt100, y_train)\n",
    "\n",
    "print(clf.__class__)\n",
    "\n",
    "pred = clf.predict(val_gt100)\n",
    "\n",
    "score = accuracy_score(pred, y_val)\n",
    "print(f'Score = {score}')\n",
    "print(f'Balance = {balance}')\n",
    "print(f'Val balance = {y_val.sum() / y_val.shape[0]}')"
   ]
  },
  {
   "cell_type": "code",
   "execution_count": 134,
   "id": "59b3034a",
   "metadata": {},
   "outputs": [
    {
     "name": "stdout",
     "output_type": "stream",
     "text": [
      "Score = 0.5405797101449276\n",
      "Balance = 0.5208333333333333\n"
     ]
    }
   ],
   "source": [
    "from sklearn.ensemble import RandomForestClassifier\n",
    "\n",
    "rf = RandomForestClassifier(max_features=4, n_estimators=50)\n",
    "\n",
    "rf.fit(train_gt100, y_train)\n",
    "\n",
    "score = (y_val == rf.predict(val_gt100)).mean()\n",
    "print(f'Score = {score}')\n",
    "print(f'Balance = {balance}')"
   ]
  },
  {
   "cell_type": "code",
   "execution_count": 135,
   "id": "d2c095ce",
   "metadata": {},
   "outputs": [
    {
     "data": {
      "application/vnd.jupyter.widget-view+json": {
       "model_id": "b616bc273cf341f79961cfb2f04b8df4",
       "version_major": 2,
       "version_minor": 0
      },
      "text/plain": [
       "MetricVisualizer(layout=Layout(align_self='stretch', height='500px'))"
      ]
     },
     "metadata": {},
     "output_type": "display_data"
    },
    {
     "data": {
      "text/plain": [
       "<catboost.core.CatBoostClassifier at 0x46100cf40>"
      ]
     },
     "execution_count": 135,
     "metadata": {},
     "output_type": "execute_result"
    }
   ],
   "source": [
    "import catboost as cb\n",
    "\n",
    "np.random.seed(12)\n",
    "\n",
    "params = dict(\n",
    "    learning_rate=0.025,\n",
    "    iterations=10000,\n",
    "    reg_lambda=0.0005,\n",
    "    colsample_bylevel=1.,\n",
    "    max_bin=80,\n",
    "    bagging_temperature=2,\n",
    "    use_best_model=True,\n",
    "    verbose=False,\n",
    "    grow_policy='Depthwise',\n",
    "    random_seed=12\n",
    ")\n",
    "model = cb.CatBoostClassifier(\n",
    "    **params,\n",
    ")\n",
    "\n",
    "eval_set = cb.Pool(data=val_gt100, label=y_val)\n",
    "model.fit(train_gt100, y_train, eval_set=eval_set, plot=True)"
   ]
  },
  {
   "cell_type": "code",
   "execution_count": 136,
   "id": "81132739",
   "metadata": {},
   "outputs": [
    {
     "name": "stdout",
     "output_type": "stream",
     "text": [
      "Score = 0.5405797101449276\n",
      "Balance = 0.5208333333333333\n"
     ]
    }
   ],
   "source": [
    "pred = model.predict(val_gt100)\n",
    "\n",
    "score = accuracy_score(pred, y_val)\n",
    "print(f'Score = {score}')\n",
    "print(f'Balance = {balance}')"
   ]
  }
 ],
 "metadata": {
  "kernelspec": {
   "display_name": "Python 3 (ipykernel)",
   "language": "python",
   "name": "python3"
  },
  "language_info": {
   "codemirror_mode": {
    "name": "ipython",
    "version": 3
   },
   "file_extension": ".py",
   "mimetype": "text/x-python",
   "name": "python",
   "nbconvert_exporter": "python",
   "pygments_lexer": "ipython3",
   "version": "3.10.4"
  }
 },
 "nbformat": 4,
 "nbformat_minor": 5
}
