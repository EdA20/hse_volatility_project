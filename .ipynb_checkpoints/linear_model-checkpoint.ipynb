{
 "cells": [
  {
   "cell_type": "code",
   "execution_count": 1,
   "id": "4743ed93",
   "metadata": {},
   "outputs": [
    {
     "name": "stdout",
     "output_type": "stream",
     "text": [
      "Python 3.6.4\r\n"
     ]
    }
   ],
   "source": [
    "!pyenv global 3.6\n",
    "!eval \"$(pyenv init --path)\"\n",
    "!python3 --version"
   ]
  },
  {
   "cell_type": "code",
   "execution_count": 2,
   "id": "caa47315",
   "metadata": {},
   "outputs": [],
   "source": [
    "PYENV_VERSION=3.6\n",
    "!python3 -m venv venv36"
   ]
  },
  {
   "cell_type": "code",
   "execution_count": 3,
   "id": "5789923f",
   "metadata": {},
   "outputs": [
    {
     "name": "stdout",
     "output_type": "stream",
     "text": [
      "Python 3.6.4\r\n"
     ]
    }
   ],
   "source": [
    "!python3 --version"
   ]
  },
  {
   "cell_type": "code",
   "execution_count": 4,
   "id": "29895fe8",
   "metadata": {},
   "outputs": [
    {
     "name": "stdout",
     "output_type": "stream",
     "text": [
      "fatal: destination path 'stepik-dl-nlp' already exists and is not an empty directory.\r\n"
     ]
    }
   ],
   "source": [
    "!git clone https://github.com/Samsung-IT-Academy/stepik-dl-nlp.git && pip install -r stepik-dl-nlp/requirements.txt\n",
    "import sys; sys.path.append('./stepik-dl-nlp')\n",
    "\n",
    "import warnings\n",
    "warnings.filterwarnings('ignore')\n",
    "\n",
    "from sklearn.datasets import fetch_20newsgroups\n",
    "from sklearn.metrics import accuracy_score\n",
    "\n",
    "import numpy as np\n",
    "\n",
    "import matplotlib.pyplot as plt\n",
    "%matplotlib inline\n",
    "\n",
    "import collections\n",
    "\n",
    "import torch\n",
    "from torch import nn\n",
    "from torch.nn import functional as F\n",
    "\n",
    "import dlnlputils\n",
    "from dlnlputils.data import tokenize_text_simple_regex, tokenize_corpus, build_vocabulary, \\\n",
    "    vectorize_texts, SparseFeaturesDataset\n",
    "from dlnlputils.pipeline import train_eval_loop, predict_with_model, init_random_seed\n",
    "\n",
    "init_random_seed()"
   ]
  },
  {
   "cell_type": "code",
   "execution_count": 5,
   "id": "90fd0838",
   "metadata": {},
   "outputs": [
    {
     "name": "stdout",
     "output_type": "stream",
     "text": [
      "Requirement already satisfied: spacy_udpipe in /Library/Frameworks/Python.framework/Versions/3.10/lib/python3.10/site-packages (1.0.0)\n",
      "Requirement already satisfied: spacy<4.0.0,>=3.0.0 in /Library/Frameworks/Python.framework/Versions/3.10/lib/python3.10/site-packages (from spacy_udpipe) (3.4.4)\n",
      "Requirement already satisfied: ufal.udpipe>=1.2.0 in /Library/Frameworks/Python.framework/Versions/3.10/lib/python3.10/site-packages (from spacy_udpipe) (1.2.0.3)\n",
      "Requirement already satisfied: catalogue<2.1.0,>=2.0.6 in /Library/Frameworks/Python.framework/Versions/3.10/lib/python3.10/site-packages (from spacy<4.0.0,>=3.0.0->spacy_udpipe) (2.0.8)\n",
      "Requirement already satisfied: requests<3.0.0,>=2.13.0 in /Library/Frameworks/Python.framework/Versions/3.10/lib/python3.10/site-packages (from spacy<4.0.0,>=3.0.0->spacy_udpipe) (2.27.1)\n",
      "Requirement already satisfied: murmurhash<1.1.0,>=0.28.0 in /Library/Frameworks/Python.framework/Versions/3.10/lib/python3.10/site-packages (from spacy<4.0.0,>=3.0.0->spacy_udpipe) (1.0.9)\n",
      "Requirement already satisfied: preshed<3.1.0,>=3.0.2 in /Library/Frameworks/Python.framework/Versions/3.10/lib/python3.10/site-packages (from spacy<4.0.0,>=3.0.0->spacy_udpipe) (3.0.8)\n",
      "Requirement already satisfied: pydantic!=1.8,!=1.8.1,<1.11.0,>=1.7.4 in /Library/Frameworks/Python.framework/Versions/3.10/lib/python3.10/site-packages (from spacy<4.0.0,>=3.0.0->spacy_udpipe) (1.10.2)\n",
      "Requirement already satisfied: packaging>=20.0 in /Library/Frameworks/Python.framework/Versions/3.10/lib/python3.10/site-packages (from spacy<4.0.0,>=3.0.0->spacy_udpipe) (21.3)\n",
      "Requirement already satisfied: cymem<2.1.0,>=2.0.2 in /Library/Frameworks/Python.framework/Versions/3.10/lib/python3.10/site-packages (from spacy<4.0.0,>=3.0.0->spacy_udpipe) (2.0.7)\n",
      "Requirement already satisfied: spacy-legacy<3.1.0,>=3.0.10 in /Library/Frameworks/Python.framework/Versions/3.10/lib/python3.10/site-packages (from spacy<4.0.0,>=3.0.0->spacy_udpipe) (3.0.10)\n",
      "Requirement already satisfied: tqdm<5.0.0,>=4.38.0 in /Library/Frameworks/Python.framework/Versions/3.10/lib/python3.10/site-packages (from spacy<4.0.0,>=3.0.0->spacy_udpipe) (4.63.0)\n",
      "Requirement already satisfied: langcodes<4.0.0,>=3.2.0 in /Library/Frameworks/Python.framework/Versions/3.10/lib/python3.10/site-packages (from spacy<4.0.0,>=3.0.0->spacy_udpipe) (3.3.0)\n",
      "Requirement already satisfied: smart-open<7.0.0,>=5.2.1 in /Library/Frameworks/Python.framework/Versions/3.10/lib/python3.10/site-packages (from spacy<4.0.0,>=3.0.0->spacy_udpipe) (6.2.0)\n",
      "Requirement already satisfied: pathy>=0.3.5 in /Library/Frameworks/Python.framework/Versions/3.10/lib/python3.10/site-packages (from spacy<4.0.0,>=3.0.0->spacy_udpipe) (0.10.1)\n",
      "Requirement already satisfied: wasabi<1.1.0,>=0.9.1 in /Library/Frameworks/Python.framework/Versions/3.10/lib/python3.10/site-packages (from spacy<4.0.0,>=3.0.0->spacy_udpipe) (0.10.1)\n",
      "Requirement already satisfied: setuptools in /Library/Frameworks/Python.framework/Versions/3.10/lib/python3.10/site-packages (from spacy<4.0.0,>=3.0.0->spacy_udpipe) (58.1.0)\n",
      "Requirement already satisfied: spacy-loggers<2.0.0,>=1.0.0 in /Library/Frameworks/Python.framework/Versions/3.10/lib/python3.10/site-packages (from spacy<4.0.0,>=3.0.0->spacy_udpipe) (1.0.4)\n",
      "Requirement already satisfied: typer<0.8.0,>=0.3.0 in /Library/Frameworks/Python.framework/Versions/3.10/lib/python3.10/site-packages (from spacy<4.0.0,>=3.0.0->spacy_udpipe) (0.7.0)\n",
      "Requirement already satisfied: jinja2 in /Library/Frameworks/Python.framework/Versions/3.10/lib/python3.10/site-packages (from spacy<4.0.0,>=3.0.0->spacy_udpipe) (3.1.1)\n",
      "Requirement already satisfied: numpy>=1.15.0 in /Library/Frameworks/Python.framework/Versions/3.10/lib/python3.10/site-packages (from spacy<4.0.0,>=3.0.0->spacy_udpipe) (1.23.4)\n",
      "Requirement already satisfied: thinc<8.2.0,>=8.1.0 in /Library/Frameworks/Python.framework/Versions/3.10/lib/python3.10/site-packages (from spacy<4.0.0,>=3.0.0->spacy_udpipe) (8.1.6)\n",
      "Requirement already satisfied: srsly<3.0.0,>=2.4.3 in /Library/Frameworks/Python.framework/Versions/3.10/lib/python3.10/site-packages (from spacy<4.0.0,>=3.0.0->spacy_udpipe) (2.4.5)\n",
      "Requirement already satisfied: pyparsing!=3.0.5,>=2.0.2 in /Library/Frameworks/Python.framework/Versions/3.10/lib/python3.10/site-packages (from packaging>=20.0->spacy<4.0.0,>=3.0.0->spacy_udpipe) (3.0.7)\n",
      "Requirement already satisfied: typing-extensions>=4.1.0 in /Library/Frameworks/Python.framework/Versions/3.10/lib/python3.10/site-packages (from pydantic!=1.8,!=1.8.1,<1.11.0,>=1.7.4->spacy<4.0.0,>=3.0.0->spacy_udpipe) (4.4.0)\n",
      "Requirement already satisfied: idna<4,>=2.5 in /Library/Frameworks/Python.framework/Versions/3.10/lib/python3.10/site-packages (from requests<3.0.0,>=2.13.0->spacy<4.0.0,>=3.0.0->spacy_udpipe) (3.3)\n",
      "Requirement already satisfied: urllib3<1.27,>=1.21.1 in /Library/Frameworks/Python.framework/Versions/3.10/lib/python3.10/site-packages (from requests<3.0.0,>=2.13.0->spacy<4.0.0,>=3.0.0->spacy_udpipe) (1.26.9)\n",
      "Requirement already satisfied: certifi>=2017.4.17 in /Library/Frameworks/Python.framework/Versions/3.10/lib/python3.10/site-packages (from requests<3.0.0,>=2.13.0->spacy<4.0.0,>=3.0.0->spacy_udpipe) (2022.12.7)\n",
      "Requirement already satisfied: charset-normalizer~=2.0.0 in /Library/Frameworks/Python.framework/Versions/3.10/lib/python3.10/site-packages (from requests<3.0.0,>=2.13.0->spacy<4.0.0,>=3.0.0->spacy_udpipe) (2.0.12)\n",
      "Requirement already satisfied: confection<1.0.0,>=0.0.1 in /Library/Frameworks/Python.framework/Versions/3.10/lib/python3.10/site-packages (from thinc<8.2.0,>=8.1.0->spacy<4.0.0,>=3.0.0->spacy_udpipe) (0.0.3)\n",
      "Requirement already satisfied: blis<0.8.0,>=0.7.8 in /Library/Frameworks/Python.framework/Versions/3.10/lib/python3.10/site-packages (from thinc<8.2.0,>=8.1.0->spacy<4.0.0,>=3.0.0->spacy_udpipe) (0.7.9)\n",
      "Requirement already satisfied: click<9.0.0,>=7.1.1 in /Library/Frameworks/Python.framework/Versions/3.10/lib/python3.10/site-packages (from typer<0.8.0,>=0.3.0->spacy<4.0.0,>=3.0.0->spacy_udpipe) (8.1.3)\n",
      "Requirement already satisfied: MarkupSafe>=2.0 in /Library/Frameworks/Python.framework/Versions/3.10/lib/python3.10/site-packages (from jinja2->spacy<4.0.0,>=3.0.0->spacy_udpipe) (2.1.1)\n"
     ]
    }
   ],
   "source": [
    "!pip install spacy_udpipe"
   ]
  },
  {
   "cell_type": "code",
   "execution_count": 6,
   "id": "129bab82",
   "metadata": {},
   "outputs": [],
   "source": [
    "import numpy as np\n",
    "import scipy.sparse\n",
    "import torch\n",
    "from torch.utils.data import Dataset"
   ]
  },
  {
   "cell_type": "code",
   "execution_count": 7,
   "id": "318333aa",
   "metadata": {},
   "outputs": [],
   "source": [
    "#подготовка признаков"
   ]
  },
  {
   "cell_type": "code",
   "execution_count": 8,
   "id": "023efcc5",
   "metadata": {},
   "outputs": [],
   "source": [
    "import collections\n",
    "import re\n",
    "\n",
    "import numpy as np\n",
    "\n",
    "TOKEN_RE = re.compile(r'[\\w\\d]+')\n",
    "\n",
    "\n",
    "def tokenize_text_simple_regex(txt, min_token_size=4):\n",
    "    txt = txt.lower()\n",
    "    all_tokens = TOKEN_RE.findall(txt)\n",
    "    return [token for token in all_tokens if len(token) >= min_token_size]\n",
    "\n",
    "\n",
    "def character_tokenize(txt):\n",
    "    return list(txt)\n",
    "\n",
    "\n",
    "def tokenize_corpus(texts, tokenizer=tokenize_text_simple_regex, **tokenizer_kwargs):\n",
    "    return [tokenizer(text, **tokenizer_kwargs) for text in texts]\n",
    "\n",
    "\n",
    "def add_fake_token(word2id, token=''):\n",
    "    word2id_new = {token: i + 1 for token, i in word2id.items()}\n",
    "    word2id_new[token] = 0\n",
    "    return word2id_new\n",
    "\n",
    "\n",
    "def texts_to_token_ids(tokenized_texts, word2id):\n",
    "    return [[word2id[token] for token in text if token in word2id]\n",
    "            for text in tokenized_texts]\n",
    "\n",
    "\n",
    "def build_vocabulary(tokenized_texts, max_size=1000000, max_doc_freq=0.8, min_count=5, pad_word=None):\n",
    "    word_counts = collections.defaultdict(int)\n",
    "    doc_n = 0\n",
    "\n",
    "    # посчитать количество документов, в которых употребляется каждое слово\n",
    "    # а также общее количество документов\n",
    "    for txt in tokenized_texts:\n",
    "        doc_n += 1\n",
    "        unique_text_tokens = set(txt)\n",
    "        for token in unique_text_tokens:\n",
    "            word_counts[token] += 1\n",
    "\n",
    "    # убрать слишком редкие и слишком частые слова\n",
    "    word_counts = {word: cnt for word, cnt in word_counts.items()\n",
    "                   if cnt >= min_count and cnt / doc_n <= max_doc_freq}\n",
    "\n",
    "    # отсортировать слова по убыванию частоты\n",
    "    sorted_word_counts = sorted(word_counts.items(),\n",
    "                                reverse=True,\n",
    "                                key=lambda pair: pair[1])\n",
    "\n",
    "    # добавим несуществующее слово с индексом 0 для удобства пакетной обработки\n",
    "    if pad_word is not None:\n",
    "        sorted_word_counts = [(pad_word, 0)] + sorted_word_counts\n",
    "\n",
    "    # если у нас по прежнему слишком много слов, оставить только max_size самых частотных\n",
    "    if len(word_counts) > max_size:\n",
    "        sorted_word_counts = sorted_word_counts[:max_size]\n",
    "\n",
    "    # нумеруем слова\n",
    "    word2id = {word: i for i, (word, _) in enumerate(sorted_word_counts)}\n",
    "\n",
    "    # нормируем частоты слов\n",
    "    word2freq = np.array([cnt / doc_n for _, cnt in sorted_word_counts], dtype='float32')\n",
    "\n",
    "    return word2id, word2freq\n",
    "\n",
    "\n",
    "PAD_TOKEN = '__PAD__'\n",
    "NUMERIC_TOKEN = '__NUMBER__'\n",
    "NUMERIC_RE = re.compile(r'^([0-9.,e+\\-]+|[mcxvi]+)$', re.I)\n",
    "\n",
    "\n",
    "def replace_number_nokens(tokenized_texts):\n",
    "    return [[token if not NUMERIC_RE.match(token) else NUMERIC_TOKEN for token in text]\n",
    "            for text in tokenized_texts]"
   ]
  },
  {
   "cell_type": "code",
   "execution_count": 9,
   "id": "c2fae2d3",
   "metadata": {},
   "outputs": [],
   "source": [
    "import numpy as np\n",
    "import scipy.sparse\n",
    "import torch\n",
    "from torch.utils.data import Dataset\n",
    "\n",
    "\n",
    "def vectorize_texts(tokenized_texts, word2id, word2freq, mode='tfidf', scale=True):\n",
    "    assert mode in {'tfidf', 'idf', 'tf', 'bin'}\n",
    "\n",
    "    # считаем количество употреблений каждого слова в каждом документе\n",
    "    result = scipy.sparse.dok_matrix((len(tokenized_texts), len(word2id)), dtype='float32')\n",
    "    for text_i, text in enumerate(tokenized_texts):\n",
    "        for token in text:\n",
    "            if token in word2id:\n",
    "                result[text_i, word2id[token]] += 1\n",
    "\n",
    "    # получаем бинарные вектора \"встречается или нет\"\n",
    "    if mode == 'bin':\n",
    "        result = (result > 0).astype('float32')\n",
    "\n",
    "    # получаем вектора относительных частот слова в документе\n",
    "    elif mode == 'tf':\n",
    "        result = result.tocsr()\n",
    "        result = result.multiply(1 / result.sum(1))\n",
    "\n",
    "    # полностью убираем информацию о количестве употреблений слова в данном документе,\n",
    "    # но оставляем информацию о частотности слова в корпусе в целом\n",
    "    elif mode == 'idf':\n",
    "        result = (result > 0).astype('float32').multiply(1 / word2freq)\n",
    "\n",
    "    # учитываем всю информацию, которая у нас есть:\n",
    "    # частоту слова в документе и частоту слова в корпусе\n",
    "    elif mode == 'tfidf':\n",
    "        result = result.tocsr()\n",
    "        result = result.multiply(1 / result.sum(1))  # разделить каждую строку на её длину\n",
    "        result = result.multiply(1 / word2freq)  # разделить каждый столбец на вес слова\n",
    "\n",
    "    if scale:\n",
    "        result = result.tocsc()\n",
    "        result -= result.min()\n",
    "        result /= (result.max() + 1e-6)\n",
    "\n",
    "    return result.tocsr()\n",
    "\n",
    "\n",
    "class SparseFeaturesDataset(Dataset):\n",
    "    def __init__(self, features, targets):\n",
    "        self.features = features\n",
    "        self.targets = targets\n",
    "\n",
    "    def __len__(self):\n",
    "        return self.features.shape[0]\n",
    "\n",
    "    def __getitem__(self, idx):\n",
    "        cur_features = torch.from_numpy(self.features[idx].toarray()[0]).float()\n",
    "        cur_label = torch.from_numpy(np.asarray(self.targets[idx])).long()\n",
    "        return cur_features, cur_label"
   ]
  },
  {
   "cell_type": "code",
   "execution_count": 10,
   "id": "ca96d5ed",
   "metadata": {},
   "outputs": [],
   "source": [
    "import pandas as pd\n",
    "df = pd.read_csv(\"data/telegram/bitkogan.csv\")"
   ]
  },
  {
   "cell_type": "code",
   "execution_count": 11,
   "id": "f89ba5a7",
   "metadata": {},
   "outputs": [
    {
     "data": {
      "text/html": [
       "<div>\n",
       "<style scoped>\n",
       "    .dataframe tbody tr th:only-of-type {\n",
       "        vertical-align: middle;\n",
       "    }\n",
       "\n",
       "    .dataframe tbody tr th {\n",
       "        vertical-align: top;\n",
       "    }\n",
       "\n",
       "    .dataframe thead th {\n",
       "        text-align: right;\n",
       "    }\n",
       "</style>\n",
       "<table border=\"1\" class=\"dataframe\">\n",
       "  <thead>\n",
       "    <tr style=\"text-align: right;\">\n",
       "      <th></th>\n",
       "      <th>date_start</th>\n",
       "      <th>pnl</th>\n",
       "      <th>pnl_sign</th>\n",
       "    </tr>\n",
       "  </thead>\n",
       "  <tbody>\n",
       "    <tr>\n",
       "      <th>0</th>\n",
       "      <td>2022-03-02</td>\n",
       "      <td>-8967.190672</td>\n",
       "      <td>0</td>\n",
       "    </tr>\n",
       "    <tr>\n",
       "      <th>1</th>\n",
       "      <td>2022-03-03</td>\n",
       "      <td>-12548.743088</td>\n",
       "      <td>0</td>\n",
       "    </tr>\n",
       "    <tr>\n",
       "      <th>2</th>\n",
       "      <td>2022-03-04</td>\n",
       "      <td>-15486.634276</td>\n",
       "      <td>0</td>\n",
       "    </tr>\n",
       "    <tr>\n",
       "      <th>3</th>\n",
       "      <td>2022-03-09</td>\n",
       "      <td>12709.989084</td>\n",
       "      <td>1</td>\n",
       "    </tr>\n",
       "    <tr>\n",
       "      <th>4</th>\n",
       "      <td>2022-03-10</td>\n",
       "      <td>4612.031243</td>\n",
       "      <td>1</td>\n",
       "    </tr>\n",
       "    <tr>\n",
       "      <th>...</th>\n",
       "      <td>...</td>\n",
       "      <td>...</td>\n",
       "      <td>...</td>\n",
       "    </tr>\n",
       "    <tr>\n",
       "      <th>91</th>\n",
       "      <td>2022-10-18</td>\n",
       "      <td>1318.776018</td>\n",
       "      <td>1</td>\n",
       "    </tr>\n",
       "    <tr>\n",
       "      <th>92</th>\n",
       "      <td>2022-10-19</td>\n",
       "      <td>-1381.633241</td>\n",
       "      <td>0</td>\n",
       "    </tr>\n",
       "    <tr>\n",
       "      <th>93</th>\n",
       "      <td>2022-10-20</td>\n",
       "      <td>-898.408314</td>\n",
       "      <td>0</td>\n",
       "    </tr>\n",
       "    <tr>\n",
       "      <th>94</th>\n",
       "      <td>2022-10-21</td>\n",
       "      <td>675.094148</td>\n",
       "      <td>1</td>\n",
       "    </tr>\n",
       "    <tr>\n",
       "      <th>95</th>\n",
       "      <td>2022-10-24</td>\n",
       "      <td>2042.855015</td>\n",
       "      <td>1</td>\n",
       "    </tr>\n",
       "  </tbody>\n",
       "</table>\n",
       "<p>96 rows × 3 columns</p>\n",
       "</div>"
      ],
      "text/plain": [
       "    date_start           pnl  pnl_sign\n",
       "0   2022-03-02  -8967.190672         0\n",
       "1   2022-03-03 -12548.743088         0\n",
       "2   2022-03-04 -15486.634276         0\n",
       "3   2022-03-09  12709.989084         1\n",
       "4   2022-03-10   4612.031243         1\n",
       "..         ...           ...       ...\n",
       "91  2022-10-18   1318.776018         1\n",
       "92  2022-10-19  -1381.633241         0\n",
       "93  2022-10-20   -898.408314         0\n",
       "94  2022-10-21    675.094148         1\n",
       "95  2022-10-24   2042.855015         1\n",
       "\n",
       "[96 rows x 3 columns]"
      ]
     },
     "execution_count": 11,
     "metadata": {},
     "output_type": "execute_result"
    }
   ],
   "source": [
    "pnl = pd.read_csv('data/pnl/Backtest_EURUSD_5_days.txt')\n",
    "pnl['date_start'] = pd.to_datetime(pnl['date_start']).dt.strftime('%Y-%m-%d')\n",
    "pnl['pnl_sign'] = pnl['pnl'].apply(lambda x: 1 if x >= 0 else 0)\n",
    "pnl"
   ]
  },
  {
   "cell_type": "code",
   "execution_count": 12,
   "id": "eb02d82b",
   "metadata": {},
   "outputs": [
    {
     "data": {
      "text/plain": [
       "0.4791666666666667"
      ]
     },
     "execution_count": 12,
     "metadata": {},
     "output_type": "execute_result"
    }
   ],
   "source": [
    "pnl['pnl_sign'].sum() / pnl.shape[0]"
   ]
  },
  {
   "cell_type": "code",
   "execution_count": 13,
   "id": "6178dca0",
   "metadata": {},
   "outputs": [
    {
     "data": {
      "text/html": [
       "<div>\n",
       "<style scoped>\n",
       "    .dataframe tbody tr th:only-of-type {\n",
       "        vertical-align: middle;\n",
       "    }\n",
       "\n",
       "    .dataframe tbody tr th {\n",
       "        vertical-align: top;\n",
       "    }\n",
       "\n",
       "    .dataframe thead th {\n",
       "        text-align: right;\n",
       "    }\n",
       "</style>\n",
       "<table border=\"1\" class=\"dataframe\">\n",
       "  <thead>\n",
       "    <tr style=\"text-align: right;\">\n",
       "      <th></th>\n",
       "      <th>date_start</th>\n",
       "      <th>pnl</th>\n",
       "      <th>pnl_sign</th>\n",
       "      <th>cumm_text</th>\n",
       "    </tr>\n",
       "  </thead>\n",
       "  <tbody>\n",
       "    <tr>\n",
       "      <th>0</th>\n",
       "      <td>2022-03-02</td>\n",
       "      <td>-8967.190672</td>\n",
       "      <td>0</td>\n",
       "      <td>None</td>\n",
       "    </tr>\n",
       "    <tr>\n",
       "      <th>1</th>\n",
       "      <td>2022-03-03</td>\n",
       "      <td>-12548.743088</td>\n",
       "      <td>0</td>\n",
       "      <td>None</td>\n",
       "    </tr>\n",
       "    <tr>\n",
       "      <th>2</th>\n",
       "      <td>2022-03-04</td>\n",
       "      <td>-15486.634276</td>\n",
       "      <td>0</td>\n",
       "      <td>None</td>\n",
       "    </tr>\n",
       "    <tr>\n",
       "      <th>3</th>\n",
       "      <td>2022-03-09</td>\n",
       "      <td>12709.989084</td>\n",
       "      <td>1</td>\n",
       "      <td>None</td>\n",
       "    </tr>\n",
       "    <tr>\n",
       "      <th>4</th>\n",
       "      <td>2022-03-10</td>\n",
       "      <td>4612.031243</td>\n",
       "      <td>1</td>\n",
       "      <td>None</td>\n",
       "    </tr>\n",
       "    <tr>\n",
       "      <th>...</th>\n",
       "      <td>...</td>\n",
       "      <td>...</td>\n",
       "      <td>...</td>\n",
       "      <td>...</td>\n",
       "    </tr>\n",
       "    <tr>\n",
       "      <th>91</th>\n",
       "      <td>2022-10-18</td>\n",
       "      <td>1318.776018</td>\n",
       "      <td>1</td>\n",
       "      <td>None</td>\n",
       "    </tr>\n",
       "    <tr>\n",
       "      <th>92</th>\n",
       "      <td>2022-10-19</td>\n",
       "      <td>-1381.633241</td>\n",
       "      <td>0</td>\n",
       "      <td>None</td>\n",
       "    </tr>\n",
       "    <tr>\n",
       "      <th>93</th>\n",
       "      <td>2022-10-20</td>\n",
       "      <td>-898.408314</td>\n",
       "      <td>0</td>\n",
       "      <td>None</td>\n",
       "    </tr>\n",
       "    <tr>\n",
       "      <th>94</th>\n",
       "      <td>2022-10-21</td>\n",
       "      <td>675.094148</td>\n",
       "      <td>1</td>\n",
       "      <td>None</td>\n",
       "    </tr>\n",
       "    <tr>\n",
       "      <th>95</th>\n",
       "      <td>2022-10-24</td>\n",
       "      <td>2042.855015</td>\n",
       "      <td>1</td>\n",
       "      <td>None</td>\n",
       "    </tr>\n",
       "  </tbody>\n",
       "</table>\n",
       "<p>96 rows × 4 columns</p>\n",
       "</div>"
      ],
      "text/plain": [
       "    date_start           pnl  pnl_sign cumm_text\n",
       "0   2022-03-02  -8967.190672         0      None\n",
       "1   2022-03-03 -12548.743088         0      None\n",
       "2   2022-03-04 -15486.634276         0      None\n",
       "3   2022-03-09  12709.989084         1      None\n",
       "4   2022-03-10   4612.031243         1      None\n",
       "..         ...           ...       ...       ...\n",
       "91  2022-10-18   1318.776018         1      None\n",
       "92  2022-10-19  -1381.633241         0      None\n",
       "93  2022-10-20   -898.408314         0      None\n",
       "94  2022-10-21    675.094148         1      None\n",
       "95  2022-10-24   2042.855015         1      None\n",
       "\n",
       "[96 rows x 4 columns]"
      ]
     },
     "execution_count": 13,
     "metadata": {},
     "output_type": "execute_result"
    }
   ],
   "source": [
    "pnl['cumm_text'] = None\n",
    "pnl"
   ]
  },
  {
   "cell_type": "code",
   "execution_count": 14,
   "id": "467d1f53",
   "metadata": {},
   "outputs": [
    {
     "data": {
      "text/html": [
       "<div>\n",
       "<style scoped>\n",
       "    .dataframe tbody tr th:only-of-type {\n",
       "        vertical-align: middle;\n",
       "    }\n",
       "\n",
       "    .dataframe tbody tr th {\n",
       "        vertical-align: top;\n",
       "    }\n",
       "\n",
       "    .dataframe thead th {\n",
       "        text-align: right;\n",
       "    }\n",
       "</style>\n",
       "<table border=\"1\" class=\"dataframe\">\n",
       "  <thead>\n",
       "    <tr style=\"text-align: right;\">\n",
       "      <th></th>\n",
       "      <th>id</th>\n",
       "      <th>date</th>\n",
       "      <th>text</th>\n",
       "    </tr>\n",
       "  </thead>\n",
       "  <tbody>\n",
       "    <tr>\n",
       "      <th>10792</th>\n",
       "      <td>16670</td>\n",
       "      <td>2022-03-02T09:14:20</td>\n",
       "      <td>Доброе утро, друзья . Смешными сегодня выглядя...</td>\n",
       "    </tr>\n",
       "    <tr>\n",
       "      <th>10793</th>\n",
       "      <td>16671</td>\n",
       "      <td>2022-03-02T10:25:22</td>\n",
       "      <td>Друзья! События в мире разворачиваются с такой...</td>\n",
       "    </tr>\n",
       "    <tr>\n",
       "      <th>10794</th>\n",
       "      <td>16672</td>\n",
       "      <td>2022-03-02T11:26:38</td>\n",
       "      <td>Сейчас мы наблюдаем огромные дисбалансы на рын...</td>\n",
       "    </tr>\n",
       "    <tr>\n",
       "      <th>10795</th>\n",
       "      <td>16673</td>\n",
       "      <td>2022-03-02T11:30:29</td>\n",
       "      <td>Друзья, внеочередной эфир с Дмитрием Абзаловым...</td>\n",
       "    </tr>\n",
       "    <tr>\n",
       "      <th>10796</th>\n",
       "      <td>16674</td>\n",
       "      <td>2022-03-02T13:10:13</td>\n",
       "      <td>«Северсталь»: стальной занавес  «Северсталь» (...</td>\n",
       "    </tr>\n",
       "    <tr>\n",
       "      <th>...</th>\n",
       "      <td>...</td>\n",
       "      <td>...</td>\n",
       "      <td>...</td>\n",
       "    </tr>\n",
       "    <tr>\n",
       "      <th>12894</th>\n",
       "      <td>19462</td>\n",
       "      <td>2022-10-31T15:00:40</td>\n",
       "      <td>Казахстан: лавировать или не вылавировать?   Н...</td>\n",
       "    </tr>\n",
       "    <tr>\n",
       "      <th>12895</th>\n",
       "      <td>19463</td>\n",
       "      <td>2022-10-31T16:01:07</td>\n",
       "      <td>📺  Релокация в Дубай: преимущества для бизнеса...</td>\n",
       "    </tr>\n",
       "    <tr>\n",
       "      <th>12896</th>\n",
       "      <td>19464</td>\n",
       "      <td>2022-10-31T17:00:15</td>\n",
       "      <td>Рекордное снижение электропотребления  Это важ...</td>\n",
       "    </tr>\n",
       "    <tr>\n",
       "      <th>12897</th>\n",
       "      <td>19465</td>\n",
       "      <td>2022-10-31T18:20:53</td>\n",
       "      <td>К нам в личку часто обращаются на тему переезд...</td>\n",
       "    </tr>\n",
       "    <tr>\n",
       "      <th>12898</th>\n",
       "      <td>19466</td>\n",
       "      <td>2022-10-31T19:30:07</td>\n",
       "      <td>Когда золото снова начнет дорожать? И начнет л...</td>\n",
       "    </tr>\n",
       "  </tbody>\n",
       "</table>\n",
       "<p>2107 rows × 3 columns</p>\n",
       "</div>"
      ],
      "text/plain": [
       "          id                 date  \\\n",
       "10792  16670  2022-03-02T09:14:20   \n",
       "10793  16671  2022-03-02T10:25:22   \n",
       "10794  16672  2022-03-02T11:26:38   \n",
       "10795  16673  2022-03-02T11:30:29   \n",
       "10796  16674  2022-03-02T13:10:13   \n",
       "...      ...                  ...   \n",
       "12894  19462  2022-10-31T15:00:40   \n",
       "12895  19463  2022-10-31T16:01:07   \n",
       "12896  19464  2022-10-31T17:00:15   \n",
       "12897  19465  2022-10-31T18:20:53   \n",
       "12898  19466  2022-10-31T19:30:07   \n",
       "\n",
       "                                                    text  \n",
       "10792  Доброе утро, друзья . Смешными сегодня выглядя...  \n",
       "10793  Друзья! События в мире разворачиваются с такой...  \n",
       "10794  Сейчас мы наблюдаем огромные дисбалансы на рын...  \n",
       "10795  Друзья, внеочередной эфир с Дмитрием Абзаловым...  \n",
       "10796  «Северсталь»: стальной занавес  «Северсталь» (...  \n",
       "...                                                  ...  \n",
       "12894  Казахстан: лавировать или не вылавировать?   Н...  \n",
       "12895  📺  Релокация в Дубай: преимущества для бизнеса...  \n",
       "12896  Рекордное снижение электропотребления  Это важ...  \n",
       "12897  К нам в личку часто обращаются на тему переезд...  \n",
       "12898  Когда золото снова начнет дорожать? И начнет л...  \n",
       "\n",
       "[2107 rows x 3 columns]"
      ]
     },
     "execution_count": 14,
     "metadata": {},
     "output_type": "execute_result"
    }
   ],
   "source": [
    "df_with_pnl = df[(df['date'] >= '2022-03-02') & (df['date'] <= '2022-11-01')]\n",
    "df_with_pnl"
   ]
  },
  {
   "cell_type": "code",
   "execution_count": 15,
   "id": "b0f48cc1",
   "metadata": {},
   "outputs": [],
   "source": [
    "i = 0\n",
    "texts = ''\n",
    "for _,row in df.iterrows():\n",
    "    if i >= pnl.shape[0]:\n",
    "        break\n",
    "\n",
    "    if row['date'] <= pnl['date_start'][i]:\n",
    "        texts += ' ' + row['text']\n",
    "    else:\n",
    "        pnl.at[i,'cumm_text'] = texts\n",
    "        texts = ''\n",
    "        i += 1\n",
    "        continue"
   ]
  },
  {
   "cell_type": "code",
   "execution_count": 16,
   "id": "095659f6",
   "metadata": {},
   "outputs": [
    {
     "data": {
      "text/html": [
       "<div>\n",
       "<style scoped>\n",
       "    .dataframe tbody tr th:only-of-type {\n",
       "        vertical-align: middle;\n",
       "    }\n",
       "\n",
       "    .dataframe tbody tr th {\n",
       "        vertical-align: top;\n",
       "    }\n",
       "\n",
       "    .dataframe thead th {\n",
       "        text-align: right;\n",
       "    }\n",
       "</style>\n",
       "<table border=\"1\" class=\"dataframe\">\n",
       "  <thead>\n",
       "    <tr style=\"text-align: right;\">\n",
       "      <th></th>\n",
       "      <th>date_start</th>\n",
       "      <th>pnl</th>\n",
       "      <th>pnl_sign</th>\n",
       "      <th>cumm_text</th>\n",
       "    </tr>\n",
       "  </thead>\n",
       "  <tbody>\n",
       "    <tr>\n",
       "      <th>0</th>\n",
       "      <td>2022-03-02</td>\n",
       "      <td>-8967.190672</td>\n",
       "      <td>0</td>\n",
       "      <td>из российских биржевых идеек я бы посмотрел с...</td>\n",
       "    </tr>\n",
       "    <tr>\n",
       "      <th>1</th>\n",
       "      <td>2022-03-03</td>\n",
       "      <td>-12548.743088</td>\n",
       "      <td>0</td>\n",
       "      <td>Друзья! События в мире разворачиваются с тако...</td>\n",
       "    </tr>\n",
       "    <tr>\n",
       "      <th>2</th>\n",
       "      <td>2022-03-04</td>\n",
       "      <td>-15486.634276</td>\n",
       "      <td>0</td>\n",
       "      <td>Fitch. Что за диверсия?  В Fitch  опасаются ,...</td>\n",
       "    </tr>\n",
       "    <tr>\n",
       "      <th>3</th>\n",
       "      <td>2022-03-09</td>\n",
       "      <td>12709.989084</td>\n",
       "      <td>1</td>\n",
       "      <td>Как все вышеперечисленное влияет на жизнь кон...</td>\n",
       "    </tr>\n",
       "    <tr>\n",
       "      <th>4</th>\n",
       "      <td>2022-03-10</td>\n",
       "      <td>4612.031243</td>\n",
       "      <td>1</td>\n",
       "      <td>Дорогая российская власть!\\n(В свете последни...</td>\n",
       "    </tr>\n",
       "    <tr>\n",
       "      <th>...</th>\n",
       "      <td>...</td>\n",
       "      <td>...</td>\n",
       "      <td>...</td>\n",
       "      <td>...</td>\n",
       "    </tr>\n",
       "    <tr>\n",
       "      <th>91</th>\n",
       "      <td>2022-10-18</td>\n",
       "      <td>1318.776018</td>\n",
       "      <td>1</td>\n",
       "      <td>Курс доллара относительно:\\n1. Китайского юан...</td>\n",
       "    </tr>\n",
       "    <tr>\n",
       "      <th>92</th>\n",
       "      <td>2022-10-19</td>\n",
       "      <td>-1381.633241</td>\n",
       "      <td>0</td>\n",
       "      <td>График индекса DXY  @bitkogan  Доходность 10-...</td>\n",
       "    </tr>\n",
       "    <tr>\n",
       "      <th>93</th>\n",
       "      <td>2022-10-20</td>\n",
       "      <td>-898.408314</td>\n",
       "      <td>0</td>\n",
       "      <td>На рынках продолжается фиеста  Великобритании...</td>\n",
       "    </tr>\n",
       "    <tr>\n",
       "      <th>94</th>\n",
       "      <td>2022-10-21</td>\n",
       "      <td>675.094148</td>\n",
       "      <td>1</td>\n",
       "      <td>А теперь о рынках. Что интересного там?▪️Инде...</td>\n",
       "    </tr>\n",
       "    <tr>\n",
       "      <th>95</th>\n",
       "      <td>2022-10-24</td>\n",
       "      <td>2042.855015</td>\n",
       "      <td>1</td>\n",
       "      <td>Еще немного о рынках.  Всемирно известный эко...</td>\n",
       "    </tr>\n",
       "  </tbody>\n",
       "</table>\n",
       "<p>96 rows × 4 columns</p>\n",
       "</div>"
      ],
      "text/plain": [
       "    date_start           pnl  pnl_sign  \\\n",
       "0   2022-03-02  -8967.190672         0   \n",
       "1   2022-03-03 -12548.743088         0   \n",
       "2   2022-03-04 -15486.634276         0   \n",
       "3   2022-03-09  12709.989084         1   \n",
       "4   2022-03-10   4612.031243         1   \n",
       "..         ...           ...       ...   \n",
       "91  2022-10-18   1318.776018         1   \n",
       "92  2022-10-19  -1381.633241         0   \n",
       "93  2022-10-20   -898.408314         0   \n",
       "94  2022-10-21    675.094148         1   \n",
       "95  2022-10-24   2042.855015         1   \n",
       "\n",
       "                                            cumm_text  \n",
       "0    из российских биржевых идеек я бы посмотрел с...  \n",
       "1    Друзья! События в мире разворачиваются с тако...  \n",
       "2    Fitch. Что за диверсия?  В Fitch  опасаются ,...  \n",
       "3    Как все вышеперечисленное влияет на жизнь кон...  \n",
       "4    Дорогая российская власть!\\n(В свете последни...  \n",
       "..                                                ...  \n",
       "91   Курс доллара относительно:\\n1. Китайского юан...  \n",
       "92   График индекса DXY  @bitkogan  Доходность 10-...  \n",
       "93   На рынках продолжается фиеста  Великобритании...  \n",
       "94   А теперь о рынках. Что интересного там?▪️Инде...  \n",
       "95   Еще немного о рынках.  Всемирно известный эко...  \n",
       "\n",
       "[96 rows x 4 columns]"
      ]
     },
     "execution_count": 16,
     "metadata": {},
     "output_type": "execute_result"
    }
   ],
   "source": [
    "pnl"
   ]
  },
  {
   "cell_type": "code",
   "execution_count": 40,
   "id": "87355565",
   "metadata": {},
   "outputs": [],
   "source": [
    "from sklearn.model_selection import train_test_split\n",
    "train, val = train_test_split(pnl)"
   ]
  },
  {
   "cell_type": "code",
   "execution_count": 41,
   "id": "6a5050cc",
   "metadata": {},
   "outputs": [],
   "source": [
    "train_tokenized = tokenize_corpus(train['cumm_text'])\n",
    "val_tokenized = tokenize_corpus(val['cumm_text'])"
   ]
  },
  {
   "cell_type": "code",
   "execution_count": 21,
   "id": "515bcdc8",
   "metadata": {},
   "outputs": [
    {
     "name": "stdout",
     "output_type": "stream",
     "text": [
      "интересное интервью министра финансов вышло вчера газете ведомости ничего особенно нового неожиданного вами впрочем узрели если только намек возможно дальнейшем практика выплаты дивидендов газпромом будет возобновлена никто отменял общий подход компании госучастием должны делиться прибылью через дивиденды отказываемся принципа выплат акционерам половины чистой прибыли мсфо одной стороны источник пополнения бюджета другой мотивация менеджмента более эффективно распоряжаться оставшейся частью прибыли временный отказ дивидендов отнюдь означает следующие годы такая практика будет продолжена акционеры должны понимать сохранение ресурсов инвестиционного развития наоборот даст больше возможностей получать хорошие доходности будущем такой логикой руководствовались касается других госкомпаний числе нефтегазового сектора выплатят этом году акционерам рекордные дивиденды забавный момент одной стороны говорится вместо выплаты дивидендов государство решило этот изъять средства госкорпорации виде налогов решения вопросов социальной поддержки граждан реализацию стабилизации экономики другой того чтобы газпрома сохранились ресурсы осуществления инвестиционных проектов таких газификация внутри страны строительство газопровода китай союз восток было решено оставить прибыль компании целиком пытаюсь осознать изъяли чтобы оставить оставили чтобы изъять быть видать министром научился замечательно выражать свои мысли впрочем особо туда стремлюсь касается рубля мысли насчет элегантности бывшего бюджетного правила спорил особенно если средства резервы кидали потом дорог сетей всей необъятной понастроили привели надежд недолго жить рубле подтверждена идея торговли рубли отказа широкого использования токсичных валют очередной прозвучал намек скорые интервенции через дружественные валюты названия которых господин силуанов впрочем сообщать отказался правильно фига интересуется пусть гуглит заодно политическую географию подтянет валютами дружественных стран проблем поэтому если принимать решение возобновлении бюджетного правила интервенции должны производиться только таких валютах тогда через кросс курсы будет меняться отношение рубля доллару евро конкретные валюты хотел называть бюджетном правиле иных валютах должна быть системная мера короче понятно юанями закупаемся всерьёз надолго самом деле слова системную меру важные интересно когда начнем начали далее насчет всяческого стимулирования расчетов рублях здесь целом понятно насчет поддержки экономики знаете минфин предложил приоритизировать действующих расходов сэкономленные средства будут направлены новые цели задачи прежде всего поддержка людей бизнеса сфер отраслей которые пострадали санкций приняты решения сектору производителям радиоэлектроники поддержим другие направления автомобильную авиационную промышленность производство создание технологий которые раньше приобретались импорту будем задействовать этого новые инструменты например промышленные парки льготными условиями налогообложения стоимостью кредитных ресурсов прям душевно осталась мелочь перейти слов делу интересно дума ради всего этого внезапно решила собраться пятницу россия bitkogan тысячных процента историческое событие паритет евро доллара случится дальше видимо будем показывать график другую сторону доллар против евро доллар теперь будет крепче валюты bitkogan угрожают ростом давления иран словам салливана ирана есть выбор может либо вернуться выполнению ядерной сделки либо столкнется растущим давлением стороны увеличивающейся изоляцией стороны международного сообщества интересно куда дальше отключат swift заблокируют резервы погодите опции использовали надо включить фантазию американцы могут сделать отключить ирану предать анафеме иранская ядерная сделка находит выхода тупика маловероятно иран пойдет драконовские ограничения которые заставили соседей поверить искренность намерений отказаться создания бомбы компромиссные варианты устроят саудовскую аравию израиль значит которые сейчас меньше всего хотели ссориться ними видимо штатам придется подключить грани воображения каким образом увеличить давление иран этим будем внимательно наблюдать чтобы знать чему готовиться будущем иран санкции геополитика bitkogan petropavlovsk конец золотой истории petropavlovsk запускает процедуру несостоятельности назначая внешних управляющих означает временно приостанавливается листинг лондонской бирже торгов снимаются конвертируемые евробонды 2024 временем предлагается снять торгов акции московской бирже евробонды 2022 предполагали ситуация компании идет негативному сценарию этом неоднократно предупреждали писали канале сервисе подписке бумаги избавились достаточно давно упала почти акции bitkogan ашинский сильная динамика относительно слабого рынка ашинский металлургический завод является классической историей второго эшелона когда иные бумаги показывают непредсказуемую сильную динамику сторону роста нашем кейсе сторону падения этом отмечаем другие металлурги российский фондовый рынок целом показывают падающую динамику время ашинский моменте более отсутствии каких либо корпоративных новостей подобные кейсы будем рассматривать ходе сегодняшней вечерней лекции сервисе подписке которая состоится помимо всего прочего расскажем особенностях торговли вторым эшелоном российском рынке присоединяйтесь следите последующими обновлениями акции bitkogan после встречи путина губернатором московской области некоторые активно подхватили тему закредитованности подмосковья встрече президент отметил займы региона достаточно высокие действительно абсолютному значению госдолга московская область первом месте среди субъектов млрд менее долговая нагрузка отношению доходам бюджета составляет около судя рейтингу конец 2021 мособласть месте равно немало такой долг выглядит вполне себе устойчивым ряду причин многим позициям регион находится очень хорошем уровне данным росстата январь 2022 обрабатывающие производства регионе прибавили отгруженных товаров собственного производства обработке стало больше объем работ выполненных строительстве январь вырос объем платных услуг первые месяцев прибавил писали инвестиционный климат субъекте этом году резко улучшился частности счет снижения регуляторах барьеров полгода словам губернатора доходы бюджета подмосковья выросли вероятно отношение долга доходам итогам 2022 будет ниже сейчас иными словами проводится работа снижению долговой нагрузки позитивный сигнал брать долг плохо только когда деньги идут развитие конкретно встрече речь именно каждый строится школ цифровизация полным ходом услуг можно получать онлайн реализуются проекта импортозамещения планах нужно смотреть цифры если видно развитие долговая нагрузка выше среднего принципиально принципиален факт регион последние несколько действительно прошел большой путь фоне многих других субъектов смотрится весьма неплохо bitkogan купить недвижимость дубае друзья прошедшем вебинаре валюта делать затронули тему дубайской недвижимости ответ получили просьб посодействовать покупке оной давая рекомендацию покупке такого уровня хочется иметь полную уверенность человек воспользовавшийся советом получит именно обещали поэтому связался давно зарекомендовавшими себя бизнес партнерами дубая решили создать новый совместный проект кратко компании palladium group dubai компания экспертизой недвижимости консалтинге всех подписчиков этого канала стоимость услуг покупке недвижимости равна нулю принципиальная позиция крайне хотел чтобы наши соотечественники либо платили пусть комиссии платят продавцы компания работает партнёрских условиях более топовыми застройщиками дубая предоставит свою экспертизу более проектам получите гарантированную цену застройщика отличие покупки напрямую когда сотрудники застройщика имеют права советовать иные проекты здесь наши менеджеры смогут выбрать оптимальный вариант вложений проконсультировать объяснить почему иной объект имеет хороший потенциал подходит именно palladium group dubai сопровождает сделку оплаты перевода средств получения вами резидентской визы форма оплаты любая разрешённая рамках местного законодательства будут ждать приятные бонусы такие встреча аэропорту показ объектов упрощенное получение полное сопровождение сделки помощь переводе средств разные другие приятные мелочи дубая большая редкость желании сделку можно провести личного присутствия дубае почему дубай дубай оазис экономической пустыне прогнозируют ростом сделки недвижимостью растут дрожжах туристы даже этим жарким летом прилетают отдых открытие компаний получение дубае сегодня обосновалось большое количество наших соотечественников этот арабский эмират выглядит самым международным анклавом мире находясь меня покидает ощущение вавилоне огромное количество языков представителей самых разных стран континентов очень спокойно уживаются друг другом кстати осенью цены пойдут выше отели недвижимость доллар тому времени может неплохо укрепиться сейчас свифты скрипом ходят цены растут потенциал просто огромный время самое самое воспользоваться сервисом пройти palladiumgroupuaebot выбрать услугу покупка недвижимости ответить несколько вопросов которые помогут подобрать оптимальные варианты ваши нужды ждать оперативного сообщения менеджера помимо сопровождения сделок покупке недвижимости будем предлагать другие полезные российских инвесторов услуги этом расскажу отдельно недвижимость дубай bitkogan рассказал почему рубль такой крепкий именно представил первую оценку платежного баланса квартал платежный баланс показывает движение поступающего россию капитала исходящего знаком отражается приток денег знаком отток соответственно именно платежный баланс определяет спрос рубль следствие курс начнем счета текущих операций спойлер закончим показывает движение денег результате экспорта знаком импорта знаком также потоков факторных доходов между странами самое важное торговый баланс экспорт вычетом импорта россии исторически положительный экспортируем высокую долю мировых нефти газа причем российский торговый баланс настолько высокий вытягивает плюс весь платежный баланс сейчас ситуация особая квартале импорт ниже годом ранее причина санкциях этом экспорт выше годом ранее несмотря санкции высоких сырье результате торговый баланс оказался раза выше годом ранее высокий торговый баланс обозначает объем выручки экспортеров переводимой рубли сильно выше выручка импортеров которые рубли продают сохраняющийся высокий торговый баланс объясняет наблюдаемую сейчас крепость рубля счет операций капиталом показывающий международные потоки результате инвестиций значительного влияния курс оказал сохранился около нуля видим высокая цена нефть привели необычайно высокому спросу рубли целом такая ситуация будет судя всему сохраняться продолжительное время если геополитическая ситуация останется прежней менее следующем году ожидаем импорт начнет восстанавливаться экспорт снижаться будет приводить снижению курса рубля пока минфин делает рубль дешевле счет валютных интервенций тоже неплохой вариант экспорт импорт bitkogan\n"
     ]
    }
   ],
   "source": [
    "print(' '.join(train_tokenized[0]))"
   ]
  },
  {
   "cell_type": "code",
   "execution_count": 22,
   "id": "d21450b9",
   "metadata": {},
   "outputs": [
    {
     "name": "stdout",
     "output_type": "stream",
     "text": [
      "Количество уникальных токенов 5471\n",
      "[('2022', 0), ('почему', 1), ('российских', 2), ('вполне', 3), ('было', 4), ('здесь', 5), ('стороны', 6), ('других', 7), ('например', 8), ('скорее', 9)]\n"
     ]
    }
   ],
   "source": [
    "# строим словарь - vocabulary с помощью функции build_vocabulary\n",
    "# принимает на вход список списков токенезированные\n",
    "# word_doc_freq - содержит относительные частоты всех слов в датасете, он понадобиться \n",
    "# на этапе формирования матрицы признаков\n",
    "\n",
    "MAX_DF = 0.8 #во скольких документах встречаеться слово\n",
    "MIN_COUNT = 5 # сколько раз слово встречаеться в тексте\n",
    "\n",
    "\n",
    "vocabulary, word_doc_freq = build_vocabulary(train_tokenized, max_doc_freq=MAX_DF, min_count=MIN_COUNT)\n",
    "UNIQUE_WORDS_N = len(vocabulary)\n",
    "print('Количество уникальных токенов', UNIQUE_WORDS_N)\n",
    "print(list(vocabulary.items())[:10])"
   ]
  },
  {
   "cell_type": "code",
   "execution_count": 23,
   "id": "49502d4a",
   "metadata": {},
   "outputs": [
    {
     "data": {
      "image/png": "[encoded data removed]",
      "text/plain": [
       "<Figure size 432x288 with 1 Axes>"
      ]
     },
     "metadata": {
      "needs_background": "light"
     },
     "output_type": "display_data"
    }
   ],
   "source": [
    "plt.hist(word_doc_freq, bins=20)\n",
    "plt.title('Распределение относительных частот слов')\n",
    "plt.yscale('log');"
   ]
  },
  {
   "cell_type": "code",
   "execution_count": 24,
   "id": "8adcfc64",
   "metadata": {},
   "outputs": [
    {
     "name": "stdout",
     "output_type": "stream",
     "text": [
      "Размерность матрицы признаков обучающей выборки (72, 5471)\n",
      "\n",
      "Количество ненулевых элементов в обучающей выборке 63647\n",
      "Процент заполненности матрицы признаков 16.16%\n",
      "\n"
     ]
    }
   ],
   "source": [
    "VECTORIZATION_MODE = 'tfidf'\n",
    "# построение матрицы признаков по методу мешка слов\n",
    "# функция vectorize_texts принимает на вход\n",
    "#1. токенизированные список списков\n",
    "#2. словарь\n",
    "#3. вектор частоты токенизированны\n",
    "#4. алгоритм взвешивания токенов по частоте mode - есть 4 алгорима - bin,tf,idf,tfidf\n",
    "#5. флаг чтобы перемаштабировать флаг после взвешивания\n",
    "\n",
    "train_vectors = vectorize_texts(train_tokenized, vocabulary, word_doc_freq, mode=VECTORIZATION_MODE)\n",
    "\n",
    "print('Размерность матрицы признаков обучающей выборки', train_vectors.shape)\n",
    "print()\n",
    "print('Количество ненулевых элементов в обучающей выборке', train_vectors.nnz)\n",
    "print('Процент заполненности матрицы признаков {:.2f}%'.format(train_vectors.nnz * 100 / (train_vectors.shape[0] * train_vectors.shape[1])))\n",
    "print()\n"
   ]
  },
  {
   "cell_type": "code",
   "execution_count": 25,
   "id": "37703aa0",
   "metadata": {},
   "outputs": [
    {
     "data": {
      "image/png": "[encoded data removed]",
      "text/plain": [
       "<Figure size 432x288 with 1 Axes>"
      ]
     },
     "metadata": {
      "needs_background": "light"
     },
     "output_type": "display_data"
    }
   ],
   "source": [
    "plt.hist(train_vectors.data, bins=20)\n",
    "plt.title('Распределение весов признаков')\n",
    "plt.yscale('log');"
   ]
  },
  {
   "cell_type": "code",
   "execution_count": null,
   "id": "22c52193",
   "metadata": {},
   "outputs": [],
   "source": [
    "#word2vec"
   ]
  },
  {
   "cell_type": "code",
   "execution_count": 28,
   "id": "d0905a5b",
   "metadata": {},
   "outputs": [],
   "source": [
    "from gensim.models import Word2Vec"
   ]
  },
  {
   "cell_type": "code",
   "execution_count": null,
   "id": "b142cc83",
   "metadata": {},
   "outputs": [],
   "source": [
    "train_vectors"
   ]
  },
  {
   "cell_type": "code",
   "execution_count": 29,
   "id": "bb7c622e",
   "metadata": {},
   "outputs": [
    {
     "name": "stdout",
     "output_type": "stream",
     "text": [
      "semeval-2016-2017-task3-subtaskBC\n",
      "semeval-2016-2017-task3-subtaskA-unannotated\n",
      "patent-2017\n",
      "quora-duplicate-questions\n",
      "wiki-english-20171001\n",
      "text8\n",
      "fake-news\n",
      "20-newsgroups\n",
      "__testing_matrix-synopsis\n",
      "__testing_multipart-matrix-synopsis\n",
      "fasttext-wiki-news-subwords-300\n",
      "conceptnet-numberbatch-17-06-300\n",
      "word2vec-ruscorpora-300\n",
      "word2vec-google-news-300\n",
      "glove-wiki-gigaword-50\n",
      "glove-wiki-gigaword-100\n",
      "glove-wiki-gigaword-200\n",
      "glove-wiki-gigaword-300\n",
      "glove-twitter-25\n",
      "glove-twitter-50\n",
      "glove-twitter-100\n",
      "glove-twitter-200\n",
      "__testing_word2vec-matrix-synopsis\n"
     ]
    }
   ],
   "source": [
    "import gensim.downloader as api\n",
    "for k, v in api.info().items():\n",
    "    for k1, v1 in v.items():\n",
    "        print(k1)"
   ]
  },
  {
   "cell_type": "code",
   "execution_count": 31,
   "id": "f75a3b09",
   "metadata": {},
   "outputs": [],
   "source": [
    "model_t1 = api.load('glove-twitter-200')"
   ]
  },
  {
   "cell_type": "code",
   "execution_count": 32,
   "id": "499b448c",
   "metadata": {},
   "outputs": [],
   "source": [
    "model_t = api.load('glove-twitter-100')"
   ]
  },
  {
   "cell_type": "code",
   "execution_count": 42,
   "id": "e0d602e8",
   "metadata": {},
   "outputs": [],
   "source": [
    "from gensim import utils\n",
    "\n",
    "def get_vectors_gt100(row):\n",
    "    '''\n",
    "      word_doc_freq # частоты слов\n",
    "      train_tokenized #сами слова\n",
    "    '''\n",
    "    vecs = [np.zeros(100)]\n",
    "    for word in row:\n",
    "        #print(row)\n",
    "        try: \n",
    "            # если слово есть в нашем очищенном словаре\n",
    "            # умножаем вектор на вес tfidf\n",
    "            v = model_t[word] * word_doc_freq[vocabulary[word]] \n",
    "        except:\n",
    "            v = np.zeros(100)\n",
    "        vecs.append(v)\n",
    "    return np.sum(np.array(vecs),axis=0)"
   ]
  },
  {
   "cell_type": "code",
   "execution_count": 34,
   "id": "681eaebb",
   "metadata": {},
   "outputs": [],
   "source": [
    "train_vectors_gt100 = np.array([get_vectors_gt100(i) for i in train_tokenized])\n",
    "val_vectors_gt100 = np.array([get_vectors_gt100(i) for i in val_tokenized])"
   ]
  },
  {
   "cell_type": "code",
   "execution_count": 35,
   "id": "cc476d77",
   "metadata": {},
   "outputs": [
    {
     "data": {
      "text/plain": [
       "array([[  62.15839189,  -63.21922285, -105.91227319, ..., -205.42726975,\n",
       "          44.82203683,    6.84138069],\n",
       "       [ 124.1333886 , -102.96359485, -196.26432118, ..., -415.49691396,\n",
       "         132.21537886,  -32.93126101],\n",
       "       [ 139.34854342, -140.95980632, -227.3028008 , ..., -457.9839417 ,\n",
       "         145.39665561,   -9.0256243 ],\n",
       "       ...,\n",
       "       [  75.54205513,  -68.052064  , -104.5486739 , ..., -216.25368194,\n",
       "          63.29629846,  -11.41644144],\n",
       "       [  65.54582968,  -79.81188237, -107.77952763, ..., -238.52644165,\n",
       "          44.43463729,    4.62543546],\n",
       "       [ 109.52017495,  -99.40051308, -156.6857205 , ..., -235.62746676,\n",
       "          44.44059635,    6.50635326]])"
      ]
     },
     "execution_count": 35,
     "metadata": {},
     "output_type": "execute_result"
    }
   ],
   "source": [
    "train_vectors_gt100"
   ]
  },
  {
   "cell_type": "code",
   "execution_count": 43,
   "id": "f199ed80",
   "metadata": {},
   "outputs": [
    {
     "data": {
      "text/plain": [
       "[('российский', 0.5974039435386658)]"
      ]
     },
     "execution_count": 43,
     "metadata": {},
     "output_type": "execute_result"
    }
   ],
   "source": [
    "model_t1.most_similar(positive=['инвестор', 'рынок'], topn=1)"
   ]
  },
  {
   "cell_type": "code",
   "execution_count": 44,
   "id": "89f491d3",
   "metadata": {},
   "outputs": [
    {
     "data": {
      "text/plain": [
       "[('аналитик', 0.7176759243011475)]"
      ]
     },
     "execution_count": 44,
     "metadata": {},
     "output_type": "execute_result"
    }
   ],
   "source": [
    "model_t.most_similar(positive=['инвестор', 'рынок'], topn=1)"
   ]
  },
  {
   "cell_type": "code",
   "execution_count": 45,
   "id": "1670a138",
   "metadata": {},
   "outputs": [],
   "source": [
    "y_train = train['pnl_sign']\n",
    "X_train = train_vectors_gt100\n",
    "\n",
    "y_val = val['pnl_sign']\n",
    "X_val = val_vectors_gt100"
   ]
  },
  {
   "cell_type": "code",
   "execution_count": 48,
   "id": "2770ca07",
   "metadata": {},
   "outputs": [
    {
     "data": {
      "text/plain": [
       "0.5"
      ]
     },
     "execution_count": 48,
     "metadata": {},
     "output_type": "execute_result"
    }
   ],
   "source": [
    "from sklearn.metrics import accuracy_score\n",
    "from sklearn.linear_model import LogisticRegression\n",
    "\n",
    "model = LogisticRegression()\n",
    "model.fit(X_train, y_train)\n",
    "model.score(X_val, y_val)"
   ]
  }
 ],
 "metadata": {
  "kernelspec": {
   "display_name": "Python 3 (ipykernel)",
   "language": "python",
   "name": "python3"
  },
  "language_info": {
   "codemirror_mode": {
    "name": "ipython",
    "version": 3
   },
   "file_extension": ".py",
   "mimetype": "text/x-python",
   "name": "python",
   "nbconvert_exporter": "python",
   "pygments_lexer": "ipython3",
   "version": "3.10.4"
  }
 },
 "nbformat": 4,
 "nbformat_minor": 5
}
